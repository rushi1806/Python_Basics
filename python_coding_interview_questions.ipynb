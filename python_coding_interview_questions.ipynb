{
 "cells": [
  {
   "cell_type": "code",
   "execution_count": null,
   "metadata": {},
   "outputs": [],
   "source": []
  },
  {
   "cell_type": "markdown",
   "metadata": {},
   "source": [
    "Write a program to write fibonacci series in python"
   ]
  },
  {
   "cell_type": "code",
   "execution_count": 1,
   "metadata": {},
   "outputs": [],
   "source": [
    "# Definition:\n",
    "\n",
    "# The Fibonacci series is a sequence of numbers in which each number is the sum of the two preceding numbers:\n",
    "\n",
    "# 0, 1, 1, 2, 3, 5, 8, 13, 21, 34, 55, 89, 144, ...\n",
    "\n",
    "# Recurrence Relation:\n",
    "\n",
    "# The Fibonacci series satisfies the recurrence relation:\n",
    "\n",
    "# F(n) = F(n-1) + F(n-2)\n",
    "\n",
    "# where F(n) is the nth Fibonacci number."
   ]
  },
  {
   "cell_type": "markdown",
   "metadata": {},
   "source": [
    "##### First Apporach:"
   ]
  },
  {
   "cell_type": "code",
   "execution_count": 4,
   "metadata": {},
   "outputs": [
    {
     "name": "stdout",
     "output_type": "stream",
     "text": [
      "[0, 1, 1, 2, 3, 5, 8, 13]\n"
     ]
    }
   ],
   "source": [
    "def fibonacci(n):\n",
    "    fib_series = [0, 1]\n",
    "    while len(fib_series) < n:\n",
    "        fib_series.append(fib_series[-1] + fib_series[-2])\n",
    "    return fib_series\n",
    "\n",
    "n = int(input(\"Enter the number of terms: \"))\n",
    "print(fibonacci(n))\n"
   ]
  },
  {
   "cell_type": "markdown",
   "metadata": {},
   "source": [
    "##### Second Apporach"
   ]
  },
  {
   "cell_type": "code",
   "execution_count": 10,
   "metadata": {},
   "outputs": [
    {
     "name": "stdout",
     "output_type": "stream",
     "text": [
      "0 1 1 2 3 5 8 13 21 "
     ]
    }
   ],
   "source": [
    "def fibonacci(n):\n",
    "    if n <= 0:\n",
    "        return \"Input should be a positive integer.\"\n",
    "    elif n == 1:\n",
    "        return 0\n",
    "    elif n == 2:\n",
    "        return 1\n",
    "    else:\n",
    "        return fibonacci(n-1) + fibonacci(n-2)\n",
    "\n",
    "n = int(input(\"Enter the number of terms: \"))\n",
    "for i in range(1, n+1):\n",
    "    print(fibonacci(i), end=\" \")"
   ]
  },
  {
   "cell_type": "markdown",
   "metadata": {},
   "source": [
    "print 10 numbers of fibonacci series in python\n"
   ]
  },
  {
   "cell_type": "code",
   "execution_count": 6,
   "metadata": {},
   "outputs": [
    {
     "name": "stdout",
     "output_type": "stream",
     "text": [
      "[0, 1, 1, 2, 3, 5, 8, 13, 21, 34]\n"
     ]
    }
   ],
   "source": [
    "\n",
    "def fibonacci(n):\n",
    "    fib_series = [0, 1]\n",
    "    while len(fib_series) < n:\n",
    "        fib_series.append(fib_series[-1] + fib_series[-2])\n",
    "    return fib_series\n",
    "\n",
    "n = 10\n",
    "print(fibonacci(n))"
   ]
  },
  {
   "cell_type": "code",
   "execution_count": 9,
   "metadata": {},
   "outputs": [
    {
     "name": "stdout",
     "output_type": "stream",
     "text": [
      "0 1 1 2 3 5 8 13 21 34 "
     ]
    }
   ],
   "source": [
    "a, b = 0, 1\n",
    "n = 10\n",
    "for i in range(n):\n",
    "    print(a, end=\" \")\n",
    "    a, b = b, a + b"
   ]
  },
  {
   "cell_type": "markdown",
   "metadata": {},
   "source": []
  },
  {
   "cell_type": "code",
   "execution_count": 12,
   "metadata": {},
   "outputs": [
    {
     "name": "stdout",
     "output_type": "stream",
     "text": [
      "0 1 1 2 3 5 8 13 21 34 "
     ]
    }
   ],
   "source": [
    "def fibonacci():\n",
    "    a, b = 0, 1\n",
    "    while True:\n",
    "        yield a\n",
    "        a, b = b, a + b\n",
    "\n",
    "# Create a generator\n",
    "fib_gen = fibonacci()\n",
    "\n",
    "# Print the first 10 Fibonacci numbers\n",
    "for _ in range(10):\n",
    "    print(next(fib_gen), end= \" \")\n",
    "\n",
    "# # Print the next 10 Fibonacci numbers\n",
    "# for _ in range(10):\n",
    "#     print(next(fib_gen))"
   ]
  },
  {
   "cell_type": "markdown",
   "metadata": {},
   "source": [
    "create fibonacci series by using recurssion"
   ]
  },
  {
   "cell_type": "code",
   "execution_count": 15,
   "metadata": {},
   "outputs": [
    {
     "name": "stdout",
     "output_type": "stream",
     "text": [
      "0 1 1 2 3 5 8 13 21 34 "
     ]
    }
   ],
   "source": [
    "def fibonacci(n):\n",
    "    if n <= 0:\n",
    "        return \"Input should be a positive integer.\"\n",
    "    elif n == 1:\n",
    "        return 0\n",
    "    elif n == 2:\n",
    "        return 1\n",
    "    else:\n",
    "        return fibonacci(n-1) + fibonacci(n-2)\n",
    "\n",
    "# Print the first 10 Fibonacci numbers\n",
    "for i in range(1, 11):\n",
    "    print(fibonacci(i), end = \" \")"
   ]
  },
  {
   "cell_type": "markdown",
   "metadata": {},
   "source": [
    "How can you capitalize first letter of string?"
   ]
  },
  {
   "cell_type": "code",
   "execution_count": 16,
   "metadata": {},
   "outputs": [
    {
     "name": "stdout",
     "output_type": "stream",
     "text": [
      "Hello world\n"
     ]
    }
   ],
   "source": [
    "#1. Using the capitalize() method:\n",
    "\n",
    "\n",
    "my_string = \"hello world\"\n",
    "print(my_string.capitalize())  "
   ]
  },
  {
   "cell_type": "code",
   "execution_count": 17,
   "metadata": {},
   "outputs": [
    {
     "name": "stdout",
     "output_type": "stream",
     "text": [
      "Hello world\n"
     ]
    }
   ],
   "source": [
    "#2. Using slicing and upper():\n",
    "\n",
    "\n",
    "my_string = \"hello world\"\n",
    "print(my_string[0].upper() + my_string[1:]) "
   ]
  },
  {
   "cell_type": "code",
   "execution_count": 18,
   "metadata": {},
   "outputs": [
    {
     "name": "stdout",
     "output_type": "stream",
     "text": [
      "Hello World\n"
     ]
    }
   ],
   "source": [
    "# 3. Using the title() method (capitalizes first letter of each word):\n",
    "\n",
    "\n",
    "my_string = \"hello world\"\n",
    "print(my_string.title()) "
   ]
  },
  {
   "cell_type": "code",
   "execution_count": 22,
   "metadata": {},
   "outputs": [
    {
     "name": "stdout",
     "output_type": "stream",
     "text": [
      "Hello world\n"
     ]
    }
   ],
   "source": [
    "# 3. Using f-strings (Python 3.6+):\n",
    "\n",
    "\n",
    "my_string = \"hello world\"\n",
    "print(f\"{my_string[0].upper()}{my_string[1:]}\")  # Output: \"Hello world\"\n",
    "\n"
   ]
  },
  {
   "cell_type": "markdown",
   "metadata": {},
   "source": [
    "How to swap variables in python?"
   ]
  },
  {
   "cell_type": "markdown",
   "metadata": {},
   "source": [
    "\n",
    "    The most Pythonic and efficient way is the first method, using tuple packing and unpacking."
   ]
  },
  {
   "cell_type": "code",
   "execution_count": 23,
   "metadata": {},
   "outputs": [
    {
     "name": "stdout",
     "output_type": "stream",
     "text": [
      "Before swap: 5 10\n",
      "After swap: 10 5\n"
     ]
    }
   ],
   "source": [
    "# 1. Tuple Packing and Unpacking\n",
    "\n",
    "\n",
    "a, b = 5, 10\n",
    "print(\"Before swap:\", a, b)\n",
    "\n",
    "a, b = b, a\n",
    "print(\"After swap:\", a, b)\n"
   ]
  },
  {
   "cell_type": "code",
   "execution_count": 24,
   "metadata": {},
   "outputs": [
    {
     "name": "stdout",
     "output_type": "stream",
     "text": [
      "Before swap: 5 10\n",
      "After swap: 10 5\n"
     ]
    }
   ],
   "source": [
    "# 2. Temporary Variable\n",
    "\n",
    "\n",
    "a, b = 5, 10\n",
    "print(\"Before swap:\", a, b)\n",
    "\n",
    "temp = a\n",
    "a = b\n",
    "b = temp\n",
    "print(\"After swap:\", a, b)\n"
   ]
  },
  {
   "cell_type": "code",
   "execution_count": 25,
   "metadata": {},
   "outputs": [
    {
     "name": "stdout",
     "output_type": "stream",
     "text": [
      "Before swap: 5 10\n",
      "After swap: 10 5\n"
     ]
    }
   ],
   "source": [
    "# 3. Arithmetic Operations\n",
    "\n",
    "\n",
    "a, b = 5, 10\n",
    "print(\"Before swap:\", a, b)\n",
    "\n",
    "a = a + b\n",
    "b = a - b\n",
    "a = a - b\n",
    "print(\"After swap:\", a, b)"
   ]
  },
  {
   "cell_type": "code",
   "execution_count": 26,
   "metadata": {},
   "outputs": [
    {
     "name": "stdout",
     "output_type": "stream",
     "text": [
      "Before swap: 5 10\n",
      "After swap: 10 5\n"
     ]
    }
   ],
   "source": [
    "# 4. XOR Operator\n",
    "\n",
    "\n",
    "a, b = 5, 10\n",
    "print(\"Before swap:\", a, b)\n",
    "\n",
    "a = a ^ b\n",
    "b = a ^ b\n",
    "a = a ^ b\n",
    "print(\"After swap:\", a, b)"
   ]
  },
  {
   "cell_type": "code",
   "execution_count": 27,
   "metadata": {},
   "outputs": [
    {
     "name": "stdout",
     "output_type": "stream",
     "text": [
      "Before swap: 5 10\n",
      "After swap: 10 5\n"
     ]
    }
   ],
   "source": [
    "# 5. Simultaneous Assignment (Python 3.x)\n",
    "\n",
    "\n",
    "a, b = 5, 10\n",
    "print(\"Before swap:\", a, b)\n",
    "\n",
    "a, b = b, a\n",
    "print(\"After swap:\", a, b)"
   ]
  },
  {
   "cell_type": "markdown",
   "metadata": {},
   "source": [
    "How to check if number is prime numbe or not?"
   ]
  },
  {
   "cell_type": "code",
   "execution_count": 30,
   "metadata": {},
   "outputs": [
    {
     "name": "stdout",
     "output_type": "stream",
     "text": [
      "False\n"
     ]
    }
   ],
   "source": [
    "def is_prime(n):\n",
    "    if n <= 1:\n",
    "        return False\n",
    "    for i in range(2, n):\n",
    "        if n % i == 0:\n",
    "            return False\n",
    "    return True\n",
    "\n",
    "print(is_prime(25)) "
   ]
  },
  {
   "cell_type": "markdown",
   "metadata": {},
   "source": [
    "How to find factorial of a number?"
   ]
  },
  {
   "cell_type": "code",
   "execution_count": 31,
   "metadata": {},
   "outputs": [
    {
     "name": "stdout",
     "output_type": "stream",
     "text": [
      "120\n"
     ]
    }
   ],
   "source": [
    "def factorial(n):\n",
    "    if n == 0 or n == 1:\n",
    "        return 1\n",
    "    else:\n",
    "        return n * factorial(n-1)\n",
    "\n",
    "num = 5\n",
    "print(factorial(num))"
   ]
  },
  {
   "cell_type": "markdown",
   "metadata": {},
   "source": [
    "How to generates random numbers in python?"
   ]
  },
  {
   "cell_type": "code",
   "execution_count": 33,
   "metadata": {},
   "outputs": [
    {
     "name": "stdout",
     "output_type": "stream",
     "text": [
      "5\n"
     ]
    }
   ],
   "source": [
    "import random\n",
    "# random.randint(a, b)  # Returns a random integer N such that a <= N <= b\n",
    "\n",
    "print(random.randint(1, 10))"
   ]
  },
  {
   "cell_type": "code",
   "execution_count": 34,
   "metadata": {},
   "outputs": [
    {
     "name": "stdout",
     "output_type": "stream",
     "text": [
      "[80 32  6 97 64 39 76 27 41 68]\n"
     ]
    }
   ],
   "source": [
    "import numpy as np\n",
    "\n",
    "n = 10  # Number of random numbers\n",
    "min_val = 1  # Minimum value\n",
    "max_val = 100  # Maximum value\n",
    "\n",
    "random_numbers = np.random.randint(min_val, max_val + 1, n)\n",
    "\n",
    "print(random_numbers)"
   ]
  },
  {
   "cell_type": "markdown",
   "metadata": {},
   "source": [
    "sort list without using sort keywords?"
   ]
  },
  {
   "cell_type": "code",
   "execution_count": 35,
   "metadata": {},
   "outputs": [
    {
     "name": "stdout",
     "output_type": "stream",
     "text": [
      "[11, 12, 22, 25, 34, 64, 90]\n"
     ]
    }
   ],
   "source": [
    "def bubble_sort(lst):\n",
    "    n = len(lst)\n",
    "    for i in range(n):\n",
    "        for j in range(0, n-i-1):\n",
    "            if lst[j] > lst[j+1]:\n",
    "                lst[j], lst[j+1] = lst[j+1], lst[j]\n",
    "    return lst\n",
    "\n",
    "numbers = [64, 34, 25, 12, 22, 11, 90]\n",
    "print(bubble_sort(numbers))"
   ]
  },
  {
   "cell_type": "markdown",
   "metadata": {},
   "source": [
    "Find the second heighest number from list"
   ]
  },
  {
   "cell_type": "code",
   "execution_count": 36,
   "metadata": {},
   "outputs": [
    {
     "name": "stdout",
     "output_type": "stream",
     "text": [
      "64\n"
     ]
    }
   ],
   "source": [
    "def bubble_sort(lst):\n",
    "    n = len(lst)\n",
    "    if n < 2:\n",
    "        return None  # or raise an exception\n",
    "    \n",
    "    for i in range(n):\n",
    "        for j in range(0, n-i-1):\n",
    "            if lst[j] > lst[j+1]:\n",
    "                lst[j], lst[j+1] = lst[j+1], lst[j]\n",
    "                \n",
    "    # Check for duplicate maximum numbers\n",
    "    if lst[-1] == lst[-2]:\n",
    "        return lst[-2]\n",
    "    \n",
    "    return lst[-2]\n",
    "\n",
    "numbers = [64, 34, 25, 12, 22, 11, 90]\n",
    "print(bubble_sort(numbers))  # Output: 64"
   ]
  },
  {
   "cell_type": "markdown",
   "metadata": {},
   "source": [
    "write a code to check weather string is palindrom or not"
   ]
  },
  {
   "cell_type": "code",
   "execution_count": 37,
   "metadata": {},
   "outputs": [
    {
     "name": "stdout",
     "output_type": "stream",
     "text": [
      "True\n",
      "False\n"
     ]
    }
   ],
   "source": [
    "def is_palindrome(s):\n",
    "    return s == s[::-1]\n",
    "\n",
    "print(is_palindrome(\"radar\"))  \n",
    "print(is_palindrome(\"hello\"))  "
   ]
  },
  {
   "cell_type": "markdown",
   "metadata": {},
   "source": [
    " Nearest Palindrome"
   ]
  },
  {
   "cell_type": "code",
   "execution_count": 38,
   "metadata": {},
   "outputs": [],
   "source": [
    "def nearest_palindrome(n):\n",
    "    def is_palindrome(s):\n",
    "        return s == s[::-1]\n",
    "\n",
    "    if is_palindrome(str(n)):\n",
    "        return n\n",
    "\n",
    "    lower, upper = n - 1, n + 1\n",
    "    while True:\n",
    "        if is_palindrome(str(lower)):\n",
    "            return lower\n",
    "        if is_palindrome(str(upper)):\n",
    "            return upper\n",
    "        lower -= 1\n",
    "        upper += 1"
   ]
  },
  {
   "cell_type": "code",
   "execution_count": 39,
   "metadata": {},
   "outputs": [
    {
     "name": "stdout",
     "output_type": "stream",
     "text": [
      "121\n",
      "999\n"
     ]
    }
   ],
   "source": [
    "print(nearest_palindrome(123)) \n",
    "print(nearest_palindrome(999)) "
   ]
  },
  {
   "cell_type": "markdown",
   "metadata": {},
   "source": [
    "sort a dictonary"
   ]
  },
  {
   "cell_type": "code",
   "execution_count": 40,
   "metadata": {},
   "outputs": [
    {
     "name": "stdout",
     "output_type": "stream",
     "text": [
      "{'a': 1, 'b': 2, 'c': 3}\n",
      "{'c': 3, 'b': 2, 'a': 1}\n"
     ]
    }
   ],
   "source": [
    "d = {'b': 2, 'a': 1, 'c': 3}\n",
    "\n",
    "# Sort by keys in ascending order\n",
    "sorted_d = dict(sorted(d.items()))\n",
    "print(sorted_d)  \n",
    "\n",
    "# Sort by keys in descending order\n",
    "sorted_d = dict(sorted(d.items(), reverse=True))\n",
    "print(sorted_d) \n"
   ]
  },
  {
   "cell_type": "markdown",
   "metadata": {},
   "source": []
  },
  {
   "cell_type": "code",
   "execution_count": 41,
   "metadata": {},
   "outputs": [
    {
     "name": "stdout",
     "output_type": "stream",
     "text": [
      "{'a': 1, 'b': 2, 'c': 3}\n",
      "{'c': 3, 'b': 2, 'a': 1}\n"
     ]
    }
   ],
   "source": [
    "# Sorting by Keys\n",
    "\n",
    "\n",
    "d = {'b': 2, 'a': 1, 'c': 3}\n",
    "\n",
    "# Sort by keys in ascending order\n",
    "sorted_d = {k: v for k, v in sorted(d.items())}\n",
    "print(sorted_d)  # {'a': 1, 'b': 2, 'c': 3}\n",
    "\n",
    "# Sort by keys in descending order\n",
    "sorted_d = {k: v for k, v in sorted(d.items(), reverse=True)}\n",
    "print(sorted_d)  # {'c': 3, 'b': 2, 'a': 1}"
   ]
  },
  {
   "cell_type": "markdown",
   "metadata": {},
   "source": [
    "sort a dictonary using dictonary comprehnsion"
   ]
  },
  {
   "cell_type": "code",
   "execution_count": 42,
   "metadata": {},
   "outputs": [
    {
     "name": "stdout",
     "output_type": "stream",
     "text": [
      "{'a': 1, 'b': 2, 'c': 3}\n",
      "{'c': 3, 'b': 2, 'a': 1}\n"
     ]
    }
   ],
   "source": [
    "# Sorting by Keys\n",
    "\n",
    "\n",
    "d = {'b': 2, 'a': 1, 'c': 3}\n",
    "\n",
    "# Sort by keys in ascending order\n",
    "sorted_d = {k: v for k, v in sorted(d.items())}\n",
    "print(sorted_d)  # {'a': 1, 'b': 2, 'c': 3}\n",
    "\n",
    "# Sort by keys in descending order\n",
    "sorted_d = {k: v for k, v in sorted(d.items(), reverse=True)}\n",
    "print(sorted_d)  # {'c': 3, 'b': 2, 'a': 1}"
   ]
  },
  {
   "cell_type": "code",
   "execution_count": 43,
   "metadata": {},
   "outputs": [
    {
     "name": "stdout",
     "output_type": "stream",
     "text": [
      "{'a': 1, 'b': 2, 'c': 3}\n",
      "{'c': 3, 'b': 2, 'a': 1}\n"
     ]
    }
   ],
   "source": [
    "# Sorting by Values\n",
    "\n",
    "\n",
    "d = {'b': 2, 'a': 1, 'c': 3}\n",
    "\n",
    "# Sort by values in ascending order\n",
    "sorted_d = {k: v for k, v in sorted(d.items(), key=lambda item: item[1])}\n",
    "print(sorted_d)  # {'a': 1, 'b': 2, 'c': 3}\n",
    "\n",
    "# Sort by values in descending order\n",
    "sorted_d = {k: v for k, v in sorted(d.items(), key=lambda item: item[1], reverse=True)}\n",
    "print(sorted_d)  # {'c': 3, 'b': 2, 'a': 1}\n",
    "\n"
   ]
  },
  {
   "cell_type": "code",
   "execution_count": 44,
   "metadata": {},
   "outputs": [
    {
     "name": "stdout",
     "output_type": "stream",
     "text": [
      "{'a': 1, 'b': 2, 'c': 3}\n"
     ]
    }
   ],
   "source": [
    "# Sorting by Both Keys and Values\n",
    "\n",
    "\n",
    "d = {'b': 2, 'a': 1, 'c': 3}\n",
    "\n",
    "# Sort by keys and then values in ascending order\n",
    "sorted_d = {k: v for k, v in sorted(d.items(), key=lambda item: (item[0], item[1]))}\n",
    "print(sorted_d)  # {'a': 1, 'b': 2, 'c': 3}"
   ]
  },
  {
   "cell_type": "markdown",
   "metadata": {},
   "source": [
    "find a pair with given number in list"
   ]
  },
  {
   "cell_type": "code",
   "execution_count": 46,
   "metadata": {},
   "outputs": [
    {
     "name": "stdout",
     "output_type": "stream",
     "text": [
      "(2, 5)\n"
     ]
    }
   ],
   "source": [
    "def find_pair(nums, target):\n",
    "    for i in range(len(nums)):\n",
    "        for j in range(i + 1, len(nums)):\n",
    "            if nums[i] + nums[j] == target:\n",
    "                return (nums[i], nums[j])\n",
    "    return None\n",
    "\n",
    "nums = [1, 2, 3, 4, 5]\n",
    "target = 7\n",
    "print(find_pair(nums, target))  "
   ]
  },
  {
   "cell_type": "markdown",
   "metadata": {},
   "source": [
    "find th require output (related to string)"
   ]
  },
  {
   "cell_type": "code",
   "execution_count": 47,
   "metadata": {},
   "outputs": [
    {
     "name": "stdout",
     "output_type": "stream",
     "text": [
      "True\n"
     ]
    }
   ],
   "source": [
    "# 1. Substring Search\n",
    "\n",
    "\n",
    "def find_substring(main_string, sub_string):\n",
    "    return sub_string in main_string\n",
    "\n",
    "main_string = \"Hello, World!\"\n",
    "sub_string = \"World\"\n",
    "print(find_substring(main_string, sub_string)) "
   ]
  },
  {
   "cell_type": "code",
   "execution_count": 48,
   "metadata": {},
   "outputs": [
    {
     "name": "stdout",
     "output_type": "stream",
     "text": [
      "True\n"
     ]
    }
   ],
   "source": [
    "# 2. Palindrome Check\n",
    "\n",
    "\n",
    "def is_palindrome(s):\n",
    "    return s == s[::-1]\n",
    "\n",
    "s = \"radar\"\n",
    "print(is_palindrome(s))"
   ]
  },
  {
   "cell_type": "code",
   "execution_count": 49,
   "metadata": {},
   "outputs": [
    {
     "name": "stdout",
     "output_type": "stream",
     "text": [
      "True\n"
     ]
    }
   ],
   "source": [
    "# 3. Anagram Detection\n",
    "\n",
    "\n",
    "def are_anagrams(str1, str2):\n",
    "    return sorted(str1) == sorted(str2)\n",
    "\n",
    "str1 = \"listen\"\n",
    "str2 = \"silent\"\n",
    "print(are_anagrams(str1, str2)) "
   ]
  },
  {
   "cell_type": "code",
   "execution_count": 50,
   "metadata": {},
   "outputs": [
    {
     "name": "stdout",
     "output_type": "stream",
     "text": [
      "olleH\n"
     ]
    }
   ],
   "source": [
    "\n",
    "# 4. String Reversal\n",
    "\n",
    "\n",
    "def reverse_string(s):\n",
    "    return s[::-1]\n",
    "\n",
    "s = \"Hello\"\n",
    "print(reverse_string(s))"
   ]
  },
  {
   "cell_type": "code",
   "execution_count": 51,
   "metadata": {},
   "outputs": [
    {
     "name": "stdout",
     "output_type": "stream",
     "text": [
      "5\n"
     ]
    }
   ],
   "source": [
    "# 5. Word Counting\n",
    "\n",
    "\n",
    "def count_words(s):\n",
    "    return len(s.split())\n",
    "\n",
    "s = \"This is a test sentence\"\n",
    "print(count_words(s)) "
   ]
  },
  {
   "cell_type": "code",
   "execution_count": 52,
   "metadata": {},
   "outputs": [
    {
     "name": "stdout",
     "output_type": "stream",
     "text": [
      "{'H': 1, 'e': 1, 'l': 2, 'o': 1}\n"
     ]
    }
   ],
   "source": [
    "\n",
    "#6. Character Frequency\n",
    "\n",
    "\n",
    "def char_frequency(s):\n",
    "    freq = {}\n",
    "    for char in s:\n",
    "        if char in freq:\n",
    "            freq[char] += 1\n",
    "        else:\n",
    "            freq[char] = 1\n",
    "    return freq\n",
    "\n",
    "s = \"Hello\"\n",
    "print(char_frequency(s)) "
   ]
  },
  {
   "cell_type": "code",
   "execution_count": 53,
   "metadata": {},
   "outputs": [
    {
     "name": "stdout",
     "output_type": "stream",
     "text": [
      "A3B3C3\n"
     ]
    }
   ],
   "source": [
    "# 7. String Compression\n",
    "\n",
    "\n",
    "def compress_string(s):\n",
    "    compressed = \"\"\n",
    "    count = 1\n",
    "    for i in range(1, len(s)):\n",
    "        if s[i] == s[i - 1]:\n",
    "            count += 1\n",
    "        else:\n",
    "            compressed += s[i - 1] + str(count)\n",
    "            count = 1\n",
    "    compressed += s[-1] + str(count)\n",
    "    return compressed\n",
    "\n",
    "s = \"AAABBBCCC\"\n",
    "print(compress_string(s)) "
   ]
  },
  {
   "cell_type": "code",
   "execution_count": 54,
   "metadata": {},
   "outputs": [
    {
     "name": "stdout",
     "output_type": "stream",
     "text": [
      "fl\n"
     ]
    }
   ],
   "source": [
    "\n",
    "# 8. Longest Common Prefix\n",
    "\n",
    "\n",
    "def longest_common_prefix(strs):\n",
    "    prefix = \"\"\n",
    "    for z in zip(*strs):\n",
    "        if len(set(z)) == 1:\n",
    "            prefix += z[0]\n",
    "        else:\n",
    "            break\n",
    "    return prefix\n",
    "\n",
    "strs = [\"flower\", \"flow\", \"flight\"]\n",
    "print(longest_common_prefix(strs)) "
   ]
  },
  {
   "cell_type": "code",
   "execution_count": 56,
   "metadata": {},
   "outputs": [
    {
     "name": "stdout",
     "output_type": "stream",
     "text": [
      "olleH dlroW\n"
     ]
    }
   ],
   "source": [
    "\n",
    "# 9. Reverse Words\n",
    "\n",
    "\n",
    "def reverse_words(s):\n",
    "    return ' '.join(word[::-1] for word in s.split())\n",
    "\n",
    "s = \"Hello World\"\n",
    "print(reverse_words(s))  "
   ]
  },
  {
   "cell_type": "markdown",
   "metadata": {},
   "source": [
    "find the maximum repeated characters in a string without havin O(n**2) complexity"
   ]
  },
  {
   "cell_type": "code",
   "execution_count": 57,
   "metadata": {},
   "outputs": [
    {
     "name": "stdout",
     "output_type": "stream",
     "text": [
      "The maximum repeated character is 'e' with 7 occurrences.\n"
     ]
    }
   ],
   "source": [
    "from collections import Counter\n",
    "\n",
    "def find_max_repeated_char(s):\n",
    "    # Create a dictionary to count the frequency of each character\n",
    "    char_count = Counter(s)\n",
    "    \n",
    "    # Find the character with the maximum count\n",
    "    max_char = max(char_count, key=char_count.get)\n",
    "    \n",
    "    return max_char, char_count[max_char]\n",
    "\n",
    "# Example usage:\n",
    "s = \"abbbccccddddeeeeeee\"\n",
    "max_char, count = find_max_repeated_char(s)\n",
    "print(f\"The maximum repeated character is '{max_char}' with {count} occurrences.\")"
   ]
  },
  {
   "cell_type": "markdown",
   "metadata": {},
   "source": [
    "find minimum and maximum number without using predefined function"
   ]
  },
  {
   "cell_type": "code",
   "execution_count": null,
   "metadata": {},
   "outputs": [],
   "source": [
    "def find_min_and_max(arr):\n",
    "    if len(arr) == 0:\n",
    "        return None, None  # If the list is empty\n",
    "    \n",
    "    # Initialize min and max with the first element of the list\n",
    "    min_num = arr[0]\n",
    "    max_num = arr[0]\n",
    "    \n",
    "    # Loop through the list to find min and max\n",
    "    for num in arr[1:]:\n",
    "        if num < min_num:\n",
    "            min_num = num\n",
    "        if num > max_num:\n",
    "            max_num = num\n",
    "    \n",
    "    return min_num, max_num\n",
    "\n",
    "# Example usage:\n",
    "arr = [10, 22, 5, 3, 99, 6, 12]\n",
    "min_num, max_num = find_min_and_max(arr)\n",
    "print(f\"Minimum number: {min_num}\")\n",
    "print(f\"Maximum number: {max_num}\")\n"
   ]
  },
  {
   "cell_type": "markdown",
   "metadata": {},
   "source": [
    "write a code to raise and exception"
   ]
  },
  {
   "cell_type": "code",
   "execution_count": 58,
   "metadata": {},
   "outputs": [
    {
     "name": "stdout",
     "output_type": "stream",
     "text": [
      "Invalid value: -5. Value cannot be negative.\n",
      "Value 10 is valid.\n"
     ]
    }
   ],
   "source": [
    "def check_value(x):\n",
    "    try:\n",
    "        if x < 0:\n",
    "            # Raising an exception indirectly through a manual error condition\n",
    "            1 / 0  # Artificially causing a ZeroDivisionError\n",
    "    except ZeroDivisionError:\n",
    "        print(f\"Invalid value: {x}. Value cannot be negative.\")\n",
    "    else:\n",
    "        print(f\"Value {x} is valid.\")\n",
    "\n",
    "# Example usage:\n",
    "check_value(-5)\n",
    "check_value(10)\n"
   ]
  },
  {
   "cell_type": "code",
   "execution_count": null,
   "metadata": {},
   "outputs": [],
   "source": []
  }
 ],
 "metadata": {
  "kernelspec": {
   "display_name": "Python 3",
   "language": "python",
   "name": "python3"
  },
  "language_info": {
   "codemirror_mode": {
    "name": "ipython",
    "version": 3
   },
   "file_extension": ".py",
   "mimetype": "text/x-python",
   "name": "python",
   "nbconvert_exporter": "python",
   "pygments_lexer": "ipython3",
   "version": "3.11.9"
  }
 },
 "nbformat": 4,
 "nbformat_minor": 2
}
