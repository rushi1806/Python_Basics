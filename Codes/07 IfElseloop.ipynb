{
 "cells": [
  {
   "cell_type": "markdown",
   "metadata": {},
   "source": [
    "# if-else Statements\n",
    "Sometimes the programmer needs to check the evaluation of certain expression(s), whether the expression(s) evaluate to True or False. If the expression evaluates to False, then the program execution follows a different path than it would have if the expression had evaluated to True.\n",
    "\n",
    "Based on this, the conditional statements are further classified into following types:\n",
    "- if\n",
    "- if-else\n",
    "- if-else-elif\n",
    "- nested if-else-elif.\n",
    "## An if……else statement evaluates like this:\n",
    "\n",
    "### if the expression evaluates True:\n",
    "Execute the block of code inside if statement. After execution return to the code out of the if……else block.\\\n",
    "### if the expression evaluates False:\n",
    "Execute the block of code inside else statement. After execution return to the code out of the if……else block.\n",
    " ## Example:\n",
    "```python\n",
    "applePrice = 210\n",
    "budget = 200\n",
    "if (applePrice <= budget):\n",
    "    print(\"Alexa, add 1 kg Apples to the cart.\")\n",
    "else:\n",
    "    print(\"Alexa, do not add Apples to the cart.\")\n",
    "```\n",
    "## Output:\n",
    "```\n",
    "Alexa, do not add Apples to the cart.\n",
    "```"
   ]
  },
  {
   "cell_type": "code",
   "execution_count": 2,
   "metadata": {},
   "outputs": [
    {
     "name": "stdout",
     "output_type": "stream",
     "text": [
      "Your age is: 5\n",
      "You cannot drive\n",
      "No\n",
      "Yay!\n"
     ]
    }
   ],
   "source": [
    "a = int(input(\"Enter your age: \"))\n",
    "print(\"Your age is:\", a)\n",
    "# Conditional operators \n",
    "# >, <, >=, <=, ==, !=\n",
    "# print(a>18)\n",
    "# print(a<=18)\n",
    "# print(a==18)\n",
    "# print(a!=18)\n",
    "if(a>18):\n",
    "  print(\"You can drive\")\n",
    "  print(\"Yes\")\n",
    "else:\n",
    "  print(\"You cannot drive\")\n",
    "  print(\"No\")\n",
    "  print(\"Yay!\")\n"
   ]
  },
  {
   "cell_type": "code",
   "execution_count": 3,
   "metadata": {},
   "outputs": [
    {
     "name": "stdout",
     "output_type": "stream",
     "text": [
      "Alexa, add 1 kg Apples to the cart.\n"
     ]
    }
   ],
   "source": [
    "applePrice = 10\n",
    "budget = 200\n",
    "if (budget - applePrice > 50):\n",
    "    print(\"Alexa, add 1 kg Apples to the cart.\")\n",
    "else:\n",
    "    print(\"Alexa, do not add Apples to the cart.\")"
   ]
  },
  {
   "cell_type": "code",
   "execution_count": null,
   "metadata": {},
   "outputs": [],
   "source": []
  },
  {
   "cell_type": "markdown",
   "metadata": {},
   "source": [
    "# elif Statements\n",
    "Sometimes, the programmer may want to evaluate more than one condition, this can be done using an elif statement.\n",
    "### Working of an elif statement\n",
    "Execute the block of code inside if statement if the initial expression evaluates to True. After execution return to the code out of the if block.\n",
    "\n",
    "Execute the block of code inside the first elif statement if the expression inside it evaluates True. After execution return to the code out of the if block.\n",
    "\n",
    "Execute the block of code inside the second elif statement if the expression inside it evaluates True. After execution return to the code out of the if block.\\\n",
    ".\\\n",
    ".\\\n",
    ".\\\n",
    "Execute the block of code inside the nth elif statement if the expression inside it evaluates True. After execution return to the code out of the if block.\n",
    "\n",
    "Execute the block of code inside else statement if none of the expression evaluates to True. After execution return to the code out of the if block.\n",
    "\n",
    "## Example:\n",
    "```python\n",
    "num = 0\n",
    "if (num < 0):\n",
    "    print(\"Number is negative.\")\n",
    "elif (num == 0):\n",
    "    print(\"Number is Zero.\")\n",
    "else:\n",
    "    print(\"Number is positive.\")\n",
    "```\n",
    "## Output:\n",
    "```\n",
    "Number is Zero.\n",
    "```"
   ]
  },
  {
   "cell_type": "code",
   "execution_count": 4,
   "metadata": {},
   "outputs": [
    {
     "name": "stdout",
     "output_type": "stream",
     "text": [
      "Number is positive.\n",
      "I am happy now\n"
     ]
    }
   ],
   "source": [
    "num = int(input(\"Enter the value of num: \"))\n",
    "if (num < 0):\n",
    "  print(\"Number is negative.\")\n",
    "elif (num == 0):\n",
    "  print(\"Number is Zero.\")\n",
    "elif (num == 999):\n",
    "  print(\"Number is Special.\")\n",
    "else:\n",
    "  print(\"Number is positive.\")\n",
    "\n",
    "print(\"I am happy now\")\n"
   ]
  },
  {
   "cell_type": "markdown",
   "metadata": {},
   "source": []
  },
  {
   "cell_type": "code",
   "execution_count": null,
   "metadata": {},
   "outputs": [],
   "source": []
  },
  {
   "cell_type": "markdown",
   "metadata": {},
   "source": [
    "# Nested if statements\n",
    "We can use if, if-else, elif statements inside other if statements as well. \\\n",
    "Example:\n",
    "```python\n",
    "num = 18\n",
    "if (num < 0):\n",
    "    print(\"Number is negative.\")\n",
    "elif (num > 0):\n",
    "    if (num <= 10):\n",
    "        print(\"Number is between 1-10\")\n",
    "    elif (num > 10 and num <= 20):\n",
    "        print(\"Number is between 11-20\")\n",
    "    else:\n",
    "        print(\"Number is greater than 20\")\n",
    "else:\n",
    "    print(\"Number is zero\")\n",
    "```\n",
    "Output:\n",
    "```\n",
    "Number is between 11-20\n",
    "```\n",
    "## [Next Lesson>>](https://replit.com/@codewithharry/15-Day15-Exercise-2-Good-Morning-Sir#.tutorial/Tutorial.md)"
   ]
  },
  {
   "cell_type": "markdown",
   "metadata": {},
   "source": []
  },
  {
   "cell_type": "code",
   "execution_count": null,
   "metadata": {},
   "outputs": [],
   "source": []
  },
  {
   "cell_type": "code",
   "execution_count": 5,
   "metadata": {},
   "outputs": [
    {
     "name": "stdout",
     "output_type": "stream",
     "text": [
      "Number is between 11-20\n"
     ]
    }
   ],
   "source": [
    "num = 18\n",
    "if (num < 0):\n",
    "    print(\"Number is negative.\")\n",
    "elif (num > 0):\n",
    "    if (num <= 10):\n",
    "        print(\"Number is between 1-10\")\n",
    "    elif (num > 10 and num <= 20):\n",
    "        print(\"Number is between 11-20\")\n",
    "    else:\n",
    "        print(\"Number is greater than 20\")\n",
    "else:\n",
    "    print(\"Number is zero\")"
   ]
  },
  {
   "cell_type": "markdown",
   "metadata": {},
   "source": [
    "## If ... Else in One Line\n",
    "There is also a shorthand syntax for the if-else statement that can be used when the condition being tested is simple and the code blocks to be executed are short. Here's an example:\n",
    "```python\n",
    "a = 2\n",
    "b = 330\n",
    "print(\"A\") if a > b else print(\"B\")\n",
    "```\n",
    "\n",
    "You can also have multiple else statements on the same line:\n",
    "\n",
    "## Example\n",
    "One line if else statement, with 3 conditions:\n",
    "```python\n",
    "a = 330\n",
    "b = 330\n",
    "print(\"A\") if a > b else print(\"=\") if a == b else print(\"B\")\n",
    "```\n",
    "\n",
    "## Another Example\n",
    "```python\n",
    "result = value_if_true if condition else value_if_false\n",
    "\n",
    "```\n",
    "\n",
    "This syntax is equivalent to the following if-else statement:\n",
    "```python\n",
    "if condition:\n",
    "    result = value_if_true\n",
    "else:\n",
    "    result = value_if_false\n",
    "\n",
    "```\n",
    "## Conclusion\n",
    "The shorthand syntax can be a convenient way to write simple if-else statements, especially when you want to assign a value to a variable based on a condition. \\\n",
    "However, it's not suitable for more complex situations where you need to execute multiple statements or perform more complex logic. In those cases, it's best to use the full if-else syntax.\n",
    "## [Next Lesson>>](https://replit.com/@codewithharry/42-Day-42-Enumerate)"
   ]
  },
  {
   "cell_type": "code",
   "execution_count": 6,
   "metadata": {},
   "outputs": [
    {
     "name": "stdout",
     "output_type": "stream",
     "text": [
      "A\n",
      "9\n"
     ]
    }
   ],
   "source": [
    "a = 330000\n",
    "b = 3303\n",
    "print(\"A\") if a > b else print(\"=\") if a == b else print(\"B\")\n",
    "\n",
    "c = 9 if a>b else 0\n",
    "print(c)"
   ]
  },
  {
   "cell_type": "code",
   "execution_count": null,
   "metadata": {},
   "outputs": [],
   "source": []
  },
  {
   "cell_type": "markdown",
   "metadata": {},
   "source": [
    "### if"
   ]
  },
  {
   "cell_type": "code",
   "execution_count": 8,
   "metadata": {},
   "outputs": [
    {
     "name": "stdout",
     "output_type": "stream",
     "text": [
      "5\n"
     ]
    }
   ],
   "source": [
    "a = int(input('Age : '))\n",
    "print(a)\n",
    "if a > 18:\n",
    "    print('Can Drink')"
   ]
  },
  {
   "cell_type": "markdown",
   "metadata": {},
   "source": [
    "## if else"
   ]
  },
  {
   "cell_type": "markdown",
   "metadata": {},
   "source": [
    "##### Conditional Operators : \n",
    "> , < , <= , >= , == , != "
   ]
  },
  {
   "cell_type": "code",
   "execution_count": 9,
   "metadata": {},
   "outputs": [
    {
     "name": "stdout",
     "output_type": "stream",
     "text": [
      "5\n",
      "Can not Drink\n"
     ]
    }
   ],
   "source": [
    "a = int(input('Age : '))\n",
    "print(a)\n",
    "if a > 18:\n",
    "    print('Can Drink')\n",
    "else:\n",
    "    print('Can not Drink')"
   ]
  },
  {
   "cell_type": "markdown",
   "metadata": {},
   "source": [
    "### if else if OR elif"
   ]
  },
  {
   "cell_type": "code",
   "execution_count": 10,
   "metadata": {},
   "outputs": [
    {
     "name": "stdout",
     "output_type": "stream",
     "text": [
      "6\n",
      "Can not Drink\n"
     ]
    }
   ],
   "source": [
    "a = int(input('Age : '))\n",
    "print(a)\n",
    "if a < 18:\n",
    "    print('Can not Drink')\n",
    "elif a == 18:\n",
    "    print('better avoid')\n",
    "elif 18 < a < 50:\n",
    "    print('Can Drink')\n",
    "else:\n",
    "    print('Avoid Drink')"
   ]
  },
  {
   "cell_type": "markdown",
   "metadata": {},
   "source": [
    "### Nested if"
   ]
  },
  {
   "cell_type": "code",
   "execution_count": 11,
   "metadata": {},
   "outputs": [
    {
     "name": "stdout",
     "output_type": "stream",
     "text": [
      "1\n",
      "num is 0-10\n"
     ]
    }
   ],
   "source": [
    "num = int(input('number : '))\n",
    "print(num)\n",
    "if num < 0:\n",
    "    print('num is negative')\n",
    "elif num > 0:\n",
    "    if 0 < num < 10:\n",
    "        print('num is 0-10')\n",
    "    elif num > 10:\n",
    "        if 10 < num < 20:\n",
    "            print('num is 10-20')\n",
    "        else:\n",
    "            print('more than 20')\n",
    "else:\n",
    "    print('num is zero')"
   ]
  },
  {
   "cell_type": "markdown",
   "metadata": {},
   "source": [
    "#### Exercise : \n",
    "Create python program capable of greeting with you Good morning, Good night, Good evening,Good afternoon.Ypur program should use time module to get the current hour.\n"
   ]
  },
  {
   "cell_type": "code",
   "execution_count": 12,
   "metadata": {},
   "outputs": [],
   "source": [
    "import time"
   ]
  },
  {
   "cell_type": "code",
   "execution_count": 13,
   "metadata": {},
   "outputs": [
    {
     "name": "stdout",
     "output_type": "stream",
     "text": [
      "00:56:39\n"
     ]
    },
    {
     "data": {
      "text/plain": [
       "str"
      ]
     },
     "execution_count": 13,
     "metadata": {},
     "output_type": "execute_result"
    }
   ],
   "source": [
    "timestamp = time.strftime('%H:%M:%S')\n",
    "print(timestamp)\n",
    "type(timestamp)"
   ]
  },
  {
   "cell_type": "code",
   "execution_count": 14,
   "metadata": {},
   "outputs": [
    {
     "name": "stdout",
     "output_type": "stream",
     "text": [
      "00\n"
     ]
    },
    {
     "data": {
      "text/plain": [
       "int"
      ]
     },
     "execution_count": 14,
     "metadata": {},
     "output_type": "execute_result"
    }
   ],
   "source": [
    "Hour = time.strftime('%H')\n",
    "print(Hour)\n",
    "Hour = int(Hour)\n",
    "type(Hour)"
   ]
  },
  {
   "cell_type": "code",
   "execution_count": 15,
   "metadata": {},
   "outputs": [
    {
     "name": "stdout",
     "output_type": "stream",
     "text": [
      "Good night\n"
     ]
    }
   ],
   "source": [
    "if 5 < Hour < 12:\n",
    "    print('Good Morning')\n",
    "elif 12 < Hour < 3:\n",
    "    print('Good Afternoon')\n",
    "elif 3 < Hour < 6:\n",
    "    print('Good Evening')\n",
    "else:\n",
    "    print('Good night')\n",
    "\n",
    "\n",
    "\n"
   ]
  },
  {
   "cell_type": "markdown",
   "metadata": {},
   "source": [
    "#### Match Case (Similar to if else)\n",
    "In Cpp/java we use break after every case we wint then it will run all case.\n",
    "\n",
    "In python break not needed in it.It breaks where got answer"
   ]
  },
  {
   "cell_type": "code",
   "execution_count": 17,
   "metadata": {},
   "outputs": [
    {
     "name": "stdout",
     "output_type": "stream",
     "text": [
      "not matched\n"
     ]
    }
   ],
   "source": [
    "a = int(input())\n",
    "match a:\n",
    "    case 0:\n",
    "        print('it is 0')\n",
    "    case 4:\n",
    "        print('it is 4')\n",
    "    case _ if 4 < a < 15:\n",
    "        print('between 4-15')\n",
    "    case _ :\n",
    "        print('not matched')"
   ]
  },
  {
   "cell_type": "markdown",
   "metadata": {},
   "source": [
    "#### Short Hand if else statement"
   ]
  },
  {
   "cell_type": "code",
   "execution_count": 18,
   "metadata": {},
   "outputs": [
    {
     "name": "stdout",
     "output_type": "stream",
     "text": [
      "B\n"
     ]
    }
   ],
   "source": [
    "a = 330\n",
    "b = 3330\n",
    "print('A') if a > b else print('=') if a == b else print('B')"
   ]
  },
  {
   "cell_type": "code",
   "execution_count": 19,
   "metadata": {},
   "outputs": [
    {
     "ename": "SyntaxError",
     "evalue": "invalid syntax (2683213256.py, line 2)",
     "output_type": "error",
     "traceback": [
      "\u001b[1;36m  Cell \u001b[1;32mIn[19], line 2\u001b[1;36m\u001b[0m\n\u001b[1;33m    print('A') if a > b else\u001b[0m\n\u001b[1;37m                             ^\u001b[0m\n\u001b[1;31mSyntaxError\u001b[0m\u001b[1;31m:\u001b[0m invalid syntax\n"
     ]
    }
   ],
   "source": [
    "#print('A') if a > b else ''\n",
    "print('A') if a > b else "
   ]
  },
  {
   "cell_type": "code",
   "execution_count": 20,
   "metadata": {},
   "outputs": [
    {
     "name": "stdout",
     "output_type": "stream",
     "text": [
      "0\n"
     ]
    }
   ],
   "source": [
    "#c = 9 if a < b else 0\n",
    "c = 9 if a > b else 0\n",
    "print(c)"
   ]
  },
  {
   "cell_type": "code",
   "execution_count": 21,
   "metadata": {},
   "outputs": [
    {
     "ename": "ValueError",
     "evalue": "not enough values to unpack (expected 2, got 0)",
     "output_type": "error",
     "traceback": [
      "\u001b[1;31m---------------------------------------------------------------------------\u001b[0m",
      "\u001b[1;31mValueError\u001b[0m                                Traceback (most recent call last)",
      "Cell \u001b[1;32mIn[21], line 2\u001b[0m\n\u001b[0;32m      1\u001b[0m \u001b[38;5;28;01mfrom\u001b[39;00m \u001b[38;5;21;01mcollections\u001b[39;00m \u001b[38;5;28;01mimport\u001b[39;00m defaultdict\n\u001b[1;32m----> 2\u001b[0m input_n, input_m \u001b[38;5;241m=\u001b[39m \u001b[38;5;28mmap\u001b[39m(\u001b[38;5;28mint\u001b[39m, \u001b[38;5;28minput\u001b[39m()\u001b[38;5;241m.\u001b[39msplit())\n\u001b[0;32m      3\u001b[0m d \u001b[38;5;241m=\u001b[39m defaultdict(\u001b[38;5;28mlist\u001b[39m)\n\u001b[0;32m      4\u001b[0m \u001b[38;5;28mprint\u001b[39m(d)\n",
      "\u001b[1;31mValueError\u001b[0m: not enough values to unpack (expected 2, got 0)"
     ]
    }
   ],
   "source": [
    "from collections import defaultdict\n",
    "input_n, input_m = map(int, input().split())\n",
    "d = defaultdict(list)\n",
    "print(d)\n",
    "print(input_n)\n",
    "print(input_m)\n",
    "for i in range(input_n):\n",
    "     ans1 = input()\n",
    "     d[ans1].append(i+1)\n",
    "     print(ans1)\n",
    "     print(d)\n",
    "for j in range(input_m):\n",
    "     ans2 = input()\n",
    "     print(ans2)\n",
    "     if ans2 in d:\n",
    "         print(d)\n",
    "         print(ans2)\n",
    "         print(*d[ans2])\n",
    "         print(ans2)\n",
    "     else:\n",
    "         print(-1)\n",
    "print(d)"
   ]
  },
  {
   "cell_type": "code",
   "execution_count": 25,
   "metadata": {},
   "outputs": [
    {
     "ename": "ValueError",
     "evalue": "not enough values to unpack (expected 2, got 1)",
     "output_type": "error",
     "traceback": [
      "\u001b[1;31m---------------------------------------------------------------------------\u001b[0m",
      "\u001b[1;31mValueError\u001b[0m                                Traceback (most recent call last)",
      "Cell \u001b[1;32mIn[25], line 1\u001b[0m\n\u001b[1;32m----> 1\u001b[0m input_n, input_m \u001b[38;5;241m=\u001b[39m \u001b[38;5;28mmap\u001b[39m(\u001b[38;5;28mint\u001b[39m, \u001b[38;5;28minput\u001b[39m()\u001b[38;5;241m.\u001b[39msplit())\n\u001b[0;32m      2\u001b[0m \u001b[38;5;28;01mfor\u001b[39;00m i \u001b[38;5;129;01min\u001b[39;00m \u001b[38;5;28mrange\u001b[39m(input_n):\n\u001b[0;32m      3\u001b[0m      ans1 \u001b[38;5;241m=\u001b[39m \u001b[38;5;28minput\u001b[39m()\n",
      "\u001b[1;31mValueError\u001b[0m: not enough values to unpack (expected 2, got 1)"
     ]
    }
   ],
   "source": [
    "input_n, input_m = map(int, input().split())\n",
    "for i in range(input_n):\n",
    "     ans1 = input()\n",
    "     d[ans1].append(i+1)\n",
    "     print(ans1)\n",
    "     print(type(ans1))"
   ]
  },
  {
   "cell_type": "code",
   "execution_count": null,
   "metadata": {},
   "outputs": [
    {
     "name": "stdout",
     "output_type": "stream",
     "text": [
      "a\n",
      "a\n"
     ]
    }
   ],
   "source": [
    "input_n, input_m = map(int, input().split())\n",
    "for j in range(input_m):\n",
    "     ans2 = input()\n",
    "     print(ans2)"
   ]
  }
 ],
 "metadata": {
  "kernelspec": {
   "display_name": "base",
   "language": "python",
   "name": "python3"
  },
  "language_info": {
   "codemirror_mode": {
    "name": "ipython",
    "version": 3
   },
   "file_extension": ".py",
   "mimetype": "text/x-python",
   "name": "python",
   "nbconvert_exporter": "python",
   "pygments_lexer": "ipython3",
   "version": "3.11.7"
  }
 },
 "nbformat": 4,
 "nbformat_minor": 2
}
