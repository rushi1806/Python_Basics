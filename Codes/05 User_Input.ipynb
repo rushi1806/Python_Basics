{
 "cells": [
  {
   "cell_type": "markdown",
   "metadata": {},
   "source": [
    "# Day 10 - Taking User Input in python\n",
    "In python, we can take user input directly by using input() function.This input function gives a return value as string/character hence we have to pass that into a variable\n",
    "## Syntax:\n",
    "```python\n",
    "variable=input()\n",
    "```\n",
    "But input function returns the value as string. Hence we have to typecast them whenever required to another datatype.\n",
    "## Example:\n",
    "```python\n",
    "variable=int(input())\n",
    "variable=float(input())\n",
    "```\n",
    "\n",
    "We can also display a text using input function. This will make input() function take user input and display a message as well\n",
    "## Example:\n",
    "```python\n",
    "a=input(\"Enter the name: \")\n",
    "print(a)\n",
    "```\n",
    "## Output:\n",
    "```\n",
    "Enter the name: Harry\n",
    "Harry\n",
    "```\n",
    "## [Next Lesson>>](https://replit.com/@codewithharry/11-Day11-Strings#main.py)\n"
   ]
  },
  {
   "cell_type": "code",
   "execution_count": 1,
   "metadata": {},
   "outputs": [
    {
     "name": "stdout",
     "output_type": "stream",
     "text": [
      "My name is 5\n",
      "55\n",
      "10\n"
     ]
    }
   ],
   "source": [
    "a = input(\"Enter your name: \")\n",
    "print(\"My name is\", a)\n",
    "\n",
    "x = input(\"Enter first number: \")\n",
    "y = input(\"Enter second number: \")\n",
    "print(x  + y)\n",
    "\n",
    "print(int(x) + int(y))"
   ]
  },
  {
   "cell_type": "code",
   "execution_count": null,
   "metadata": {},
   "outputs": [],
   "source": [
    "\n",
    "\n"
   ]
  }
 ],
 "metadata": {
  "kernelspec": {
   "display_name": "base",
   "language": "python",
   "name": "python3"
  },
  "language_info": {
   "codemirror_mode": {
    "name": "ipython",
    "version": 3
   },
   "file_extension": ".py",
   "mimetype": "text/x-python",
   "name": "python",
   "nbconvert_exporter": "python",
   "pygments_lexer": "ipython3",
   "version": "3.11.7"
  }
 },
 "nbformat": 4,
 "nbformat_minor": 2
}
