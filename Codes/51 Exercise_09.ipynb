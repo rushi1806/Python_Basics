{
 "cells": [
  {
   "cell_type": "markdown",
   "metadata": {},
   "source": [
    "Write a program to pronounce list of names using win32 API. \n",
    "If you are given a list l as follows:\n",
    "```python\n",
    "l = [\"Rahul\", \"Nishant\", \"Harry\"]\n",
    "```\n",
    "Your program should pronouce:\n",
    "```\n",
    "Shoutout to Rahul\n",
    "Shoutout to Nishant\n",
    "Shoutout to Harry\n",
    "```\n",
    "Note: If you are not using windows, try to figure out how to do the same thing using some other package\n",
    "## [Next Lesson>>](https://replit.com/@codewithharry/84-Day-84-Time-Module)\n"
   ]
  },
  {
   "cell_type": "code",
   "execution_count": 2,
   "metadata": {},
   "outputs": [],
   "source": [
    "# For Mac\n",
    "from os import system\n",
    "names = [\"StupidProgramm1\",\"AayushGarg15\", \"Yuniek\", \"NiteshUpadhyay2\", \"RAMESHKUMAR69\", \"AshishKushwaha4\", \"AshokBhatt\", \"MILLANDREME\", \"ValorantAccoun4\", \"Sanjeevthakur8\", \"vivekRaogaddema\", \"NilutpalBaruah\", \"Priyanshu48\", \"KenZi2\", \"RahulGoyal14\", \"KartikeySurbhi\", \"AnirbanPati\", \"RohanPudasaini\", \"TechBlogs\", \"joelthomas1103\", \"dhairyapawaia\", \"PrithviSingh15\", \"GoogolChad\", \"Moinhusen\", \"mahi98989897\", \"Blitzfan1\", \"umang001\", \"AvijitManna1\", \"Mr-NeonNeon\", \"MaryamTatheer\", \"NishantJaiswal2\", \"AnonymousBuddy1\", \"MaryamTatheer\", \"GyanKumar1\", \"StarVipin\", \"vivekRaogaddema\", \"RaviSharma34\", \"AhsanTariq3\", \"gagankj\", \"ProgrammerShray\", \"AvijitDey5\", \"Anshuman097\", \"AnchalGupta9\", \"StupidProgramm1\", \"HimanshuKumar96\", \"hnxpriyanshu\", \"MaxM50\", \"piyushgoyall\", \"DEMANDHERE\", \"KrishnaAnand2\", \"SurajVishwaka10\", \"NominathKuwar\", \"firozeeIII\", \"jawad9899\", \"ArunavaAdhikari\", \"Quazi-Misbah-Raza\", \"HistoricMind\", \"Rajbir98\", \"AkshayNivate\", \"vivekRaogaddema\", \"maanitgill\", \"krushnsinh\", \"universelhome\", \"OPGAMEROPGAMERm\", \"universelhome\", \"learningtocodewithabdullah\", \"Abdullah426351\", \"SagarPathak3\", \"SAMARTH-VERMA\", \"PrithvirajPati3\", \"SAURABHTRIPATH6\", \"SumanRajak\", \"Swayam2004\", \"Joydip2002\", \"PulkitPareek\", \"RatnakarGautam221b\", \"tassawerzaidi\", \"GRyHacker\", \"uatta8088\", \"Athcode\", \"PrasoonShrivast\", \"piyushgoyall\", \"Saptak291\", \"PratyakshDhankh\", \"ZayanAhmad2\", \"Ali-RazaRaza9\", \"TridevJha\", \"KrrishHalder\", \"HeroProgrammin1\", \"Sanjeev-Kumar78\", \"AryanKushwaha2\", \"GalluBhai\", \"AB265\", \"AayushGarg15\", \"StupidProgramm1\", \"dheerajkumar68\", \"ArpitJaiswal2\", \"Fighters006\", \"AviPandit\", \"mrz004\", \"AviPandit\", \"MihirSingh4\", \"Nks-hkhk\", \"msCoder5\", \"SURAJGUSAIN1\", \"DivyanandPandey\", \"AhmadShuja\", \"JaydeepSindhav\", \"Champ7239\", \"piyushgoyall\", \"Joydip2002\", \"MukulVerma8745\", \"V-Durgeshwar-Ra\", \"SaacheKapoor\", \"41-GauravGaurav\", \"VeersinghZanka1\", \"LegendVibhu\", \"YashAgr\", \"vivekRaogaddema\", \"Priyanshu-kundu\", \"iamarghamallick\", \"samad90\", \"iamarghamallick\", \"MukulVerma8745\", \"MaxM50\", \"ItZgooseBoy\", \"piyushgoyall\", \"pavanteja14\", \"sologamerq1\", \"YugamTiwana\", \"piyushgoyall\", \"ShubhamSaini12\", \"AvishJain24\", \"ItZgooseBoy\", \"Iswastikmishra\", \"srisridmulti\", \"AvishJain24\", \"MFaizan3\", \"anukoolchauhan\", \"codeWithPrawar\", \"ArshitRupani\", \"Muhammad-Anas11\"]\n",
    "for name in names:\n",
    "  system(f'say Shoutout to {name}')"
   ]
  },
  {
   "cell_type": "code",
   "execution_count": null,
   "metadata": {},
   "outputs": [],
   "source": []
  }
 ],
 "metadata": {
  "kernelspec": {
   "display_name": "base",
   "language": "python",
   "name": "python3"
  },
  "language_info": {
   "codemirror_mode": {
    "name": "ipython",
    "version": 3
   },
   "file_extension": ".py",
   "mimetype": "text/x-python",
   "name": "python",
   "nbconvert_exporter": "python",
   "pygments_lexer": "ipython3",
   "version": "3.11.7"
  }
 },
 "nbformat": 4,
 "nbformat_minor": 2
}
