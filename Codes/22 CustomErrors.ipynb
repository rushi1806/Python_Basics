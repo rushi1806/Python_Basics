{
 "cells": [
  {
   "cell_type": "markdown",
   "metadata": {},
   "source": [
    "## Raising Custom errors \n",
    "In python, we can raise custom errors by using the `raise`  keyword. \n",
    "```python\n",
    "salary = int(input(\"Enter salary amount: \"))\n",
    "if not 2000 < salary < 5000:\n",
    "    raise ValueError(\"Not a valid salary\")\n",
    "```\n",
    "\n",
    "In the previous tutorial, we learned about different built-in exceptions in Python and why it is important to handle exceptions. However, sometimes we may need to create our own custom exceptions that serve our purpose.\n",
    "\n",
    "## Defining Custom Exceptions\n",
    "In Python, we can define custom exceptions by creating a new class that is derived from the built-in Exception class.\n",
    "\n",
    "Here's the syntax to define custom exceptions:\n",
    "```python\n",
    "class CustomError(Exception):\n",
    "  # code ...\n",
    "  pass\n",
    "\n",
    "try:\n",
    "  # code ...\n",
    "\n",
    "except CustomError:\n",
    "  # code...\n",
    "```\n",
    "\n",
    "This is useful because sometimes we might want to do something when a particular exception is raised. For example, sending an error report to the admin, calling an api, etc.\n",
    "## [Next Lesson>>](https://replit.com/@codewithharry/39-Day39-Exercise-3-Solution)"
   ]
  },
  {
   "cell_type": "code",
   "execution_count": 3,
   "metadata": {},
   "outputs": [],
   "source": [
    "a = int(input(\"Enter any value between 5 and 9\"))\n",
    "\n",
    "if(a<5  or a>9):\n",
    "  raise  ValueError(\"Value should be between 5 and 9\")\n",
    " "
   ]
  },
  {
   "cell_type": "code",
   "execution_count": null,
   "metadata": {},
   "outputs": [],
   "source": []
  },
  {
   "cell_type": "code",
   "execution_count": null,
   "metadata": {},
   "outputs": [
    {
     "name": "stdout",
     "output_type": "stream",
     "text": [
      "11\n"
     ]
    },
    {
     "ename": "ValueError",
     "evalue": "not between 1 - 10",
     "output_type": "error",
     "traceback": [
      "\u001b[1;31m---------------------------------------------------------------------------\u001b[0m\n",
      "\u001b[1;31mValueError\u001b[0m                                Traceback (most recent call last)\n",
      "Cell \u001b[1;32mIn[28], line 5\u001b[0m\n",
      "\u001b[0;32m      3\u001b[0m \u001b[38;5;28;01mif\u001b[39;00m (a \u001b[38;5;241m<\u001b[39m \u001b[38;5;241m1\u001b[39m \u001b[38;5;129;01mor\u001b[39;00m a \u001b[38;5;241m>\u001b[39m \u001b[38;5;241m10\u001b[39m ):\n",
      "\u001b[0;32m      4\u001b[0m     \u001b[38;5;28mprint\u001b[39m(a)\n",
      "\u001b[1;32m----> 5\u001b[0m     \u001b[38;5;28;01mraise\u001b[39;00m \u001b[38;5;167;01mValueError\u001b[39;00m(\u001b[38;5;124m'\u001b[39m\u001b[38;5;124mnot between 1 - 10\u001b[39m\u001b[38;5;124m'\u001b[39m)\n",
      "\n",
      "\u001b[1;31mValueError\u001b[0m: not between 1 - 10"
     ]
    }
   ],
   "source": [
    "a = int(input('number between 1 - 10 : '))\n",
    "#print(a)\n",
    "if (a < 1 or a > 10 ):\n",
    "    print(a)\n",
    "    raise ValueError('not between 1 - 10')"
   ]
  },
  {
   "cell_type": "code",
   "execution_count": null,
   "metadata": {},
   "outputs": [
    {
     "name": "stdout",
     "output_type": "stream",
     "text": [
      "1000\n"
     ]
    },
    {
     "ename": "ValueError",
     "evalue": "not valid salary",
     "output_type": "error",
     "traceback": [
      "\u001b[1;31m---------------------------------------------------------------------------\u001b[0m\n",
      "\u001b[1;31mValueError\u001b[0m                                Traceback (most recent call last)\n",
      "Cell \u001b[1;32mIn[41], line 5\u001b[0m\n",
      "\u001b[0;32m      3\u001b[0m \u001b[38;5;28;01mif\u001b[39;00m \u001b[38;5;129;01mnot\u001b[39;00m \u001b[38;5;241m2000\u001b[39m \u001b[38;5;241m<\u001b[39m\u001b[38;5;241m=\u001b[39m Salary \u001b[38;5;241m<\u001b[39m \u001b[38;5;241m5000\u001b[39m:\n",
      "\u001b[0;32m      4\u001b[0m     \u001b[38;5;28mprint\u001b[39m(Salary)\n",
      "\u001b[1;32m----> 5\u001b[0m     \u001b[38;5;28;01mraise\u001b[39;00m \u001b[38;5;167;01mValueError\u001b[39;00m(\u001b[38;5;124m'\u001b[39m\u001b[38;5;124mnot valid salary\u001b[39m\u001b[38;5;124m'\u001b[39m)\n",
      "\n",
      "\u001b[1;31mValueError\u001b[0m: not valid salary"
     ]
    }
   ],
   "source": [
    "Salary = int(input('Salary is : '))\n",
    "if not 2000 <= Salary < 5000:\n",
    "    print(Salary)\n",
    "    raise ValueError('not valid salary')"
   ]
  }
 ],
 "metadata": {
  "kernelspec": {
   "display_name": "base",
   "language": "python",
   "name": "python3"
  },
  "language_info": {
   "codemirror_mode": {
    "name": "ipython",
    "version": 3
   },
   "file_extension": ".py",
   "mimetype": "text/x-python",
   "name": "python",
   "nbconvert_exporter": "python",
   "pygments_lexer": "ipython3",
   "version": "3.11.7"
  }
 },
 "nbformat": 4,
 "nbformat_minor": 2
}
