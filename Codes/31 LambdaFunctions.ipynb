{
 "cells": [
  {
   "cell_type": "markdown",
   "metadata": {},
   "source": [
    "# Lambda Functions in Python\n",
    "In Python, a lambda function is a small anonymous function without a name. It is defined using the lambda keyword and has the following syntax:\n",
    "\n",
    "```python\n",
    "lambda arguments: expression\n",
    "```\n",
    "Lambda functions are often used in situations where a small function is required for a short period of time. They are commonly used as arguments to higher-order functions, such as map, filter, and reduce.\n",
    "\n",
    "Here is an example of how to use a lambda function:\n",
    "\n",
    "```python\n",
    "# Function to double the input\n",
    "def double(x):\n",
    "  return x * 2\n",
    "\n",
    "# Lambda function to double the input\n",
    "lambda x: x * 2\n",
    "```\n",
    "The above lambda function has the same functionality as the double function defined earlier. However, the lambda function is anonymous, as it does not have a name.\n",
    "\n",
    "Lambda functions can have multiple arguments, just like regular functions. Here is an example of a lambda function with multiple arguments:\n",
    "\n",
    "```python\n",
    "# Function to calculate the product of two numbers\n",
    "def multiply(x, y):\n",
    "    return x * y\n",
    "\n",
    "# Lambda function to calculate the product of two numbers\n",
    "lambda x, y: x * y\n",
    "```\n",
    "Lambda functions can also include multiple statements, but they are limited to a single expression. For example:\n",
    "\n",
    "```python\n",
    "# Lambda function to calculate the product of two numbers,\n",
    "# with additional print statement\n",
    "lambda x, y: print(f'{x} * {y} = {x * y}')\n",
    "```\n",
    "In the above example, the lambda function includes a print statement, but it is still limited to a single expression.\n",
    "\n",
    "Lambda functions are often used in conjunction with higher-order functions, such as map, filter, and reduce which we will look into later.\n",
    "## [Next Lesson>>](https://replit.com/@codewithharry/53-Day53-Map-Filter-and-Reduce)"
   ]
  },
  {
   "cell_type": "code",
   "execution_count": 1,
   "metadata": {},
   "outputs": [
    {
     "name": "stdout",
     "output_type": "stream",
     "text": [
      "10\n",
      "125\n",
      "6.0\n",
      "10\n"
     ]
    }
   ],
   "source": [
    "# def double(x):\n",
    "#   return x*2\n",
    "\n",
    "def appl(fx, value):\n",
    "  return 6 + fx(value)\n",
    "\n",
    "double = lambda x: x * 2\n",
    "cube = lambda x: x * x * x\n",
    "avg = lambda x, y, z: (x + y + z) / 3\n",
    "\n",
    "print(double(5))\n",
    "print(cube(5))\n",
    "print(avg(3, 5, 10))\n",
    "print(appl(lambda x: x * x , 2))"
   ]
  },
  {
   "cell_type": "code",
   "execution_count": null,
   "metadata": {},
   "outputs": [],
   "source": []
  },
  {
   "cell_type": "markdown",
   "metadata": {},
   "source": [
    "### lambda function"
   ]
  },
  {
   "cell_type": "code",
   "execution_count": null,
   "metadata": {},
   "outputs": [
    {
     "name": "stdout",
     "output_type": "stream",
     "text": [
      "20\n"
     ]
    }
   ],
   "source": [
    "#def double_value(num):\n",
    "#    return num * 2\n",
    "#print(double_value(10))\n",
    "double_value = lambda num : num*2\n",
    "print(double_value(10))"
   ]
  },
  {
   "cell_type": "code",
   "execution_count": null,
   "metadata": {},
   "outputs": [
    {
     "name": "stdout",
     "output_type": "stream",
     "text": [
      "[0, 1, 2, 5, 6, 7, 10, 33, 45, 121, 999, 2164]\n",
      "[('Anna', 25), ('Lisa', 10), ('Paul', 40)]\n",
      "[('Lisa', 10), ('Anna', 25), ('Paul', 40)]\n"
     ]
    }
   ],
   "source": [
    "# some functions wants function as an argument\n",
    "rand_lst = [1,5,6,10,45,2,7,999,2164,121,33,00]\n",
    "print(sorted(rand_lst))\n",
    "random_list = [('Anna', 25), ('Paul',40), ('Lisa',10)]\n",
    "sorted_list = sorted(random_list)\n",
    "print(sorted_list)\n",
    "sorted_list = sorted(random_list, key = lambda user_tuple:user_tuple[1])\n",
    "print(sorted_list)\n"
   ]
  },
  {
   "cell_type": "code",
   "execution_count": null,
   "metadata": {},
   "outputs": [
    {
     "name": "stdout",
     "output_type": "stream",
     "text": [
      "['A1', 'A2', 'A3', 'A4', 'A5', 'B1', 'B2', 'B3', 'B4', 'B5', 'C1', 'C2', 'C4', 'C5', 'D1', 'D2', 'D3', 'D4', 'D5', 'E1', 'E2', 'E3', 'E4', 'E5']\n"
     ]
    }
   ],
   "source": [
    "battleship_board = [f'{letter}{num}' for letter in ('A', 'B', 'C', 'D', 'E') for num in range(1,6) if f'{letter}{num}' != 'C3']\n",
    "print(battleship_board)"
   ]
  }
 ],
 "metadata": {
  "kernelspec": {
   "display_name": "base",
   "language": "python",
   "name": "python3"
  },
  "language_info": {
   "codemirror_mode": {
    "name": "ipython",
    "version": 3
   },
   "file_extension": ".py",
   "mimetype": "text/x-python",
   "name": "python",
   "nbconvert_exporter": "python",
   "pygments_lexer": "ipython3",
   "version": "3.11.7"
  }
 },
 "nbformat": 4,
 "nbformat_minor": 2
}
