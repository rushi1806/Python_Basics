{
 "cells": [
  {
   "cell_type": "markdown",
   "metadata": {},
   "source": [
    "# Introduction to Loops\n",
    "Sometimes a programmer wants to execute a group of statements a certain number of times. This can be done using loops. Based on this loops are further classified into following main types; \n",
    "- for loop\n",
    "- while loop \n",
    "# The for Loop\n",
    "for loops can iterate over a sequence of iterable objects in python. Iterating over a sequence is nothing but iterating over strings, lists, tuples, sets and dictionaries.\n",
    "\n",
    "## Example: iterating over a string:\n",
    "\n",
    "```python \n",
    "name = 'Abhishek'\n",
    "for i in name:\n",
    "    print(i, end=\", \")\n",
    "```\n",
    "## Output:\n",
    "\n",
    "A, b, h, i, s, h, e, k,\n",
    " \n",
    "\n",
    "## Example: iterating over a list:\n",
    "\n",
    "``` python \n",
    "colors = [\"Red\", \"Green\", \"Blue\", \"Yellow\"]\n",
    "for x in colors:\n",
    "    print(x)\n",
    "```\n",
    "## Output:\n",
    "\n",
    "Red\\\n",
    "Green\\\n",
    "Blue\\\n",
    "Yellow\n",
    "\n",
    "Similarly, we can use loops for lists, sets and dictionaries.\n",
    "## range():\n",
    "What if we do not want to iterate over a sequence? What if we want to use for loop for a specific number of times?\n",
    "\n",
    "Here, we can use the range() function.\n",
    "\n",
    "## Example:\n",
    "```python\n",
    "for k in range(5):\n",
    "    print(k)\n",
    "```\n",
    "## Output:\n",
    "\n",
    "0\\\n",
    "1\\\n",
    "2\\\n",
    "3\\\n",
    "4\\\n",
    "Here, we can see that the loop starts from 0 by default and increments at each iteration.\n",
    "\n",
    " \n",
    "\n",
    "But we can also loop over a specific range.\n",
    "\n",
    "## Example:\n",
    "```python\n",
    "for k in range(4,9):\n",
    "    print(k)\n",
    "```\n",
    "## Output:\n",
    "\n",
    "4\\\n",
    "5\\\n",
    "6\\\n",
    "7\\\n",
    "8\n",
    "\n",
    "## Quick Quiz\n",
    "Explore about third parameter of range (ie range(x, y, z))\n",
    "## [Next Lesson>>](https://replit.com/@codewithharry/18-Day18-While-Loops)"
   ]
  },
  {
   "cell_type": "code",
   "execution_count": 1,
   "metadata": {},
   "outputs": [
    {
     "name": "stdout",
     "output_type": "stream",
     "text": [
      "1\n",
      "4\n",
      "7\n",
      "10\n"
     ]
    }
   ],
   "source": [
    "# name = 'Abhishek'\n",
    "# for i in name:\n",
    "#   print(i)\n",
    "#   if(i ==\"b\"):\n",
    "#     print(\"This is something special!\")\n",
    "    \n",
    "# colors = [\"Red\", \"Green\", \"Blue\", \"Yellow\"]\n",
    "# for color in colors:\n",
    "#   print(color)\n",
    "#   for i in color:\n",
    "#     print(i)\n",
    "\n",
    "# for k in range(5):\n",
    "#   print(k + 1)\n",
    "  \n",
    "# for k in range(1, 20001):\n",
    "#   print(k)\n",
    "\n",
    "  \n",
    "for k in range(1, 12, 3):\n",
    "  print(k)"
   ]
  },
  {
   "cell_type": "markdown",
   "metadata": {},
   "source": [
    "# Python - else in Loop\n",
    "As you have learned before, the else clause is used along with the if statement.\n",
    "\n",
    "Python allows the else keyword to be used with the for and while loops too. The else block appears after the body of the loop. The statements in the else block will be executed after all iterations are completed. The program exits the loop only after the else block is executed.\n",
    "## Syntax\n",
    "```\n",
    "for counter in sequence:\n",
    "    #Statements inside for loop block\n",
    "else:\n",
    "    #Statements inside else block\n",
    "```\n",
    "## Example:\n",
    "```\n",
    "for x in range(5):\n",
    "    print (\"iteration no {} in for loop\".format(x+1))\n",
    "else:\n",
    "    print (\"else block in loop\")\n",
    "print (\"Out of loop\")\n",
    "```\n",
    "## Output:\n",
    "```\n",
    "iteration no 1 in for loop\n",
    "iteration no 2 in for loop\n",
    "iteration no 3 in for loop\n",
    "iteration no 4 in for loop\n",
    "iteration no 5 in for loop\n",
    "else block in loop\n",
    "Out of loop\n",
    "```\n",
    "## [Next Lesson>>](https://replit.com/@codewithharry/36-Day36-Exception-Handling)\n"
   ]
  },
  {
   "cell_type": "code",
   "execution_count": 3,
   "metadata": {},
   "outputs": [
    {
     "name": "stdout",
     "output_type": "stream",
     "text": [
      "0\n",
      "1\n",
      "2\n",
      "3\n",
      "4\n",
      "5\n",
      "6\n",
      "Sorry no i\n",
      "iteration no 1 in for loop\n",
      "iteration no 2 in for loop\n",
      "iteration no 3 in for loop\n",
      "iteration no 4 in for loop\n",
      "iteration no 5 in for loop\n",
      "else block in loop\n",
      "Out of loop\n"
     ]
    }
   ],
   "source": [
    "i = 0\n",
    "while i<7:\n",
    "  print(i)\n",
    "  i = i + 1\n",
    "  # if i == 4:\n",
    "  #   break\n",
    "\n",
    "else:\n",
    "  print(\"Sorry no i\")\n",
    "\n",
    "for x in range(5):\n",
    "    print (\"iteration no {} in for loop\".format(x+1))\n",
    "else:\n",
    "    print (\"else block in loop\")\n",
    "print (\"Out of loop\")"
   ]
  },
  {
   "cell_type": "code",
   "execution_count": null,
   "metadata": {},
   "outputs": [],
   "source": []
  },
  {
   "cell_type": "markdown",
   "metadata": {},
   "source": [
    "#### For Loop"
   ]
  },
  {
   "cell_type": "code",
   "execution_count": null,
   "metadata": {},
   "outputs": [
    {
     "name": "stdout",
     "output_type": "stream",
     "text": [
      "H\n",
      "r\n",
      "i\n",
      "s\n",
      "h\n",
      "i\n"
     ]
    }
   ],
   "source": [
    "name = \"Hrishi\"\n",
    "for i in name:\n",
    "    print(i)"
   ]
  },
  {
   "cell_type": "code",
   "execution_count": null,
   "metadata": {},
   "outputs": [
    {
     "name": "stdout",
     "output_type": "stream",
     "text": [
      "Hrishi\n",
      "H\n",
      "r\n",
      "i\n",
      "s\n",
      "h\n",
      "i\n",
      "Bad boy\n",
      "Rosh\n",
      "R\n",
      "❤️\n",
      "o\n",
      "s\n",
      "h\n"
     ]
    }
   ],
   "source": [
    "import emoji\n",
    "lst = [\"Hrishi\", \"Rosh\"]\n",
    "for i in lst:\n",
    "    print(i)\n",
    "    for j in i:\n",
    "        print(j)\n",
    "        if j == 'R':\n",
    "            print(emoji.emojize(\":red_heart:\"))\n",
    "    if i == \"Hrishi\":\n",
    "        print('Bad boy')"
   ]
  },
  {
   "cell_type": "code",
   "execution_count": null,
   "metadata": {},
   "outputs": [
    {
     "name": "stdout",
     "output_type": "stream",
     "text": [
      "1\n",
      "3\n",
      "5\n",
      "7\n",
      "9\n",
      "11\n",
      "13\n",
      "15\n",
      "17\n",
      "19\n",
      "21\n",
      "23\n",
      "25\n",
      "27\n",
      "29\n",
      "31\n",
      "33\n",
      "35\n",
      "37\n",
      "39\n",
      "41\n",
      "43\n",
      "45\n",
      "47\n",
      "49\n",
      "51\n",
      "53\n",
      "55\n",
      "57\n",
      "59\n",
      "61\n",
      "63\n",
      "65\n",
      "67\n",
      "69\n",
      "71\n",
      "73\n",
      "75\n",
      "77\n",
      "79\n",
      "81\n",
      "83\n",
      "85\n",
      "87\n",
      "89\n",
      "91\n",
      "93\n",
      "95\n",
      "97\n",
      "99\n"
     ]
    }
   ],
   "source": [
    "for i in range(1,100,2):\n",
    "    print(i)"
   ]
  },
  {
   "cell_type": "markdown",
   "metadata": {},
   "source": [
    "#### For else"
   ]
  },
  {
   "cell_type": "code",
   "execution_count": null,
   "metadata": {},
   "outputs": [
    {
     "name": "stdout",
     "output_type": "stream",
     "text": [
      "0\n",
      "1\n",
      "2\n",
      "3\n",
      "Over\n"
     ]
    }
   ],
   "source": [
    "for i in range(4):\n",
    "    print(i)\n",
    "else:\n",
    "    print(\"Over\")"
   ]
  },
  {
   "cell_type": "code",
   "execution_count": null,
   "metadata": {},
   "outputs": [
    {
     "name": "stdout",
     "output_type": "stream",
     "text": [
      "0\n",
      "1\n",
      "2\n",
      "3\n"
     ]
    }
   ],
   "source": [
    "for i in range(4):\n",
    "    print(i)\n",
    "    if i == 3:\n",
    "        break\n",
    "else:\n",
    "    print(\"Over\")"
   ]
  }
 ],
 "metadata": {
  "kernelspec": {
   "display_name": "base",
   "language": "python",
   "name": "python3"
  },
  "language_info": {
   "codemirror_mode": {
    "name": "ipython",
    "version": 3
   },
   "file_extension": ".py",
   "mimetype": "text/x-python",
   "name": "python",
   "nbconvert_exporter": "python",
   "pygments_lexer": "ipython3",
   "version": "3.11.7"
  }
 },
 "nbformat": 4,
 "nbformat_minor": 2
}
