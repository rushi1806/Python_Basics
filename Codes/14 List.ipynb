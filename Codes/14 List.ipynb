{
 "cells": [
  {
   "cell_type": "markdown",
   "metadata": {},
   "source": [
    "# Python Lists\n",
    "- Lists are ordered collection of data items.\n",
    " - They store multiple items in a single variable.\n",
    " - List items are separated by commas and enclosed within square brackets [].\n",
    " - Lists are changeable meaning we can alter them after creation.\n",
    "\n",
    "Example 1:\n",
    "```python\n",
    "lst1 = [1,2,2,3,5,4,6]\n",
    "lst2 = [\"Red\", \"Green\", \"Blue\"]\n",
    "print(lst1)\n",
    "print(lst2)\n",
    "```\n",
    "Output:\n",
    "```\n",
    "[1, 2, 2, 3, 5, 4, 6]\n",
    "['Red', 'Green', 'Blue']\n",
    "```\n",
    "\n",
    "Example 2:\n",
    "```python\n",
    "details = [\"Abhijeet\", 18, \"FYBScIT\", 9.8]\n",
    "print(details)\n",
    "```\n",
    "Output:\n",
    "```\n",
    "['Abhijeet', 18, 'FYBScIT', 9.8]\n",
    "```\n",
    "As we can see, a single list can contain items of different data types.\n"
   ]
  },
  {
   "cell_type": "markdown",
   "metadata": {},
   "source": [
    "# List Index\n",
    "Each item/element in a list has its own unique index. This index can be used to access any particular item from the list. The first item has index [0], second item has index [1], third item has index [2] and so on.\n",
    "\n",
    "#### Example:\n",
    "```python\n",
    "colors = [\"Red\", \"Green\", \"Blue\", \"Yellow\", \"Green\"]\n",
    "#          [0]      [1]     [2]      [3]      [4]\n",
    " ```\n",
    "\n",
    "# Accessing list items\n",
    " We can access list items by using its index with the square bracket syntax []. For example colors[0] will give \"Red\", colors[1] will give \"Green\" and so on...\n",
    "\n",
    "## Positive Indexing:\n",
    "As we have seen that list items have index, as such we can access items using these indexes.\n",
    "\n",
    "#### Example:\n",
    "```python\n",
    "colors = [\"Red\", \"Green\", \"Blue\", \"Yellow\", \"Green\"]\n",
    "#          [0]      [1]     [2]      [3]      [4]\n",
    "print(colors[2])\n",
    "print(colors[4])\n",
    "print(colors[0])\n",
    "```\n",
    "#### Output:\n",
    "```\n",
    "Blue\n",
    "Green\n",
    "Red\n",
    " ```\n",
    "\n",
    "## Negative Indexing:\n",
    "Similar to positive indexing, negative indexing is also used to access items, but from the end of the list. The last item has index [-1], second last item has index [-2], third last item has index [-3] and so on.\n",
    "\n",
    "#### Example:\n",
    "```python\n",
    "colors = [\"Red\", \"Green\", \"Blue\", \"Yellow\", \"Green\"]\n",
    "#          [-5]    [-4]    [-3]     [-2]      [-1]\n",
    "print(colors[-1])\n",
    "print(colors[-3])\n",
    "print(colors[-5])\n",
    "```\n",
    "#### Output:\n",
    "```\n",
    "Green\n",
    "Blue\n",
    "Red\n",
    "```\n",
    "\n",
    "## Check whether an item in present in the list?\n",
    "We can check if a given item is present in the list. This is done using the `in` keyword.\n",
    "```python\n",
    "colors = [\"Red\", \"Green\", \"Blue\", \"Yellow\", \"Green\"]\n",
    "if \"Yellow\" in colors:\n",
    "    print(\"Yellow is present.\")\n",
    "else:\n",
    "    print(\"Yellow is absent.\")\n",
    "  ```\n",
    "#### Output:\n",
    "\n",
    "```\n",
    "Yellow is present.\n",
    "```\n",
    " \n",
    "```python\n",
    "colors = [\"Red\", \"Green\", \"Blue\", \"Yellow\", \"Green\"]\n",
    "if \"Orange\" in colors:\n",
    "    print(\"Orange is present.\")\n",
    "else:\n",
    "    print(\"Orange is absent.\")\n",
    "```\n",
    "#### Output:\n",
    "```\n",
    "Orange is absent.\n",
    "```\n",
    "\n",
    "## Range of Index:\n",
    "You can print a range of list items by specifying where you want to start, where do you want to end and if you want to skip elements in between the range. \n",
    "\n",
    "Syntax:\n",
    "```python\n",
    "listName[start : end : jumpIndex]\n",
    "```\n",
    "Note: jump Index is optional. We will see this in later examples.\n",
    "\n",
    " \n",
    "\n",
    "### Example: printing elements within a particular range:\n",
    "```python\n",
    "animals = [\"cat\", \"dog\", \"bat\", \"mouse\", \"pig\", \"horse\", \"donkey\", \"goat\", \"cow\"]\n",
    "print(animals[3:7])\t#using positive indexes\n",
    "print(animals[-7:-2])\t#using negative indexes'\n",
    "```\n",
    "#### Output:\n",
    "```\n",
    "['mouse', 'pig', 'horse', 'donkey']\n",
    "['bat', 'mouse', 'pig', 'horse', 'donkey']\n",
    "```\n",
    "Here, we provide index of the element from where we want to start and the index of the element till which we want to print the values.\n",
    "\n",
    "Note: The element of the end index provided will not be included. \n",
    "\n",
    " \n",
    "\n",
    "### Example: printing all element from a given index till the end\n",
    "```python\n",
    "animals = [\"cat\", \"dog\", \"bat\", \"mouse\", \"pig\", \"horse\", \"donkey\", \"goat\", \"cow\"]\n",
    "print(animals[4:])\t#using positive indexes\n",
    "print(animals[-4:])\t#using negative indexes\n",
    "```\n",
    "### Output:\n",
    "```\n",
    "['pig', 'horse', 'donkey', 'goat', 'cow']\n",
    "['horse', 'donkey', 'goat', 'cow']\n",
    "```\n",
    "When no end index is provided, the interpreter prints all the values till the end.\n",
    "\n",
    " \n",
    "\n",
    "### Example: printing all elements from start to a given index\n",
    "```python\n",
    "animals = [\"cat\", \"dog\", \"bat\", \"mouse\", \"pig\", \"horse\", \"donkey\", \"goat\", \"cow\"]\n",
    "print(animals[:6])\t#using positive indexes\n",
    "print(animals[:-3])\t#using negative indexes\n",
    "```\n",
    "#### Output:\n",
    "```\n",
    "['cat', 'dog', 'bat', 'mouse', 'pig', 'horse']\n",
    "['cat', 'dog', 'bat', 'mouse', 'pig', 'horse']\n",
    "```\n",
    "When no start index is provided, the interpreter prints all the values from start up to the end index provided. \n",
    "\n",
    " \n",
    "\n",
    "### Example: Printing alternate values\n",
    "```python\n",
    "animals = [\"cat\", \"dog\", \"bat\", \"mouse\", \"pig\", \"horse\", \"donkey\", \"goat\", \"cow\"]\n",
    "print(animals[::2])\t\t#using positive indexes\n",
    "print(animals[-8:-1:2])\t#using negative indexes\n",
    "```\n",
    "### Output:\n",
    "```\n",
    "['cat', 'bat', 'pig', 'donkey', 'cow']\n",
    "['dog', 'mouse', 'horse', 'goat']\n",
    "```\n",
    "Here, we have not provided start and index, which means all the values will be considered. But as we have provided a jump index of 2 only alternate values will be printed. \n",
    "\n",
    " \n",
    "\n",
    "### Example: printing every 3rd consecutive value withing a given range\n",
    "```python\n",
    "animals = [\"cat\", \"dog\", \"bat\", \"mouse\", \"pig\", \"horse\", \"donkey\", \"goat\", \"cow\"]\n",
    "print(animals[1:8:3])\n",
    "```\n",
    "### Output:\n",
    "```\n",
    "['dog', 'pig', 'goat\n",
    "```\n",
    "Here, jump index is 3. Hence it prints every 3rd element within given index."
   ]
  },
  {
   "cell_type": "markdown",
   "metadata": {},
   "source": [
    "# List Comprehension\n",
    "List comprehensions are used for creating new lists from other iterables like lists, tuples, dictionaries, sets, and even in arrays and strings.\n",
    "\n",
    " \n",
    "\n",
    "## Syntax:\n",
    "\n",
    "List = [Expression(item) for item in iterable if Condition]\n",
    "\n",
    "**Expression**: It is the item which is being iterated.\n",
    "\n",
    "**Iterable**: It can be list, tuples, dictionaries, sets, and even in arrays and strings.\n",
    "\n",
    "**Condition**: Condition checks if the item should be added to the new list or not. \n",
    "\n",
    " \n",
    "\n",
    "### Example 1: Accepts items with the small letter “o” in the new list \n",
    "```python\n",
    "names = [\"Milo\", \"Sarah\", \"Bruno\", \"Anastasia\", \"Rosa\"]\n",
    "namesWith_O = [item for item in names if \"o\" in item]\n",
    "print(namesWith_O)\n",
    "```\n",
    "### Output:\n",
    "```\n",
    "['Milo', 'Bruno', 'Rosa']\n",
    " ```\n",
    "\n",
    "### Example 2: Accepts items which have more than 4 letters\n",
    "```python\n",
    "names = [\"Milo\", \"Sarah\", \"Bruno\", \"Anastasia\", \"Rosa\"]\n",
    "namesWith_O = [item for item in names if (len(item) > 4)]\n",
    "print(namesWith_O)\n",
    "```\n",
    "### Output:\n",
    "```\n",
    "['Sarah', 'Bruno', 'Anastasia']\n",
    "```\n",
    "## [Next Lesson>>](https://replit.com/@codewithharry/23-Day-23-List-Methods)"
   ]
  },
  {
   "cell_type": "code",
   "execution_count": 2,
   "metadata": {},
   "outputs": [
    {
     "name": "stdout",
     "output_type": "stream",
     "text": [
      "[0, 1, 4, 9, 16, 25, 36, 49, 64, 81]\n",
      "[0, 4, 16, 36, 64]\n"
     ]
    }
   ],
   "source": [
    "marks = [3, 5, 6, \"Harry\", True, 6, 7 , 2, 32, 345, 23]\n",
    "# print(marks)\n",
    "# print(type(marks))\n",
    "# print(marks[0])\n",
    "# print(marks[1])\n",
    "# print(marks[2])\n",
    "# print(marks[3])\n",
    "# print(marks[4])\n",
    "# print(marks[5])\n",
    "\n",
    "# print(marks[-3]) # Negative index\n",
    "# print(marks[len(marks)-3]) # Positive index\n",
    "# print(marks[5-3]) # Positive index\n",
    "# print(marks[2]) # Positive index\n",
    "\n",
    "# if \"6\" in marks:\n",
    "#   print(\"Yes\")\n",
    "# else:\n",
    "#   print(\"No\")\n",
    "\n",
    "# Same thing applies for strings as well!\n",
    "# if \"Ha\" in \"Harry\":\n",
    "#   print(\"Yes\")\n",
    "\n",
    "# print(marks[0:7])\n",
    "# print(marks[1:9])\n",
    "# print(marks[1:9:3])\n",
    "\n",
    "lst = [i*i for i in range(10)]\n",
    "print(lst)\n",
    "lst = [i*i for i in range(10) if i%2==0]\n",
    "print(lst)"
   ]
  },
  {
   "cell_type": "markdown",
   "metadata": {},
   "source": [
    "# List Methods\n",
    "## list.sort()\n",
    "This method sorts the list in ascending order. The original list is updated\n",
    "### Example 1:\n",
    "```python\n",
    "colors = [\"voilet\", \"indigo\", \"blue\", \"green\"]\n",
    "colors.sort()\n",
    "print(colors)\n",
    "\n",
    "num = [4,2,5,3,6,1,2,1,2,8,9,7]\n",
    "num.sort()\n",
    "print(num)\n",
    "```\n",
    "### Output:\n",
    "```\n",
    "['blue', 'green', 'indigo', 'voilet']\\\n",
    "[1, 1, 2, 2, 2, 3, 4, 5, 6, 7, 8, 9]\n",
    " \n",
    "```\n",
    "What if you want to print the list in descending order?\\\n",
    "We must give reverse=True as a parameter in the sort method.\n",
    "\n",
    "### Example:\n",
    "```python\n",
    "colors = [\"voilet\", \"indigo\", \"blue\", \"green\"]\n",
    "colors.sort(reverse=True)\n",
    "print(colors)\n",
    "\n",
    "num = [4,2,5,3,6,1,2,1,2,8,9,7]\n",
    "num.sort(reverse=True)\n",
    "print(num)\n",
    "```\n",
    "#### Output:\n",
    "```\n",
    "['voilet', 'indigo', 'green', 'blue']\n",
    "[9, 8, 7, 6, 5, 4, 3, 2, 2, 2, 1, 1]\n",
    " ```\n",
    "\n",
    "The reverse parameter is set to False by default.\n",
    "\n",
    "Note: Do not mistake the reverse parameter with the reverse method.\n",
    "\n",
    " \n",
    "\n",
    "## reverse()\n",
    "This method reverses the order of the list. \n",
    "\n",
    "#### Example:\n",
    "```python\n",
    "colors = [\"voilet\", \"indigo\", \"blue\", \"green\"]\n",
    "colors.reverse()\n",
    "print(colors)\n",
    "\n",
    "num = [4,2,5,3,6,1,2,1,2,8,9,7]\n",
    "num.reverse()\n",
    "print(num)\n",
    "```\n",
    "#### Output:\n",
    "```\n",
    "['green', 'blue', 'indigo', 'voilet']\n",
    "[7, 9, 8, 2, 1, 2, 1, 6, 3, 5, 2, 4]\n",
    " ```\n",
    "\n",
    "## index()\n",
    "This method returns the index of the first occurrence of the list item.\n",
    "#### Example:\n",
    "```python\n",
    "colors = [\"voilet\", \"green\", \"indigo\", \"blue\", \"green\"]\n",
    "print(colors.index(\"green\"))\n",
    "\n",
    "num = [4,2,5,3,6,1,2,1,3,2,8,9,7]\n",
    "print(num.index(3))\n",
    "```\n",
    "Output:\n",
    "```\n",
    "1\n",
    "3\n",
    " ```\n",
    "\n",
    "## count()\n",
    "Returns the count of the number of items with the given value.\n",
    "#### Example:\n",
    "```python\n",
    "colors = [\"voilet\", \"green\", \"indigo\", \"blue\", \"green\"]\n",
    "print(colors.count(\"green\"))\n",
    "\n",
    "num = [4,2,5,3,6,1,2,1,3,2,8,9,7]\n",
    "```\n",
    "#### Output:\n",
    "```\n",
    "2\n",
    "3\n",
    " ```\n",
    "\n",
    "## copy()\n",
    "Returns copy of the list. This can be done to perform operations on the list without modifying the original list. \n",
    "\n",
    "#### Example:\n",
    "```python\n",
    "colors = [\"voilet\", \"green\", \"indigo\", \"blue\"]\n",
    "newlist = colors.copy()\n",
    "print(colors)\n",
    "print(newlist)\n",
    "```\n",
    "#### Output:\n",
    "```\n",
    "['voilet', 'green', 'indigo', 'blue']\n",
    "['voilet', 'green', 'indigo', 'blue']\n",
    "```\n",
    "## append():\n",
    "This method appends items to the end of the existing list.\n",
    "\n",
    "#### Example:\n",
    "```python\n",
    "colors = [\"voilet\", \"indigo\", \"blue\"]\n",
    "colors.append(\"green\")\n",
    "print(colors)\n",
    "```\n",
    "#### Output:\n",
    "```\n",
    "['voilet', 'indigo', 'blue', 'green']\n",
    " ```\n",
    "## insert():\n",
    "This method inserts an item at the given index. User has to specify index and the item to be inserted within the insert() method.\n",
    "\n",
    "#### Example:\n",
    "```python\n",
    "colors = [\"voilet\", \"indigo\", \"blue\"]\n",
    "#           [0]        [1]      [2]\n",
    "\n",
    "colors.insert(1, \"green\")   #inserts item at index 1\n",
    "# updated list: colors = [\"voilet\", \"green\", \"indigo\", \"blue\"]\n",
    "#       indexs              [0]       [1]       [2]      [3]\n",
    "\n",
    "print(colors)\n",
    "```\n",
    "#### Output:\n",
    "```\n",
    "['voilet', 'green', 'indigo', 'blue']\n",
    " ```\n",
    "## extend():\n",
    "This method adds an entire list or any other collection datatype (set, tuple, dictionary) to the existing list.\n",
    "\n",
    "#### Example 1:\n",
    "```python\n",
    "#add a list to a list\n",
    "colors = [\"voilet\", \"indigo\", \"blue\"]\n",
    "rainbow = [\"green\", \"yellow\", \"orange\", \"red\"]\n",
    "colors.extend(rainbow)\n",
    "print(colors)\n",
    "```\n",
    "#### Output:\n",
    "```\n",
    "['voilet', 'indigo', 'blue', 'green', 'yellow', 'orange', 'red']\n",
    " ```\n",
    "## Concatenating two lists:\n",
    "You can simply concatenate two lists to join two lists.\n",
    "\n",
    "#### Example:\n",
    "```python\n",
    "colors = [\"voilet\", \"indigo\", \"blue\", \"green\"]\n",
    "colors2 = [\"yellow\", \"orange\", \"red\"]\n",
    "print(colors + colors2)\n",
    "```\n",
    "#### Output:\n",
    "```\n",
    "['voilet', 'indigo', 'blue', 'green', 'yellow', 'orange', 'red']\n",
    "```\n",
    "## [Next Lesson>>](https://replit.com/@codewithharry/24-Day24-Introduction-to-Tuples)"
   ]
  },
  {
   "cell_type": "code",
   "execution_count": 3,
   "metadata": {},
   "outputs": [
    {
     "name": "stdout",
     "output_type": "stream",
     "text": [
      "[11, 45, 1, 2, 4, 6, 1, 1]\n",
      "[11, 45, 1, 2, 4, 6, 1, 1]\n"
     ]
    }
   ],
   "source": [
    "l = [11, 45, 1, 2, 4, 6, 1, 1]\n",
    "print(l)\n",
    "# l.append(7)\n",
    "# l.sort(reverse=True)\n",
    "# l.reverse()\n",
    "# print(l.index(1))\n",
    "# print(l.count(1))\n",
    "# m = l.copy()\n",
    "# m[0] = 0\n",
    "# l.insert(1, 899)\n",
    "m = [900, 1000, 1100]\n",
    "k = l + m\n",
    "# print(k)\n",
    "# l.extend(m)\n",
    "print(l)"
   ]
  },
  {
   "cell_type": "code",
   "execution_count": null,
   "metadata": {},
   "outputs": [],
   "source": []
  },
  {
   "cell_type": "markdown",
   "metadata": {},
   "source": [
    "#### List"
   ]
  },
  {
   "cell_type": "code",
   "execution_count": 4,
   "metadata": {},
   "outputs": [
    {
     "name": "stdout",
     "output_type": "stream",
     "text": [
      "[5, 6, 7, 'Hrishi', 'Patil', True]\n",
      "Yes\n",
      "Correct\n"
     ]
    }
   ],
   "source": [
    "lst = [5, 6, 7, \"Hrishi\", 'Patil', True]\n",
    "print(lst)\n",
    "if 6 in lst:\n",
    "    print('Yes')\n",
    "else:\n",
    "    print('No')\n",
    "\n",
    "\n",
    "if \"rishi\" in \"Hrishi\":\n",
    "    print('Correct')\n",
    "else:\n",
    "    print('Wrong')"
   ]
  },
  {
   "cell_type": "markdown",
   "metadata": {},
   "source": [
    "##### List Comprehension"
   ]
  },
  {
   "cell_type": "code",
   "execution_count": 5,
   "metadata": {},
   "outputs": [
    {
     "name": "stdout",
     "output_type": "stream",
     "text": [
      "[1, 4, 9, 16, 25, 36, 49, 64, 81, 100, 121, 144, 169, 196, 225, 256, 289, 324, 361]\n",
      "[4, 16, 36, 64, 100, 144, 196, 256, 324]\n"
     ]
    }
   ],
   "source": [
    "lst = [i*i for i in range(1,20)]\n",
    "print(lst)\n",
    "\n",
    "lst = [i*i for i in range(1,20) if i%2 == 0]\n",
    "print(lst)"
   ]
  },
  {
   "cell_type": "code",
   "execution_count": 6,
   "metadata": {},
   "outputs": [
    {
     "data": {
      "text/plain": [
       "[5, 6, 7, 8, 15, 5, 2, 6, 4, 3, 1]"
      ]
     },
     "execution_count": 6,
     "metadata": {},
     "output_type": "execute_result"
    }
   ],
   "source": [
    "lst = [5,6,7,8,15,5,2,6,4,3,1]\n",
    "lst\n"
   ]
  },
  {
   "cell_type": "code",
   "execution_count": null,
   "metadata": {},
   "outputs": [],
   "source": []
  },
  {
   "cell_type": "code",
   "execution_count": 7,
   "metadata": {},
   "outputs": [
    {
     "data": {
      "text/plain": [
       "[5, 6, 7, 8, 15, 5, 2, 6, 4, 3, 1, 20]"
      ]
     },
     "execution_count": 7,
     "metadata": {},
     "output_type": "execute_result"
    }
   ],
   "source": [
    "lst.append(20)\n",
    "lst"
   ]
  },
  {
   "cell_type": "code",
   "execution_count": 8,
   "metadata": {},
   "outputs": [
    {
     "data": {
      "text/plain": [
       "[1, 2, 3, 4, 5, 5, 6, 6, 7, 8, 15, 20]"
      ]
     },
     "execution_count": 8,
     "metadata": {},
     "output_type": "execute_result"
    }
   ],
   "source": [
    "lst.sort()\n",
    "lst"
   ]
  },
  {
   "cell_type": "code",
   "execution_count": 9,
   "metadata": {},
   "outputs": [
    {
     "data": {
      "text/plain": [
       "[20, 15, 8, 7, 6, 6, 5, 5, 4, 3, 2, 1]"
      ]
     },
     "execution_count": 9,
     "metadata": {},
     "output_type": "execute_result"
    }
   ],
   "source": [
    "lst.reverse()\n",
    "lst"
   ]
  },
  {
   "cell_type": "code",
   "execution_count": 10,
   "metadata": {},
   "outputs": [
    {
     "name": "stdout",
     "output_type": "stream",
     "text": [
      "3\n",
      "2\n"
     ]
    }
   ],
   "source": [
    "print(lst.index(7))\n",
    "print(lst.count(5))"
   ]
  },
  {
   "cell_type": "code",
   "execution_count": 11,
   "metadata": {},
   "outputs": [
    {
     "name": "stdout",
     "output_type": "stream",
     "text": [
      "[20, 15, 8, 7, 6, 6, 5, 5, 4, 3, 2, 1]\n",
      "[20, 15, 8, 7, 6, 6, 5, 5, 4, 3, 2, 1]\n"
     ]
    }
   ],
   "source": [
    "lst1 = lst.copy()\n",
    "print(lst1)\n",
    "print(lst)"
   ]
  },
  {
   "cell_type": "code",
   "execution_count": 12,
   "metadata": {},
   "outputs": [
    {
     "name": "stdout",
     "output_type": "stream",
     "text": [
      "[20, 15, 8, 7, 6, 6, 5, 5, 4, 3, 2, 1, 40]\n",
      "[20, 15, 8, 7, 6, 6, 5, 5, 4, 3, 2, 1]\n"
     ]
    }
   ],
   "source": [
    "lst1.append(40)\n",
    "print(lst1)\n",
    "print(lst)"
   ]
  },
  {
   "cell_type": "code",
   "execution_count": 13,
   "metadata": {},
   "outputs": [
    {
     "data": {
      "text/plain": [
       "[20, 50, 15, 8, 7, 6, 6, 5, 5, 4, 3, 2, 1]"
      ]
     },
     "execution_count": 13,
     "metadata": {},
     "output_type": "execute_result"
    }
   ],
   "source": [
    "lst.insert(1,50)\n",
    "lst"
   ]
  },
  {
   "cell_type": "code",
   "execution_count": 14,
   "metadata": {},
   "outputs": [
    {
     "data": {
      "text/plain": [
       "[20, 50, 15, 8, 7, 6, 6, 5, 5, 4, 3, 2, 1, 'a', 'b']"
      ]
     },
     "execution_count": 14,
     "metadata": {},
     "output_type": "execute_result"
    }
   ],
   "source": [
    "lst2 = ['a', 'b']  \n",
    "lst.extend(lst2)\n",
    "lst"
   ]
  },
  {
   "cell_type": "code",
   "execution_count": 15,
   "metadata": {},
   "outputs": [
    {
     "data": {
      "text/plain": [
       "[20, 50, 15, 8, 7, 6, 6, 5, 5, 4, 3, 2, 1, 'a', 'b', 'a', 'b']"
      ]
     },
     "execution_count": 15,
     "metadata": {},
     "output_type": "execute_result"
    }
   ],
   "source": [
    "lst3 = lst + lst2\n",
    "lst3"
   ]
  },
  {
   "cell_type": "code",
   "execution_count": 16,
   "metadata": {},
   "outputs": [
    {
     "name": "stdout",
     "output_type": "stream",
     "text": [
      "[20, 50, 15, 8, 7, 6, 6, 5, 5, 4, 3, 2, 1, 'a', 'b']\n",
      "[20, 50, 15, 8, 7, 6, 6, 5, 5, 4, 3, 2, 1, 'a']\n"
     ]
    }
   ],
   "source": [
    "print(lst)\n",
    "lst.pop()\n",
    "print(lst)\n"
   ]
  },
  {
   "cell_type": "markdown",
   "metadata": {},
   "source": [
    "#### Tuples (Immutable)"
   ]
  },
  {
   "cell_type": "code",
   "execution_count": 17,
   "metadata": {},
   "outputs": [
    {
     "name": "stdout",
     "output_type": "stream",
     "text": [
      "(5, 6, 7, 'Hrishi', 'Patil', True)\n",
      "Yes\n",
      "Correct\n"
     ]
    }
   ],
   "source": [
    "tup = (5, 6, 7, \"Hrishi\", 'Patil', True)\n",
    "print(tup)\n",
    "if 6 in tup:\n",
    "    print('Yes')\n",
    "else:\n",
    "    print('No')\n",
    "\n",
    "\n",
    "if \"rishi\" in \"Hrishi\":\n",
    "    print('Correct')\n",
    "else:\n",
    "    print('Wrong')"
   ]
  },
  {
   "cell_type": "code",
   "execution_count": 18,
   "metadata": {},
   "outputs": [
    {
     "name": "stdout",
     "output_type": "stream",
     "text": [
      "<generator object <genexpr> at 0x000001DFD2F34E10>\n",
      "<generator object <genexpr> at 0x000001DFD2F35490>\n"
     ]
    }
   ],
   "source": [
    "tup = (i*i for i in range(1,20))\n",
    "print(tup)\n",
    "\n",
    "tup = (i*i for i in range(1,20) if i%2 == 0)\n",
    "print(tup)"
   ]
  },
  {
   "cell_type": "code",
   "execution_count": 19,
   "metadata": {},
   "outputs": [
    {
     "name": "stdout",
     "output_type": "stream",
     "text": [
      "4\n",
      "2\n",
      "14\n"
     ]
    }
   ],
   "source": [
    "tup1 = (1,1,5,2,4,6,1,9,3,7,3,4,6,8,1,5)\n",
    "print(tup1.count(1))\n",
    "print(tup1.index(5))\n",
    "print(tup1.index(1, 8, 16))"
   ]
  },
  {
   "cell_type": "markdown",
   "metadata": {},
   "source": [
    "#### Set"
   ]
  },
  {
   "cell_type": "code",
   "execution_count": 20,
   "metadata": {},
   "outputs": [],
   "source": [
    "s1 = {1,2,5,6}\n",
    "s2 = {7,8,9,2,5}"
   ]
  },
  {
   "cell_type": "code",
   "execution_count": 21,
   "metadata": {},
   "outputs": [
    {
     "name": "stdout",
     "output_type": "stream",
     "text": [
      "{1, 2, 5, 6, 7, 8, 9}\n",
      "{1, 2, 5, 6, 7, 8, 9}\n"
     ]
    }
   ],
   "source": [
    "#print(s1.union(s2))\n",
    "#print(s1.intersection(s2))\n",
    "#print(s1.intersection_update(s2))\n",
    "s1.update(s2)\n",
    "print(s1)\n",
    "s2.update(s1)\n",
    "print(s2)\n",
    "#print(s1.symmetric_difference(s2))\n",
    "#print(s1.difference(s2))\n",
    "# print(s1.difference_update(s2))\n",
    "# s1.add(50)\n",
    "# print(s1)\n",
    "# s1.remove(50)\n",
    "# print(s1)\n",
    "# s2.discard(5)\n",
    "# print(s2)\n",
    "#s2.remove(5)\n",
    "#print(s2)"
   ]
  },
  {
   "cell_type": "code",
   "execution_count": 22,
   "metadata": {},
   "outputs": [],
   "source": [
    "s1 = {1,2,5,6}\n",
    "s2 = {7,8,9,2,5}\n",
    "#s2.pop()\n",
    "#del s2\n",
    "#print(s2)\n",
    "#s1.clear()\n",
    "#print(s1)"
   ]
  },
  {
   "cell_type": "markdown",
   "metadata": {},
   "source": [
    "#### Dict"
   ]
  },
  {
   "cell_type": "code",
   "execution_count": 23,
   "metadata": {},
   "outputs": [],
   "source": [
    "a = {1:25, 2:30, 3:50, 5:20, 4:30}\n",
    "b = {7:35, 6:55, 9:15, 8:15, 10:10}"
   ]
  },
  {
   "cell_type": "code",
   "execution_count": 24,
   "metadata": {},
   "outputs": [
    {
     "name": "stdout",
     "output_type": "stream",
     "text": [
      "{1: 25, 2: 30, 3: 50, 5: 20, 4: 30, 7: 35, 6: 55, 9: 15, 8: 15, 10: 10}\n",
      "{}\n",
      "{1: 25, 2: 30, 3: 50, 5: 20, 4: 30, 7: 35, 6: 55, 9: 15, 8: 15}\n",
      "{1: 25, 2: 30, 5: 20, 4: 30, 7: 35, 6: 55, 9: 15, 8: 15}\n",
      "{1: 25, 2: 30, 5: 20, 4: 30, 7: 35, 6: 55, 8: 15}\n"
     ]
    }
   ],
   "source": [
    "a.update(b)\n",
    "print(a)\n",
    "b.clear()\n",
    "print(b)\n",
    "a.popitem()\n",
    "print(a)\n",
    "a.pop(3)\n",
    "print(a)\n",
    "#del b\n",
    "#print(b)\n",
    "del a[9]\n",
    "print(a)"
   ]
  },
  {
   "cell_type": "code",
   "execution_count": 25,
   "metadata": {},
   "outputs": [],
   "source": [
    "a = {1:25, 2:30, 3:50, 5:20, 4:30}\n",
    "b = {7:35, 6:55, 9:15, 8:15, 10:10}"
   ]
  },
  {
   "cell_type": "code",
   "execution_count": null,
   "metadata": {},
   "outputs": [],
   "source": []
  },
  {
   "cell_type": "code",
   "execution_count": null,
   "metadata": {},
   "outputs": [],
   "source": []
  },
  {
   "cell_type": "code",
   "execution_count": null,
   "metadata": {},
   "outputs": [],
   "source": []
  },
  {
   "cell_type": "code",
   "execution_count": null,
   "metadata": {},
   "outputs": [],
   "source": []
  },
  {
   "cell_type": "code",
   "execution_count": null,
   "metadata": {},
   "outputs": [],
   "source": []
  }
 ],
 "metadata": {
  "kernelspec": {
   "display_name": "base",
   "language": "python",
   "name": "python3"
  },
  "language_info": {
   "codemirror_mode": {
    "name": "ipython",
    "version": 3
   },
   "file_extension": ".py",
   "mimetype": "text/x-python",
   "name": "python",
   "nbconvert_exporter": "python",
   "pygments_lexer": "ipython3",
   "version": "3.11.7"
  }
 },
 "nbformat": 4,
 "nbformat_minor": 2
}
