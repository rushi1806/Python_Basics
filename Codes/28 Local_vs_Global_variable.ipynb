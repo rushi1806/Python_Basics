{
 "cells": [
  {
   "cell_type": "markdown",
   "metadata": {},
   "source": [
    "# local and global variables\n",
    "Before we dive into the differences between local and global variables, let's first recall what a variable is in Python.\n",
    "\n",
    "A variable is a named location in memory that stores a value. In Python, we can assign values to variables using the assignment operator =. For example:\n",
    "```python \n",
    "x = 5\n",
    "y = \"Hello, World!\"\n",
    "\n",
    "```\n",
    "\n",
    "Now, let's talk about local and global variables.\n",
    "\n",
    "A local variable is a variable that is defined within a function and is only accessible within that function. It is created when the function is called and is destroyed when the function returns.\n",
    "\n",
    "On the other hand, a global variable is a variable that is defined outside of a function and is accessible from within any function in your code.\n",
    "\n",
    "Here's an example to help clarify the difference:\n",
    "```python\n",
    "x = 10 # global variable\n",
    "\n",
    "def my_function():\n",
    "  y = 5 # local variable\n",
    "  print(y)\n",
    "\n",
    "my_function()\n",
    "print(x)\n",
    "print(y) # this will cause an error because y is a local variable and is not accessible outside of the function\n",
    "\n",
    "```\n",
    "In this example, we have a global variable x and a local variable y. We can access the value of the global variable x from within the function, but we cannot access the value of the local variable y outside of the function.\n",
    "# The global keyword\n",
    "Now, what if we want to modify a global variable from within a function? This is where the global keyword comes in.\n",
    "\n",
    "The global keyword is used to declare that a variable is a global variable and should be accessed from the global scope. Here's an example:\n",
    "```python \n",
    "x = 10 # global variable\n",
    "\n",
    "def my_function():\n",
    "  global x\n",
    "  x = 5 # this will change the value of the global variable x\n",
    "  y = 5 # local variable\n",
    "\n",
    "my_function()\n",
    "print(x) # prints 5\n",
    "print(y) # this will cause an error because y is a local variable and is not accessible outside of the function\n",
    "\n",
    "```\n",
    "\n",
    "In this example, we used the global keyword to declare that we want to modify the global variable x from within the function. As a result, the value of x is changed to 5.\n",
    "\n",
    "It's important to note that it's generally considered good practice to avoid modifying global variables from within functions, as it can lead to unexpected behavior and make your code harder to debug.\n",
    "\n",
    "I hope this tutorial has helped clarify the differences between local and global variables and how to use the global keyword in Python. Thank you for watching!\n",
    "## [Next Lesson>>](https://replit.com/@codewithharry/49-Day49-File-IO)"
   ]
  },
  {
   "cell_type": "code",
   "execution_count": 1,
   "metadata": {},
   "outputs": [
    {
     "name": "stdout",
     "output_type": "stream",
     "text": [
      "5\n"
     ]
    }
   ],
   "source": [
    "x = 10  # global variable\n",
    "\n",
    "\n",
    "def my_function():\n",
    "  global x\n",
    "  x = 5  # this will change the value of the global variable x\n",
    "  y = 5  # local variable\n",
    "\n",
    "\n",
    "my_function()\n",
    "print(x)  # prints 5\n",
    "# print(y) # this will cause an error because y is a local variable and is not accessible outside of the function"
   ]
  },
  {
   "cell_type": "code",
   "execution_count": null,
   "metadata": {},
   "outputs": [],
   "source": [
    "\\"
   ]
  }
 ],
 "metadata": {
  "kernelspec": {
   "display_name": "base",
   "language": "python",
   "name": "python3"
  },
  "language_info": {
   "codemirror_mode": {
    "name": "ipython",
    "version": 3
   },
   "file_extension": ".py",
   "mimetype": "text/x-python",
   "name": "python",
   "nbconvert_exporter": "python",
   "pygments_lexer": "ipython3",
   "version": "3.11.7"
  }
 },
 "nbformat": 4,
 "nbformat_minor": 2
}
