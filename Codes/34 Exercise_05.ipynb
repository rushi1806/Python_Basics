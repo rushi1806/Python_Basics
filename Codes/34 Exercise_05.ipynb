{
 "cells": [
  {
   "cell_type": "markdown",
   "metadata": {},
   "source": [
    "# Snake Water Gun\n",
    "Snake, Water and Gun is a variation of the children's game \"rock-paper-scissors\" where players use hand gestures to represent a snake, water, or a gun. The gun beats the snake, the water beats the gun, and the snake beats the water.\n",
    "Write a python program to create a Snake Water Gun game in Python using if-else statements. Do not create any fancy GUI. Use proper functions to check for win.\n",
    "\n",
    "## [Next Lesson>>](https://replit.com/@codewithharry/56-Day56-Intro-to-oops)\n"
   ]
  },
  {
   "cell_type": "code",
   "execution_count": 2,
   "metadata": {},
   "outputs": [],
   "source": [
    "#                 S W G\n",
    "# computer =      0 1 2\n",
    "# player =  S  0  D W L\n",
    "#           W  1  L D W\n",
    "#           G  2  W L D"
   ]
  },
  {
   "cell_type": "code",
   "execution_count": 4,
   "metadata": {},
   "outputs": [
    {
     "name": "stdout",
     "output_type": "stream",
     "text": [
      "You:  5\n",
      "Computer:  1\n",
      "You Won\n"
     ]
    }
   ],
   "source": [
    "import random\n",
    "\n",
    "def check(comp, user):\n",
    "  if comp ==user:\n",
    "    return 0\n",
    "    \n",
    "  if(comp == 0 and user ==1):\n",
    "    return -1\n",
    "    \n",
    "  if(comp == 1 and user ==2):\n",
    "    return -1\n",
    "    \n",
    "  if(comp == 2 and user == 0):\n",
    "    return -1\n",
    "\n",
    "  return 1\n",
    "    \n",
    "  \n",
    "comp = random.randint(0, 2)\n",
    "user = int(input(\"0 for Snake, 1 for water and 2 for Gun:\\n\"))\n",
    "\n",
    "score = check(comp, user)\n",
    "\n",
    "print(\"You: \", user)\n",
    "print(\"Computer: \", comp)\n",
    "\n",
    "if(score == 0):\n",
    "  print(\"Its a draw\")\n",
    "elif (score == -1):\n",
    "  print(\"You Lose\")\n",
    "else:\n",
    "  print(\"You Won\")\n",
    "  \n",
    "\n",
    "\n",
    "\n"
   ]
  },
  {
   "cell_type": "code",
   "execution_count": null,
   "metadata": {},
   "outputs": [],
   "source": []
  }
 ],
 "metadata": {
  "kernelspec": {
   "display_name": "base",
   "language": "python",
   "name": "python3"
  },
  "language_info": {
   "codemirror_mode": {
    "name": "ipython",
    "version": 3
   },
   "file_extension": ".py",
   "mimetype": "text/x-python",
   "name": "python",
   "nbconvert_exporter": "python",
   "pygments_lexer": "ipython3",
   "version": "3.11.7"
  }
 },
 "nbformat": 4,
 "nbformat_minor": 2
}
