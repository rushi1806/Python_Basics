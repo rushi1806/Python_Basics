{
 "cells": [
  {
   "cell_type": "markdown",
   "metadata": {},
   "source": [
    "## `if \"__name__ == \"__main__\"` in Python\n",
    "The if `__name__ == \"__main__\"` idiom is a common pattern used in Python scripts to determine whether the script is being run directly or being imported as a module into another script.\n",
    "\n",
    "In Python, the `__name__` variable is a built-in variable that is automatically set to the name of the current module. When a Python script is run directly, the `__name__` variable is set to the string `__main__` When the script is imported as a module into another script, the `__name__` variable is set to the name of the module.\n",
    "\n",
    "Here's an example of how the if `__name__` == `__main__` idiom can be used:\n",
    "\n",
    "```python\n",
    "def main():\n",
    "    # Code to be run when the script is run directly\n",
    "    print(\"Running script directly\")\n",
    "\n",
    "if __name__ == \"__main__\":\n",
    "    main()\n",
    "```\n",
    "In this example, the main function contains the code that should be run when the script is run directly. The if statement at the bottom checks whether the `__name__` variable is equal to `__main__`. If it is, the main function is called.\n",
    "## Why is it useful?\n",
    "This idiom is useful because it allows you to reuse code from a script by importing it as a module into another script, without running the code in the original script. For example, consider the following script:\n",
    "\n",
    "```python\n",
    "def main():\n",
    "    print(\"Running script directly\")\n",
    "\n",
    "if __name__ == \"__main__\":\n",
    "    main()\n",
    "```\n",
    "If you run this script directly, it will output \"Running script directly\". However, if you import it as a module into another script and call the main function from the imported module, it will not output anything:\n",
    "\n",
    "```python\n",
    "import script\n",
    "\n",
    "script.main()  # Output: \"Running script directly\"\n",
    "```\n",
    "This can be useful if you have code that you want to reuse in multiple scripts, but you only want it to run when the script is run directly and not when it's imported as a module.\n",
    "\n",
    "## Is it a necessity?\n",
    "It's important to note that the `if __name__ == \"__main__\"` idiom is not required to run a Python script. You can still run a script without it by simply calling the functions or running the code you want to execute directly. However, the `if __name__ == \"__main__\"` idiom can be a useful tool for organizing and separating code that should be run directly from code that should be imported and used as a module.\n",
    "\n",
    "In summary, the `if __name__ == \"__main__\"` idiom is a common pattern used in Python scripts to determine whether the script is being run directly or being imported as a module into another script. It allows you to reuse code from a script by importing it as a module into another script, without running the code in the original script.\n",
    "## [Next Lesson>>](https://replit.com/@codewithharry/46-Day-46-os-Module)"
   ]
  },
  {
   "cell_type": "code",
   "execution_count": 4,
   "metadata": {},
   "outputs": [
    {
     "name": "stdout",
     "output_type": "stream",
     "text": [
      "Hey you are welcome my friend\n"
     ]
    }
   ],
   "source": [
    "import harry1\n",
    "\n",
    "harry.welcome()"
   ]
  },
  {
   "cell_type": "code",
   "execution_count": null,
   "metadata": {},
   "outputs": [],
   "source": []
  },
  {
   "cell_type": "code",
   "execution_count": null,
   "metadata": {},
   "outputs": [],
   "source": []
  }
 ],
 "metadata": {
  "kernelspec": {
   "display_name": "base",
   "language": "python",
   "name": "python3"
  },
  "language_info": {
   "codemirror_mode": {
    "name": "ipython",
    "version": 3
   },
   "file_extension": ".py",
   "mimetype": "text/x-python",
   "name": "python",
   "nbconvert_exporter": "python",
   "pygments_lexer": "ipython3",
   "version": "3.11.7"
  }
 },
 "nbformat": 4,
 "nbformat_minor": 2
}
