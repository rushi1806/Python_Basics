{
 "cells": [
  {
   "cell_type": "markdown",
   "metadata": {},
   "source": [
    "# Operators\n",
    "Python has different types of operators for different operations. To create a calculator we require arithmetic operators.\n",
    "# Arithmetic operators\n",
    "\n",
    "\n",
    "|   Operator             |Operator Name                          |Example                         |\n",
    "|----------------|-------------------------------|-----------------------------|\n",
    "|+|`Addition`            |``` 15+7 ```            |\n",
    "|-|`Subtraction`            |``` 15-7 ```            |\n",
    "|*|`Multiplication`            |``` 5*7 ```            |\n",
    "|**|`Exponential`            |``` 5**3 ```            |\n",
    "|/|`Division`            |``` 5/3 ```            |\n",
    "|%|`Modulus`            |``` 15%7 ```            |\n",
    "|//|`Floor Division`            |``` 15//7 ```            |\n",
    "\n",
    "# Exercise\n",
    "```python\n",
    "n = 15\n",
    "m = 7\n",
    "ans1 = n+m\n",
    "print(\"Addition of\",n,\"and\",m,\"is\", ans1)\n",
    "ans2 = n-m\n",
    "print(\"Subtraction of\",n,\"and\",m,\"is\", ans2)\n",
    "ans3 = n*m\n",
    "print(\"Multiplication of\",n,\"and\",m,\"is\", ans3)\n",
    "ans4 = n/m\n",
    "print(\"Division of\",n,\"and\",m,\"is\", ans4)\n",
    "ans5 = n%m\n",
    "print(\"Modulus of\",n,\"and\",m,\"is\", ans5)\n",
    "ans6 = n//m\n",
    "print(\"Floor Division of\",n,\"and\",m,\"is\", ans6)\n",
    "```\n",
    "# Explaination\n",
    "Here 'n' and 'm' are two variables in which the integer value is being stored. Variables 'ans1' , 'ans2' ,'ans3', 'ans4','ans5' and 'ans6' contains the outputs corresponding to addition, subtraction,multiplication, division, modulus and floor division respectively."
   ]
  },
  {
   "cell_type": "markdown",
   "metadata": {},
   "source": [
    "## Exercise 1 - Create a Calculator\n",
    "Create a calculator capable of performing addition, subtraction, multiplication and division operations on two numbers. Your program should format the output in a readable manner!\n",
    "\n",
    "## [Next Lesson>>](https://replit.com/@codewithharry/08-Day8-Exercise-1-Create-a-Calculator-Solution#main.py)"
   ]
  },
  {
   "cell_type": "code",
   "execution_count": 1,
   "metadata": {},
   "outputs": [
    {
     "name": "stdout",
     "output_type": "stream",
     "text": [
      "11\n",
      "9\n",
      "90\n",
      "2.5\n",
      "2\n",
      "2\n",
      "16\n"
     ]
    }
   ],
   "source": [
    "print(5+6)\n",
    "print(15-6)\n",
    "print(15*6)\n",
    "print(15/6)\n",
    "print(15//6)\n",
    "print(5%3)\n",
    "print(2**4)"
   ]
  },
  {
   "cell_type": "markdown",
   "metadata": {},
   "source": []
  },
  {
   "cell_type": "code",
   "execution_count": 2,
   "metadata": {},
   "outputs": [
    {
     "name": "stdout",
     "output_type": "stream",
     "text": [
      "True\n",
      "False\n",
      "True\n",
      "False\n",
      "False\n",
      "True\n",
      "True\n",
      "False\n"
     ]
    }
   ],
   "source": [
    "print(5 == 5)\n",
    "print(5 == 4)\n",
    "print(5 > 4)\n",
    "print(5 < 5)\n",
    "print(5 < 4)\n",
    "print(5 >= 5)\n",
    "print(5 <= 5)\n",
    "print(5 <= 4)"
   ]
  },
  {
   "cell_type": "code",
   "execution_count": 3,
   "metadata": {},
   "outputs": [
    {
     "name": "stdout",
     "output_type": "stream",
     "text": [
      "c\n"
     ]
    }
   ],
   "source": [
    "if 5 > 4:\n",
    "    print('c')\n",
    "else:\n",
    "    print('d')"
   ]
  },
  {
   "cell_type": "code",
   "execution_count": 4,
   "metadata": {},
   "outputs": [
    {
     "name": "stdout",
     "output_type": "stream",
     "text": [
      "b\n"
     ]
    }
   ],
   "source": [
    "if 5 > 6:\n",
    "    print('c')\n",
    "elif 2 > 1:\n",
    "    print('b')\n",
    "else:\n",
    "    print('d')"
   ]
  },
  {
   "cell_type": "code",
   "execution_count": 5,
   "metadata": {},
   "outputs": [
    {
     "name": "stdout",
     "output_type": "stream",
     "text": [
      "b\n"
     ]
    }
   ],
   "source": [
    "if 5 > 6:\n",
    "    print('c')\n",
    "elif 2 > 1 and 2 == 2:\n",
    "    print('b')\n",
    "else:\n",
    "    print('d')"
   ]
  },
  {
   "cell_type": "code",
   "execution_count": 6,
   "metadata": {},
   "outputs": [
    {
     "name": "stdout",
     "output_type": "stream",
     "text": [
      "d\n"
     ]
    }
   ],
   "source": [
    "if 5 > 6:\n",
    "    print('c')\n",
    "elif 2 > 1 and 2 != 2:\n",
    "    print('b')\n",
    "else:\n",
    "    print('d')"
   ]
  },
  {
   "cell_type": "code",
   "execution_count": 7,
   "metadata": {},
   "outputs": [
    {
     "name": "stdout",
     "output_type": "stream",
     "text": [
      "b\n",
      "e\n"
     ]
    }
   ],
   "source": [
    "if 5 > 6:\n",
    "    print('c')\n",
    "elif 2 > 1 and 2 == 2:\n",
    "    print('b')\n",
    "    if len([1,2,3]) > 2:\n",
    "        print('e')\n",
    "else:\n",
    "    print('d')"
   ]
  },
  {
   "cell_type": "code",
   "execution_count": 8,
   "metadata": {},
   "outputs": [
    {
     "name": "stdout",
     "output_type": "stream",
     "text": [
      "d\n"
     ]
    }
   ],
   "source": [
    "if 5 > 6:\n",
    "    print('c')\n",
    "elif 2 > 1 and 2 != 2:\n",
    "    print('b')\n",
    "    if len([1,2,3]) > 2:\n",
    "        print('e')\n",
    "else:\n",
    "    print('d')"
   ]
  },
  {
   "cell_type": "code",
   "execution_count": 9,
   "metadata": {},
   "outputs": [
    {
     "name": "stdout",
     "output_type": "stream",
     "text": [
      "b\n"
     ]
    }
   ],
   "source": [
    "if 5 > 6:\n",
    "    print('c')\n",
    "elif 2 > 1 and 2 == 2:\n",
    "    print('b')\n",
    "    if len([1,2,3]) > 4:\n",
    "        print('e')\n",
    "else:\n",
    "    print('d')\n",
    "    "
   ]
  },
  {
   "cell_type": "code",
   "execution_count": 10,
   "metadata": {},
   "outputs": [
    {
     "name": "stdout",
     "output_type": "stream",
     "text": [
      "0\n",
      "1\n",
      "2\n",
      "3\n",
      "4\n",
      "cmt is 5\n",
      "5\n",
      "6\n",
      "7\n",
      "8\n",
      "9\n",
      "10\n",
      "stop\n"
     ]
    }
   ],
   "source": [
    "cmt = 0\n",
    "while cmt <=10:\n",
    "       print(cmt)\n",
    "       cmt += 1\n",
    "       if cmt == 5:\n",
    "              print('cmt is 5')\n",
    "print(\"stop\")"
   ]
  },
  {
   "cell_type": "code",
   "execution_count": 11,
   "metadata": {},
   "outputs": [
    {
     "name": "stdout",
     "output_type": "stream",
     "text": [
      "1\n",
      "2\n",
      "4\n",
      "5\n"
     ]
    }
   ],
   "source": [
    "lst = [1,2,4,5]\n",
    "for i in lst:\n",
    "       print(i)\n",
    "       "
   ]
  },
  {
   "cell_type": "code",
   "execution_count": 12,
   "metadata": {},
   "outputs": [
    {
     "ename": "TypeError",
     "evalue": "'int' object is not subscriptable",
     "output_type": "error",
     "traceback": [
      "\u001b[1;31m---------------------------------------------------------------------------\u001b[0m",
      "\u001b[1;31mTypeError\u001b[0m                                 Traceback (most recent call last)",
      "Cell \u001b[1;32mIn[12], line 3\u001b[0m\n\u001b[0;32m      1\u001b[0m lst \u001b[38;5;241m=\u001b[39m [\u001b[38;5;241m1\u001b[39m,\u001b[38;5;241m2\u001b[39m,\u001b[38;5;241m4\u001b[39m,\u001b[38;5;241m5\u001b[39m]\n\u001b[0;32m      2\u001b[0m \u001b[38;5;28;01mfor\u001b[39;00m i \u001b[38;5;129;01min\u001b[39;00m lst:\n\u001b[1;32m----> 3\u001b[0m        \u001b[38;5;28mprint\u001b[39m(i[\u001b[38;5;241m2\u001b[39m])\n",
      "\u001b[1;31mTypeError\u001b[0m: 'int' object is not subscriptable"
     ]
    }
   ],
   "source": [
    "       \n",
    "lst = [1,2,4,5]\n",
    "for i in lst:\n",
    "       print(i[2])"
   ]
  },
  {
   "cell_type": "code",
   "execution_count": 13,
   "metadata": {},
   "outputs": [
    {
     "name": "stdout",
     "output_type": "stream",
     "text": [
      "1\n",
      "2\n",
      "4\n",
      "5\n"
     ]
    }
   ],
   "source": [
    "lst = {1,2,4,5}\n",
    "for i in lst:\n",
    "       print(i)"
   ]
  },
  {
   "cell_type": "code",
   "execution_count": 14,
   "metadata": {},
   "outputs": [
    {
     "name": "stdout",
     "output_type": "stream",
     "text": [
      "1\n",
      "2\n",
      "4\n",
      "5\n"
     ]
    }
   ],
   "source": [
    "lst = (1,2,4,5)\n",
    "for i in lst:\n",
    "       print(i)"
   ]
  },
  {
   "cell_type": "code",
   "execution_count": 15,
   "metadata": {},
   "outputs": [
    {
     "name": "stdout",
     "output_type": "stream",
     "text": [
      "5\n",
      "2\n",
      "4\n"
     ]
    }
   ],
   "source": [
    "lst = {5:1,2:6,4:7,5:0}\n",
    "for i in lst:\n",
    "       print(i)"
   ]
  },
  {
   "cell_type": "code",
   "execution_count": 16,
   "metadata": {},
   "outputs": [
    {
     "name": "stdout",
     "output_type": "stream",
     "text": [
      "5\n",
      "2\n",
      "4\n"
     ]
    }
   ],
   "source": [
    "lst = {5:1,2:6,4:7,5:0}\n",
    "for i in lst.keys():    ###only dict\n",
    "       print(i)"
   ]
  },
  {
   "cell_type": "code",
   "execution_count": 17,
   "metadata": {},
   "outputs": [
    {
     "name": "stdout",
     "output_type": "stream",
     "text": [
      "0\n",
      "6\n",
      "7\n"
     ]
    }
   ],
   "source": [
    "lst = {5:1,2:6,4:7,5:0}\n",
    "for i in lst.values():   #only for dict\n",
    "       print(i)"
   ]
  },
  {
   "cell_type": "code",
   "execution_count": 18,
   "metadata": {},
   "outputs": [
    {
     "ename": "TypeError",
     "evalue": "'int' object is not subscriptable",
     "output_type": "error",
     "traceback": [
      "\u001b[1;31m---------------------------------------------------------------------------\u001b[0m",
      "\u001b[1;31mTypeError\u001b[0m                                 Traceback (most recent call last)",
      "Cell \u001b[1;32mIn[18], line 3\u001b[0m\n\u001b[0;32m      1\u001b[0m lst \u001b[38;5;241m=\u001b[39m {\u001b[38;5;241m5\u001b[39m:\u001b[38;5;241m1\u001b[39m,\u001b[38;5;241m2\u001b[39m:\u001b[38;5;241m6\u001b[39m,\u001b[38;5;241m4\u001b[39m:\u001b[38;5;241m7\u001b[39m,\u001b[38;5;241m5\u001b[39m:\u001b[38;5;241m0\u001b[39m}\n\u001b[0;32m      2\u001b[0m \u001b[38;5;28;01mfor\u001b[39;00m x \u001b[38;5;129;01min\u001b[39;00m lst\u001b[38;5;241m.\u001b[39mkeys():   \u001b[38;5;66;03m#only for dict\u001b[39;00m\n\u001b[1;32m----> 3\u001b[0m        \u001b[38;5;28mprint\u001b[39m(x[\u001b[38;5;241m2\u001b[39m])\n",
      "\u001b[1;31mTypeError\u001b[0m: 'int' object is not subscriptable"
     ]
    }
   ],
   "source": [
    "lst = {5:1,2:6,4:7,5:0}\n",
    "for x in lst.keys():   #only for dict\n",
    "       print(x[2])"
   ]
  },
  {
   "cell_type": "code",
   "execution_count": 19,
   "metadata": {},
   "outputs": [
    {
     "name": "stdout",
     "output_type": "stream",
     "text": [
      "(5, 0)\n",
      "(2, 6)\n",
      "(4, 7)\n"
     ]
    }
   ],
   "source": [
    "lst = {5:1,2:6,4:7,5:0}\n",
    "for i in lst.items():   #only for dict\n",
    "       print(i)"
   ]
  },
  {
   "cell_type": "code",
   "execution_count": 20,
   "metadata": {},
   "outputs": [
    {
     "name": "stdout",
     "output_type": "stream",
     "text": [
      "5\n",
      "0\n",
      "2\n",
      "6\n",
      "4\n",
      "7\n"
     ]
    }
   ],
   "source": [
    "lst = {5:1,2:6,4:7,5:0}\n",
    "for k,v in lst.items():   #only for dict\n",
    "       print(k)\n",
    "       print(v)"
   ]
  },
  {
   "cell_type": "code",
   "execution_count": 21,
   "metadata": {},
   "outputs": [
    {
     "name": "stdout",
     "output_type": "stream",
     "text": [
      "0\n",
      "the value is not 2\n",
      "1\n",
      "the value is 2\n",
      "2\n",
      "the value is not 2\n",
      "3\n",
      "the value is not 2\n",
      "4\n",
      "the value is not 2\n",
      "5\n",
      "the value is not 2\n"
     ]
    }
   ],
   "source": [
    "cmt = 0\n",
    "while cmt <= 5:\n",
    "    print(cmt)\n",
    "    cmt += 1\n",
    "    if cmt == 2 :\n",
    "        print(\"the value is 2\")\n",
    "    else:\n",
    "        print(\"the value is not 2\")"
   ]
  },
  {
   "cell_type": "code",
   "execution_count": 22,
   "metadata": {},
   "outputs": [
    {
     "name": "stdout",
     "output_type": "stream",
     "text": [
      "the value is not 2\n",
      "the value is 2\n",
      "the value is not 2\n",
      "the value is not 2\n",
      "the value is not 2\n",
      "last item\n",
      "last item\n",
      "last item\n",
      "last item\n",
      "last item\n",
      "last item\n",
      "last item\n"
     ]
    }
   ],
   "source": [
    "lst = [1,2,3,4,5]\n",
    "lst_counter = 0\n",
    "for i in lst:\n",
    "    if i == 2:\n",
    "        print(\"the value is 2\")\n",
    "    else:\n",
    "        print(\"the value is not 2\")\n",
    "while lst_counter <=6:\n",
    "    print('last item')\n",
    "    lst_counter += 1"
   ]
  },
  {
   "cell_type": "code",
   "execution_count": 23,
   "metadata": {},
   "outputs": [
    {
     "name": "stdout",
     "output_type": "stream",
     "text": [
      "the value is not 2\n"
     ]
    }
   ],
   "source": [
    "lst = [1,2,3,4,5]\n",
    "if lst == 2:\n",
    "    print(\"the value is 2\")\n",
    "else:\n",
    "    print(\"the value is not 2\")"
   ]
  },
  {
   "cell_type": "code",
   "execution_count": null,
   "metadata": {},
   "outputs": [],
   "source": []
  },
  {
   "cell_type": "code",
   "execution_count": null,
   "metadata": {},
   "outputs": [],
   "source": []
  }
 ],
 "metadata": {
  "kernelspec": {
   "display_name": "base",
   "language": "python",
   "name": "python3"
  },
  "language_info": {
   "codemirror_mode": {
    "name": "ipython",
    "version": 3
   },
   "file_extension": ".py",
   "mimetype": "text/x-python",
   "name": "python",
   "nbconvert_exporter": "python",
   "pygments_lexer": "ipython3",
   "version": "3.11.7"
  }
 },
 "nbformat": 4,
 "nbformat_minor": 2
}
