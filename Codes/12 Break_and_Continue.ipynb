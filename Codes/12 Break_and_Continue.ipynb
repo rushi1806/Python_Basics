{
 "cells": [
  {
   "cell_type": "markdown",
   "metadata": {},
   "source": [
    "# break statement\n",
    "The break statement enables a program to skip over a part of the code. A break statement terminates the very loop it lies within.\n",
    "## example\n",
    "\n",
    "```python '\n",
    "for i in range(1,101,1):\n",
    "    print(i ,end=\" \")\n",
    "    if(i==50):\n",
    "        break\n",
    "    else:\n",
    "        print(\"Mississippi\")\n",
    "print(\"Thank you\")\n",
    "```\n",
    "### output\n",
    "```\n",
    "1 Mississippi\n",
    "2 Mississippi\n",
    "3 Mississippi\n",
    "4 Mississippi\n",
    "5 Mississippi\n",
    ".\n",
    ".\n",
    ".\n",
    "50 Mississippi\n",
    "```"
   ]
  },
  {
   "cell_type": "markdown",
   "metadata": {},
   "source": [
    "## Continue Statement\n",
    "The continue statement skips the rest of the loop statements and causes the next iteration to occur.\n",
    "## example\n",
    "```python\n",
    "for i in [2,3,4,6,8,0]:\n",
    "    if (i%2!=0):\n",
    "        continue\n",
    "    print(i)\n",
    "  ```\n",
    "  ## output\n",
    "  ```\n",
    "2\n",
    "4\n",
    "6\n",
    "8\n",
    "0\n",
    "\n",
    "```\n",
    "## [Next Lesson>>](https://replit.com/@codewithharry/20-Day20-Functions)"
   ]
  },
  {
   "cell_type": "code",
   "execution_count": 1,
   "metadata": {},
   "outputs": [
    {
     "name": "stdout",
     "output_type": "stream",
     "text": [
      "0\n",
      "1\n",
      "2\n",
      "3\n",
      "4\n",
      "5\n",
      "6\n",
      "7\n",
      "8\n",
      "9\n",
      "10\n",
      "11\n",
      "12\n",
      "13\n",
      "14\n",
      "15\n",
      "16\n",
      "17\n",
      "18\n",
      "19\n",
      "20\n",
      "21\n",
      "22\n",
      "23\n",
      "24\n",
      "25\n",
      "26\n",
      "27\n",
      "28\n",
      "29\n",
      "30\n",
      "31\n",
      "32\n",
      "33\n",
      "34\n",
      "35\n",
      "36\n",
      "37\n",
      "38\n",
      "39\n",
      "40\n",
      "41\n",
      "42\n",
      "43\n",
      "44\n",
      "45\n",
      "46\n",
      "47\n",
      "48\n",
      "49\n",
      "50\n",
      "51\n",
      "52\n",
      "53\n",
      "54\n",
      "55\n",
      "56\n",
      "57\n",
      "58\n",
      "59\n",
      "60\n",
      "61\n",
      "62\n",
      "63\n",
      "64\n",
      "65\n",
      "66\n",
      "67\n",
      "68\n",
      "69\n",
      "70\n",
      "71\n",
      "72\n",
      "73\n",
      "74\n",
      "75\n",
      "76\n",
      "77\n",
      "78\n",
      "79\n",
      "80\n",
      "81\n",
      "82\n",
      "83\n",
      "84\n",
      "85\n",
      "86\n",
      "87\n",
      "88\n",
      "89\n",
      "90\n",
      "91\n",
      "92\n",
      "93\n",
      "94\n",
      "95\n",
      "96\n",
      "97\n",
      "98\n",
      "99\n"
     ]
    }
   ],
   "source": [
    "# for i in range(12):\n",
    "#   if(i == 10):\n",
    "#     print(\"Skip the iteration\")\n",
    "#     continue\n",
    "#   print(\"5 X\", i, \"=\", 5 * i)\n",
    "  \n",
    "i = 0\n",
    "while True:\n",
    "  print(i)\n",
    "  i = i + 1\n",
    "  if(i%100 == 0):\n",
    "    break\n"
   ]
  },
  {
   "cell_type": "code",
   "execution_count": null,
   "metadata": {},
   "outputs": [],
   "source": []
  },
  {
   "cell_type": "markdown",
   "metadata": {},
   "source": [
    "#### Break :\n",
    "Breaks the statement where condition not satisfy. No iteration further."
   ]
  },
  {
   "cell_type": "code",
   "execution_count": 1,
   "metadata": {},
   "outputs": [
    {
     "name": "stdout",
     "output_type": "stream",
     "text": [
      "5 X 1  =  5\n",
      "5 X 2  =  10\n",
      "5 X 3  =  15\n",
      "5 X 4  =  20\n",
      "5 X 5  =  25\n",
      "5 X 6  =  30\n",
      "5 X 7  =  35\n",
      "5 X 8  =  40\n",
      "5 X 9  =  45\n",
      "5 X 10  =  50\n"
     ]
    }
   ],
   "source": [
    "for i in range(12):\n",
    "    if i == 10:\n",
    "        break \n",
    "    print('5 X',i+1, ' = ', 5*(i+1))\n",
    "       "
   ]
  },
  {
   "cell_type": "code",
   "execution_count": 2,
   "metadata": {},
   "outputs": [
    {
     "name": "stdout",
     "output_type": "stream",
     "text": [
      "2\n",
      "3 is not modulo zero\n"
     ]
    }
   ],
   "source": [
    "for i in range(2,16,1):\n",
    "    if i%2 != 0:\n",
    "        print(i, \"is not modulo zero\")\n",
    "        break\n",
    "    print(i)"
   ]
  },
  {
   "cell_type": "markdown",
   "metadata": {},
   "source": [
    "#### Continue\n",
    "Skip iteration of unsatisfied condition and started next iteration."
   ]
  },
  {
   "cell_type": "code",
   "execution_count": 5,
   "metadata": {},
   "outputs": [
    {
     "name": "stdout",
     "output_type": "stream",
     "text": [
      "1 is not modulo zero\n",
      "2\n",
      "3 is not modulo zero\n",
      "4\n",
      "5 is not modulo zero\n",
      "6\n",
      "7 is not modulo zero\n",
      "8\n",
      "9 is not modulo zero\n",
      "10\n",
      "11 is not modulo zero\n",
      "12\n",
      "13 is not modulo zero\n",
      "14\n",
      "15 is not modulo zero\n"
     ]
    }
   ],
   "source": [
    "for i in range(1,16,1):\n",
    "    if i%2 != 0:\n",
    "        print(i, \"is not modulo zero\")\n",
    "        continue\n",
    "    print(i)"
   ]
  },
  {
   "cell_type": "code",
   "execution_count": null,
   "metadata": {},
   "outputs": [],
   "source": []
  }
 ],
 "metadata": {
  "kernelspec": {
   "display_name": "base",
   "language": "python",
   "name": "python3"
  },
  "language_info": {
   "codemirror_mode": {
    "name": "ipython",
    "version": 3
   },
   "file_extension": ".py",
   "mimetype": "text/x-python",
   "name": "python",
   "nbconvert_exporter": "python",
   "pygments_lexer": "ipython3",
   "version": "3.11.7"
  }
 },
 "nbformat": 4,
 "nbformat_minor": 2
}
