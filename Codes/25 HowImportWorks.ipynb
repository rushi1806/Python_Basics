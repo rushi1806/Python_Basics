{
 "cells": [
  {
   "cell_type": "markdown",
   "metadata": {},
   "source": [
    "## How importing in python works\n",
    "Importing in Python is the process of loading code from a Python module into the current script. This allows you to use the functions and variables defined in the module in your current script, as well as any additional modules that the imported module may depend on.\n",
    "\n",
    "To import a module in Python, you use the import statement followed by the name of the module. For example, to import the math module, which contains a variety of mathematical functions, you would use the following statement:\n",
    "\n",
    "```python\n",
    "import math\n",
    "```\n",
    "Once a module is imported, you can use any of the functions and variables defined in the module by using the dot notation. For example, to use the sqrt function from the math module, you would write:\n",
    "\n",
    "```python\n",
    "import math\n",
    "\n",
    "result = math.sqrt(9)\n",
    "print(result)  # Output: 3.0\n",
    "```\n",
    "\n",
    "## from keyword\n",
    "You can also import specific functions or variables from a module using the from keyword. For example, to import only the sqrt function from the math module, you would write:\n",
    "\n",
    "```python\n",
    "from math import sqrt\n",
    "\n",
    "result = sqrt(9)\n",
    "print(result)  # Output: 3.0\n",
    "```\n",
    "You can also import multiple functions or variables at once by separating them with a comma:\n",
    "\n",
    "```python\n",
    "from math import sqrt, pi\n",
    "\n",
    "result = sqrt(9)\n",
    "print(result)  # Output: 3.0\n",
    "\n",
    "print(pi)  # Output: 3.141592653589793\n",
    "```\n",
    "\n",
    "## importing everything\n",
    "It's also possible to import all functions and variables from a module using the * wildcard. However, this is generally not recommended as it can lead to confusion and make it harder to understand where specific functions and variables are coming from.\n",
    "\n",
    "```python\n",
    "from math import *\n",
    "\n",
    "result = sqrt(9)\n",
    "print(result)  # Output: 3.0\n",
    "\n",
    "print(pi)  # Output: 3.141592653589793\n",
    "```\n",
    "Python also allows you to rename imported modules using the as keyword. This can be useful if you want to use a shorter or more descriptive name for a module, or if you want to avoid naming conflicts with other modules or variables in your code.\n",
    "\n",
    "## The \"as\" keyword\n",
    "```python\n",
    "import math as m\n",
    "\n",
    "result = m.sqrt(9)\n",
    "print(result)  # Output: 3.0\n",
    "\n",
    "print(m.pi)  # Output: 3.141592653589793\n",
    "```\n",
    "## The dir function\n",
    "Finally, Python has a built-in function called dir that you can use to view the names of all the functions and variables defined in a module. This can be helpful for exploring and understanding the contents of a new module.\n",
    "\n",
    "```python\n",
    "import math\n",
    "\n",
    "print(dir(math))\n",
    "```\n",
    "This will output a list of all the names defined in the math module, including functions like sqrt and pi, as well as other variables and constants.\n",
    "\n",
    "In summary, the import statement in Python allows you to access the functions and variables defined in a module from within your current script. You can import the entire module, specific functions or variables, or use the * wildcard to import everything. You can also use the as keyword to rename a module, and the dir function to view the contents of a module.\n",
    "## [Next Lesson>>](https://replit.com/@codewithharry/45-Day45-if-name-main-in-Python)"
   ]
  },
  {
   "cell_type": "code",
   "execution_count": 1,
   "metadata": {},
   "outputs": [
    {
     "name": "stdout",
     "output_type": "stream",
     "text": [
      "['__doc__', '__loader__', '__name__', '__package__', '__spec__', 'acos', 'acosh', 'asin', 'asinh', 'atan', 'atan2', 'atanh', 'cbrt', 'ceil', 'comb', 'copysign', 'cos', 'cosh', 'degrees', 'dist', 'e', 'erf', 'erfc', 'exp', 'exp2', 'expm1', 'fabs', 'factorial', 'floor', 'fmod', 'frexp', 'fsum', 'gamma', 'gcd', 'hypot', 'inf', 'isclose', 'isfinite', 'isinf', 'isnan', 'isqrt', 'lcm', 'ldexp', 'lgamma', 'log', 'log10', 'log1p', 'log2', 'modf', 'nan', 'nextafter', 'perm', 'pi', 'pow', 'prod', 'radians', 'remainder', 'sin', 'sinh', 'sqrt', 'tan', 'tanh', 'tau', 'trunc', 'ulp']\n",
      "nan <class 'float'>\n",
      "Hey you are welcome my friend\n",
      "A good boy\n"
     ]
    }
   ],
   "source": [
    "# from math import sqrt, pi\n",
    "# from math import pi, sqrt as s\n",
    "# import math as math_builtin_python\n",
    "\n",
    "# result = math_builtin_python.sqrt(9) * math_builtin_python.pi\n",
    "# print(result)  # Output: 3.0\n",
    "\n",
    "# from harry import welcome, harry\n",
    "import harry as hr\n",
    "import math\n",
    "\n",
    "print(dir(math))\n",
    "print(math.nan, type(math.nan))\n",
    "hr.welcome()\n",
    "print(hr.harry)"
   ]
  },
  {
   "cell_type": "code",
   "execution_count": null,
   "metadata": {},
   "outputs": [],
   "source": []
  },
  {
   "cell_type": "markdown",
   "metadata": {},
   "source": [
    "They Can Give you extra functionalities via the python standard library.\n",
    "\n",
    "It can help you organize your code via multiple files.\n",
    "\n",
    "It allows you to import external modules.\n",
    "\n"
   ]
  },
  {
   "cell_type": "code",
   "execution_count": 2,
   "metadata": {},
   "outputs": [],
   "source": [
    "import math\n",
    "import random  ##random numbers\n",
    "import string"
   ]
  },
  {
   "cell_type": "code",
   "execution_count": 3,
   "metadata": {},
   "outputs": [
    {
     "name": "stdout",
     "output_type": "stream",
     "text": [
      "2.0\n",
      "0\n",
      "ABCDEFGHIJKLMNOPQRSTUVWXYZ\n"
     ]
    }
   ],
   "source": [
    "print(math.sqrt(4))\n",
    "print(random.randint(0,10))\n",
    "print(string.ascii_uppercase)"
   ]
  },
  {
   "cell_type": "code",
   "execution_count": 4,
   "metadata": {},
   "outputs": [
    {
     "name": "stdout",
     "output_type": "stream",
     "text": [
      "ABCDEFGHIJKLMNOPQRSTUVWXYZ\n"
     ]
    }
   ],
   "source": [
    "from string import ascii_uppercase\n",
    "print(ascii_uppercase)\n",
    "#print(ascii_lowercase)"
   ]
  },
  {
   "cell_type": "code",
   "execution_count": 5,
   "metadata": {},
   "outputs": [],
   "source": [
    "import matplotlib.pyplot as plt"
   ]
  },
  {
   "cell_type": "code",
   "execution_count": 6,
   "metadata": {},
   "outputs": [
    {
     "name": "stdout",
     "output_type": "stream",
     "text": [
      "[0, 1, 2, 3, 4, 5, 6, 7, 8, 9, 10]\n",
      "[0, 1, 4, 9, 16, 25, 36, 49, 64, 81, 100]\n"
     ]
    }
   ],
   "source": [
    "x = [i for i in range(0,11)]\n",
    "y = [y ** 2 for y in x]\n",
    "print(x)\n",
    "print(y)"
   ]
  },
  {
   "cell_type": "code",
   "execution_count": 7,
   "metadata": {},
   "outputs": [
    {
     "data": {
      "image/png": "[encoded data removed]",
      "text/plain": [
       "<Figure size 640x480 with 1 Axes>"
      ]
     },
     "metadata": {},
     "output_type": "display_data"
    }
   ],
   "source": [
    "plt.plot(x,y)\n",
    "plt.xlabel('X')\n",
    "plt.ylabel('Y')\n",
    "plt.title('Test')\n",
    "plt.show()"
   ]
  },
  {
   "cell_type": "markdown",
   "metadata": {},
   "source": [
    "Find an external lin  to print emoji"
   ]
  },
  {
   "cell_type": "code",
   "execution_count": 11,
   "metadata": {},
   "outputs": [],
   "source": [
    "#pip install emoji"
   ]
  },
  {
   "cell_type": "code",
   "execution_count": 12,
   "metadata": {},
   "outputs": [],
   "source": [
    "import emoji"
   ]
  },
  {
   "cell_type": "code",
   "execution_count": 13,
   "metadata": {},
   "outputs": [
    {
     "name": "stdout",
     "output_type": "stream",
     "text": [
      "Python is ❤️\n",
      "Python is :heart:\n",
      "Python is :red heart:\n"
     ]
    }
   ],
   "source": [
    "print(emoji.emojize('Python is :red_heart:'))\n",
    "print(emoji.emojize('Python is :heart:'))\n",
    "print(emoji.emojize('Python is :red heart:'))"
   ]
  },
  {
   "cell_type": "code",
   "execution_count": null,
   "metadata": {},
   "outputs": [],
   "source": []
  }
 ],
 "metadata": {
  "kernelspec": {
   "display_name": "base",
   "language": "python",
   "name": "python3"
  },
  "language_info": {
   "codemirror_mode": {
    "name": "ipython",
    "version": 3
   },
   "file_extension": ".py",
   "mimetype": "text/x-python",
   "name": "python",
   "nbconvert_exporter": "python",
   "pygments_lexer": "ipython3",
   "version": "3.11.7"
  }
 },
 "nbformat": 4,
 "nbformat_minor": 2
}
