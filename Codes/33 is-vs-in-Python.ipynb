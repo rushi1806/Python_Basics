{
 "cells": [
  {
   "cell_type": "markdown",
   "metadata": {},
   "source": [
    "# 'is' vs '==' in Python\n",
    "In Python, is and == are both comparison operators that can be used to check if two values are equal. However, there are some important differences between the two that you should be aware of.\n",
    "\n",
    "The is operator compares the identity of two objects, while the == operator compares the values of the objects. This means that is will only return True if the objects being compared are the exact same object in memory, while == will return True if the objects have the same value.\n",
    "\n",
    "For example:\n",
    "\n",
    "```python\n",
    "a = [1, 2, 3]\n",
    "b = [1, 2, 3]\n",
    "\n",
    "print(a == b)  # True\n",
    "print(a is b)  # False\n",
    "```\n",
    "In this case, a and b are two separate lists that have the same values, so == returns True. However, a and b are not the same object in memory, so is returns False.\n",
    "\n",
    "One important thing to note is that, in Python, strings and integers are immutable, which means that once they are created, their value cannot be changed. This means that, for strings and integers, is and == will always return the same result:\n",
    "\n",
    "```python\n",
    "a = \"hello\"\n",
    "b = \"hello\"\n",
    "\n",
    "print(a == b)  # True\n",
    "print(a is b)  # True\n",
    "\n",
    "a = 5\n",
    "b = 5\n",
    "\n",
    "print(a == b)  # True\n",
    "print(a is b)  # True\n",
    "```\n",
    "In these cases, a and b are both pointing to the same object in memory, so is and == both return True.\n",
    "\n",
    "For mutable objects such as lists and dictionaries, is and == can behave differently. In general, you should use == when you want to compare the values of two objects, and use is when you want to check if two objects are the same object in memory.\n",
    "\n",
    "I hope this helps clarify the difference between is and == in Python!\n",
    "## [Next Lesson>>](https://replit.com/@codewithharry/55-Day55-Exercise-5)"
   ]
  },
  {
   "cell_type": "code",
   "execution_count": 1,
   "metadata": {},
   "outputs": [
    {
     "name": "stdout",
     "output_type": "stream",
     "text": [
      "True\n",
      "True\n",
      "True\n"
     ]
    }
   ],
   "source": [
    "a = None\n",
    "b = None\n",
    "\n",
    "print(a is b) # exact location of object in memory\n",
    "print(a is None) # exact location of object in memory\n",
    "\n",
    "print(a == b) # value"
   ]
  },
  {
   "cell_type": "code",
   "execution_count": null,
   "metadata": {},
   "outputs": [],
   "source": []
  }
 ],
 "metadata": {
  "kernelspec": {
   "display_name": "base",
   "language": "python",
   "name": "python3"
  },
  "language_info": {
   "codemirror_mode": {
    "name": "ipython",
    "version": 3
   },
   "file_extension": ".py",
   "mimetype": "text/x-python",
   "name": "python",
   "nbconvert_exporter": "python",
   "pygments_lexer": "ipython3",
   "version": "3.11.7"
  }
 },
 "nbformat": 4,
 "nbformat_minor": 2
}
