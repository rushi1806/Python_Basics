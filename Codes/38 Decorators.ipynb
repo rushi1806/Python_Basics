{
 "cells": [
  {
   "cell_type": "markdown",
   "metadata": {},
   "source": [
    "# Python Decorators\n",
    "Python decorators are a powerful and versatile tool that allow you to modify the behavior of functions and methods. They are a way to extend the functionality of a function or method without modifying its source code.\n",
    "\n",
    "A decorator is a function that takes another function as an argument and returns a new function that modifies the behavior of the original function. The new function is often referred to as a \"decorated\" function. The basic syntax for using a decorator is the following:\n",
    "```python\n",
    "@decorator_function\n",
    "def my_function():\n",
    "    pass\n",
    "```\n",
    "\n",
    "The @decorator_function notation is just a shorthand for the following code:\n",
    "```python\n",
    "def my_function():\n",
    "    pass\n",
    "my_function = decorator_function(my_function)\n",
    "```\n",
    "Decorators are often used to add functionality to functions and methods, such as logging, memoization, and access control.\n",
    "\n",
    "## Practical use case\n",
    "One common use of decorators is to add logging to a function. For example, you could use a decorator to log the arguments and return value of a function each time it is called:\n",
    "```python\n",
    "import logging\n",
    "\n",
    "def log_function_call(func):\n",
    "    def decorated(*args, **kwargs):\n",
    "        logging.info(f\"Calling {func.__name__} with args={args}, kwargs={kwargs}\")\n",
    "        result = func(*args, **kwargs)\n",
    "        logging.info(f\"{func.__name__} returned {result}\")\n",
    "        return result\n",
    "    return decorated\n",
    "\n",
    "@log_function_call\n",
    "def my_function(a, b):\n",
    "    return a + b\n",
    "```\n",
    "\n",
    "In this example, the log_function_call decorator takes a function as an argument and returns a new function that logs the function call before and after the original function is called.\n",
    "\n",
    "## Conclusion\n",
    "Decorators are a powerful and flexible feature in Python that can be used to add functionality to functions and methods without modifying their source code. They are a great tool for separating concerns, reducing code duplication, and making your code more readable and maintainable.\n",
    "\n",
    "In conclusion, python decorators are a way to extend the functionality of functions and methods, by modifying its behavior without modifying the source code. They are used for a variety of purposes, such as logging, memoization, access control, and more. They are a powerful tool that can be used to make your code more readable, maintainable, and extendable.\n",
    "## [Next Lesson>>](https://replit.com/@codewithharry/60-Day-60-Getters-and-Setters)\n"
   ]
  },
  {
   "cell_type": "code",
   "execution_count": 3,
   "metadata": {},
   "outputs": [
    {
     "name": "stdout",
     "output_type": "stream",
     "text": [
      "Good Morning\n",
      "Hello world\n",
      "Thanks for using this function\n",
      "Good Morning\n",
      "3\n",
      "Thanks for using this function\n"
     ]
    }
   ],
   "source": [
    "\n",
    "def greet(fx):\n",
    "  def mfx(*args, **kwargs):\n",
    "    print(\"Good Morning\")\n",
    "    fx(*args, **kwargs)\n",
    "    print(\"Thanks for using this function\")\n",
    "  return mfx\n",
    "\n",
    "@greet\n",
    "def hello():\n",
    "  print(\"Hello world\")\n",
    "\n",
    "@greet\n",
    "def add(a, b):\n",
    "  print(a+b)\n",
    "  \n",
    "# greet(hello)()\n",
    "hello()\n",
    "# greet(add)(1, 2)\n",
    "add(1, 2)\n"
   ]
  },
  {
   "cell_type": "markdown",
   "metadata": {},
   "source": [
    "# Getters\n",
    "Getters in Python are methods that are used to access the values of an object's properties. They are used to return the value of a specific property, and are typically defined using the @property decorator.\n",
    "Here is an example of a simple class with a getter method:\n",
    "```python\n",
    "class MyClass:\n",
    "    def __init__(self, value):\n",
    "        self._value = value\n",
    "\n",
    "    @property\n",
    "    def value(self):\n",
    "        return self._value\n",
    "```\n",
    "In this example, the MyClass class has a single property, _value, which is initialized in the __init__ method. The value method is defined as a getter using the @property decorator, and is used to return the value of the _value property.\n",
    "\n",
    "To use the getter, we can create an instance of the MyClass class, and then access the value property as if it were an attribute:\n",
    "```python\n",
    ">>> obj = MyClass(10)\n",
    ">>> obj.value\n",
    "10\n",
    "```\n",
    "# Setters\n",
    "It is important to note that the getters do not take any parameters and we cannot set the value through getter method.For that we need setter method which can be added by decorating method with @property_name.setter\n",
    "\n",
    "Here is an example of a class with both getter and setter:\n",
    "\n",
    "```python\n",
    "class MyClass:\n",
    "    def __init__(self, value):\n",
    "        self._value = value\n",
    "\n",
    "    @property\n",
    "    def value(self):\n",
    "        return self._value\n",
    "\n",
    "    @value.setter\n",
    "    def value(self, new_value):\n",
    "        self._value = new_value\n",
    "```\n",
    "We can use setter method like this:\n",
    "```python\n",
    ">>> obj = MyClass(10)\n",
    ">>> obj.value = 20\n",
    ">>> obj.value\n",
    "20\n",
    "```\n",
    "In conclusion, getters are a convenient way to access the values of an object's properties, while keeping the internal representation of the property hidden. This can be useful for encapsulation and data validation.\n",
    "## [Next Lesson>>](https://replit.com/@codewithharry/61-Day-61-Inheritance-in-Python)"
   ]
  },
  {
   "cell_type": "code",
   "execution_count": 6,
   "metadata": {},
   "outputs": [
    {
     "name": "stdout",
     "output_type": "stream",
     "text": [
      "67.0\n",
      "Value is 6.7\n"
     ]
    }
   ],
   "source": [
    "class MyClass:\n",
    "  def __init__(self, value):\n",
    "      self._value = value\n",
    "    \n",
    "  def show(self):\n",
    "    print(f\"Value is {self._value}\")\n",
    "    \n",
    "  @property\n",
    "  def ten_value(self):\n",
    "      return 10* self._value\n",
    "    \n",
    "  @ten_value.setter\n",
    "  def ten_value(self, new_value):\n",
    "      self._value = new_value/10\n",
    "\n",
    "obj = MyClass(10)\n",
    "obj.ten_value = 67\n",
    "print(obj.ten_value)\n",
    "obj.show()"
   ]
  },
  {
   "cell_type": "code",
   "execution_count": null,
   "metadata": {},
   "outputs": [],
   "source": []
  }
 ],
 "metadata": {
  "kernelspec": {
   "display_name": "base",
   "language": "python",
   "name": "python3"
  },
  "language_info": {
   "codemirror_mode": {
    "name": "ipython",
    "version": 3
   },
   "file_extension": ".py",
   "mimetype": "text/x-python",
   "name": "python",
   "nbconvert_exporter": "python",
   "pygments_lexer": "ipython3",
   "version": "3.11.7"
  }
 },
 "nbformat": 4,
 "nbformat_minor": 2
}
