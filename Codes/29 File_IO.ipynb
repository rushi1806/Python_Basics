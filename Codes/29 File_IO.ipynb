{
 "cells": [
  {
   "cell_type": "markdown",
   "metadata": {},
   "source": [
    "Python provides several ways to manipulate files. Today, we will discuss how to handle files in Python.\n",
    "## Opening a File\n",
    "Before we can perform any operations on a file, we must first open it. Python provides the open() function to open a file. It takes two arguments: the name of the file and the mode in which the file should be opened. The mode can be 'r' for reading, 'w' for writing, or 'a' for appending.\n",
    "\n",
    "Here's an example of how to open a file for reading:\n",
    "```python\n",
    "f = open('myfile.txt', 'r')\n",
    "```\n",
    "By default, the open() function returns a file object that can be used to read from or write to the file, depending on the mode.\n",
    "## Modes in file\n",
    "There are various modes in which we can open files.\n",
    "\n",
    "1. read (r): This mode opens the file for reading only and gives an error if the file does not exist. This is the default mode if no mode is passed as a parameter.\n",
    "2. write (w): This mode opens the file for writing only and creates a new file if the file does not exist.\n",
    "3. append (a): This mode opens the file for appending only and creates a new file if the file does not exist.\n",
    "4. create (x): This mode creates a file and gives an error if the file already exists.\n",
    " \n",
    "5. text (t): \n",
    "Apart from these modes we also need to specify how the file must be handled. t mode is used to handle text files. t refers to the text mode. There is no difference between r and rt or w and wt since text mode is the default. The default mode is 'r' (open for reading text, synonym of 'rt' ).\n",
    "6. binary (b): used to handle binary files (images, pdfs, etc).\n",
    "## Reading from a File\n",
    "Once we have a file object, we can use various methods to read from the file.\n",
    "\n",
    "The read() method reads the entire contents of the file and returns it as a string.\n",
    "```python \n",
    "f = open('myfile.txt', 'r')\n",
    "contents = f.read()\n",
    "print(contents)\n",
    "```\n",
    "\n",
    "\n",
    "## Writing to a File\n",
    "To write to a file, we first need to open it in write mode.\n",
    "```python\n",
    "f = open('myfile.txt', 'w')\n",
    "\n",
    "```\n",
    "We can then use the write() method to write to the file.\n",
    "```python\n",
    "f = open('myfile.txt', 'w')\n",
    "f.write('Hello, world!')\n",
    "\n",
    "```\n",
    "Keep in mind that writing to a file will overwrite its contents. If you want to append to a file instead of overwriting it, you can open it in append mode.\n",
    "\n",
    "```python \n",
    "f = open('myfile.txt', 'a')\n",
    "f.write('Hello, world!')\n",
    "```\n",
    "## Closing a File\n",
    "It is important to close a file after you are done with it. This releases the resources used by the file and allows other programs to access it.\n",
    "\n",
    "To close a file, you can use the close() method.\n",
    "```python \n",
    "f = open('myfile.txt', 'r')\n",
    "# ... do something with the file\n",
    "f.close()\n",
    "\n",
    "```\n",
    "## The 'with' statement\n",
    "Alternatively, you can use the with statement to automatically close the file after you are done with it.\n",
    "\n",
    "```python\n",
    "with open('myfile.txt', 'r') as f:\n",
    "    # ... do something with the file\n",
    "\n",
    "```\n",
    "## [Next Lesson>>](https://replit.com/@codewithharry/50-Day50-read-readlines-and-other-methods)"
   ]
  },
  {
   "cell_type": "code",
   "execution_count": 1,
   "metadata": {},
   "outputs": [
    {
     "ename": "SyntaxError",
     "evalue": "invalid syntax (4071908448.py, line 1)",
     "output_type": "error",
     "traceback": [
      "\u001b[1;36m  Cell \u001b[1;32mIn[1], line 1\u001b[1;36m\u001b[0m\n\u001b[1;33m    100-days-of-code-youtube-main/49-Day49-File-IO/.tutorial 100-days-of-code-youtube-main/49-Day49-File-IO/.tutorial/Tutorial.md 100-days-of-code-youtube-main/49-Day49-File-IO/.tutorial/video.json 100-days-of-code-youtube-main/49-Day49-File-IO/main.py 100-days-of-code-youtube-main/49-Day49-File-IO/myfile.txt 100-days-of-code-youtube-main/49-Day49-File-IO/myfile2.txt\u001b[0m\n\u001b[1;37m                                                   ^\u001b[0m\n\u001b[1;31mSyntaxError\u001b[0m\u001b[1;31m:\u001b[0m invalid syntax\n"
     ]
    }
   ],
   "source": [
    "100-days-of-code-youtube-main/49-Day49-File-IO/.tutorial 100-days-of-code-youtube-main/49-Day49-File-IO/.tutorial/Tutorial.md 100-days-of-code-youtube-main/49-Day49-File-IO/.tutorial/video.json 100-days-of-code-youtube-main/49-Day49-File-IO/main.py 100-days-of-code-youtube-main/49-Day49-File-IO/myfile.txt 100-days-of-code-youtube-main/49-Day49-File-IO/myfile2.txt"
   ]
  },
  {
   "cell_type": "code",
   "execution_count": null,
   "metadata": {},
   "outputs": [],
   "source": []
  }
 ],
 "metadata": {
  "kernelspec": {
   "display_name": "base",
   "language": "python",
   "name": "python3"
  },
  "language_info": {
   "codemirror_mode": {
    "name": "ipython",
    "version": 3
   },
   "file_extension": ".py",
   "mimetype": "text/x-python",
   "name": "python",
   "nbconvert_exporter": "python",
   "pygments_lexer": "ipython3",
   "version": "3.11.7"
  }
 },
 "nbformat": 4,
 "nbformat_minor": 2
}
