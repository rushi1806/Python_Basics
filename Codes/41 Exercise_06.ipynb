{
 "cells": [
  {
   "cell_type": "markdown",
   "metadata": {},
   "source": [
    "Write a Library class with no_of_books and books as two instance variables. Write a program to create a library from this Library class and show how  you can print all books, add a book and get the number of books using  different methods. Show that your program doesnt persist the books after the program is stopped!\n",
    "## [Next Lesson>>](https://replit.com/@codewithharry/65-Day-65-Static-Methods)"
   ]
  },
  {
   "cell_type": "code",
   "execution_count": 3,
   "metadata": {},
   "outputs": [
    {
     "name": "stdout",
     "output_type": "stream",
     "text": [
      "The library has 3 books. The books are\n",
      "Harry Potter1\n",
      "Harry Potter2\n",
      "Harry Potter3\n"
     ]
    }
   ],
   "source": [
    "class Library:\n",
    "  def __init__(self):\n",
    "    self.noBooks = 0\n",
    "    self.books = []\n",
    "    \n",
    "  def addBook(self, book):\n",
    "    self.books.append(book)\n",
    "    self.noBooks = len(self.books)\n",
    "\n",
    "  def showInfo(self):\n",
    "    print(f\"The library has {self.noBooks} books. The books are\")\n",
    "    for book in self.books:\n",
    "      print(book)\n",
    "\n",
    "\n",
    "l1 = Library()\n",
    "l1.addBook(\"Harry Potter1\")\n",
    "l1.addBook(\"Harry Potter2\")\n",
    "l1.addBook(\"Harry Potter3\")\n",
    "l1.showInfo()\n",
    "    \n",
    "  "
   ]
  },
  {
   "cell_type": "code",
   "execution_count": null,
   "metadata": {},
   "outputs": [],
   "source": []
  }
 ],
 "metadata": {
  "kernelspec": {
   "display_name": "base",
   "language": "python",
   "name": "python3"
  },
  "language_info": {
   "codemirror_mode": {
    "name": "ipython",
    "version": 3
   },
   "file_extension": ".py",
   "mimetype": "text/x-python",
   "name": "python",
   "nbconvert_exporter": "python",
   "pygments_lexer": "ipython3",
   "version": "3.11.7"
  }
 },
 "nbformat": 4,
 "nbformat_minor": 2
}
