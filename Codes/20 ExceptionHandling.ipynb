{
 "cells": [
  {
   "cell_type": "markdown",
   "metadata": {},
   "source": [
    "# Exception Handling\n",
    "Exception handling is the process of responding to unwanted or unexpected events when a computer program runs. Exception handling deals with these events to avoid the program or system crashing, and without this process, exceptions would disrupt the normal operation of a program.\n",
    "# Exceptions in Python\n",
    "Python has many built-in exceptions that are raised when your program encounters an error (something in the program goes wrong).\n",
    "\n",
    "When these exceptions occur, the Python interpreter stops the current process and passes it to the calling process until it is handled. If not handled, the program will crash.\n",
    "\n",
    "# Python try...except\n",
    "try….. except blocks are used in python to handle errors and exceptions. The code in try block runs when there is no error. If the try block catches the error, then the except block is executed. \n",
    "\n",
    " ## Syntax:\n",
    " ```python\n",
    " try:\n",
    "      #statements which could generate \n",
    "      #exception\n",
    "except:\n",
    "      #Soloution of generated exception\n",
    "```\n",
    "## Example:\n",
    "```python\n",
    "try:\n",
    "    num = int(input(\"Enter an integer: \"))\n",
    "except ValueError:\n",
    "    print(\"Number entered is not an integer.\")\n",
    " ```\n",
    "\n",
    "## Output:\n",
    "```\n",
    "Enter an integer: 6.022\n",
    "Number entered is not an integer.\n",
    "```\n",
    "\n",
    "## [Next Lesson>>](https://replit.com/@codewithharry/37-Day37-Finally-keyword)"
   ]
  },
  {
   "cell_type": "code",
   "execution_count": 1,
   "metadata": {},
   "outputs": [
    {
     "name": "stdout",
     "output_type": "stream",
     "text": [
      "Number entered is not an integer.\n"
     ]
    }
   ],
   "source": [
    "# a = input(\"Enter the number: \")\n",
    "# print(f\"Multiplication table of {a} is: \")\n",
    "# try:\n",
    "#   for i in range(1, 11):\n",
    "#     print(f\"{int(a)} X {i} = {int(a)*i}\")\n",
    "# except:\n",
    "#   print(\"Invalid  Input!\")\n",
    "\n",
    "# print(\"Some imp lines of code\")\n",
    "# print(\"End of program\")\n",
    "\n",
    "try:\n",
    "    num = int(input(\"Enter an integer: \"))\n",
    "    a = [6, 3]\n",
    "    print(a[num])\n",
    "except ValueError:\n",
    "    print(\"Number entered is not an integer.\")\n",
    "    \n",
    "except IndexError:\n",
    "  print(\"Index Error\")"
   ]
  },
  {
   "cell_type": "code",
   "execution_count": null,
   "metadata": {},
   "outputs": [],
   "source": []
  },
  {
   "cell_type": "code",
   "execution_count": 2,
   "metadata": {},
   "outputs": [
    {
     "name": "stdout",
     "output_type": "stream",
     "text": [
      "multiplication table of 5 : \n",
      "5 X 1 = 5\n",
      "5 X 2 = 10\n",
      "5 X 3 = 15\n",
      "5 X 4 = 20\n",
      "5 X 5 = 25\n",
      "5 X 6 = 30\n",
      "5 X 7 = 35\n",
      "5 X 8 = 40\n",
      "5 X 9 = 45\n",
      "5 X 10 = 50\n",
      "loop is over\n",
      "Next loop\n"
     ]
    }
   ],
   "source": [
    "a = input('number : ')   ### if we give input string it throw error \n",
    "print(f'multiplication table of {a} : ')\n",
    "for i in range(1,11):\n",
    "    print(f'{int(a)} X {i} = {int(a)*i}')\n",
    "\n",
    "### program stops here and not print below lines Hence excpetion handling use\n",
    "print('loop is over')\n",
    "print('Next loop')\n",
    "\n"
   ]
  },
  {
   "cell_type": "code",
   "execution_count": 3,
   "metadata": {},
   "outputs": [
    {
     "name": "stdout",
     "output_type": "stream",
     "text": [
      "multiplication table of 4 : \n",
      "4 X 1 = 4\n",
      "4 X 2 = 8\n",
      "4 X 3 = 12\n",
      "4 X 4 = 16\n",
      "4 X 5 = 20\n",
      "4 X 6 = 24\n",
      "4 X 7 = 28\n",
      "4 X 8 = 32\n",
      "4 X 9 = 36\n",
      "4 X 10 = 40\n",
      "loop is over\n",
      "Next loop\n"
     ]
    }
   ],
   "source": [
    "\n",
    "a = input('number : ')   ### if we give input string it throw error \n",
    "print(f'multiplication table of {a} : ')\n",
    "try:\n",
    "    for i in range(1,11):\n",
    "        print(f'{int(a)} X {i} = {int(a)*i}')\n",
    "except:\n",
    "    print('loop throws error')\n",
    "\n",
    "print('loop is over')\n",
    "print('Next loop')"
   ]
  },
  {
   "cell_type": "code",
   "execution_count": null,
   "metadata": {},
   "outputs": [],
   "source": []
  },
  {
   "cell_type": "code",
   "execution_count": 4,
   "metadata": {},
   "outputs": [
    {
     "name": "stdout",
     "output_type": "stream",
     "text": [
      "multiplication table of 4 : \n",
      "4 X 1 = 4\n",
      "4 X 2 = 8\n",
      "4 X 3 = 12\n",
      "4 X 4 = 16\n",
      "4 X 5 = 20\n",
      "4 X 6 = 24\n",
      "4 X 7 = 28\n",
      "4 X 8 = 32\n",
      "4 X 9 = 36\n",
      "4 X 10 = 40\n",
      "loop is over\n",
      "Next loop\n"
     ]
    }
   ],
   "source": [
    "a = input('number : ')   ### if we give input string it throw error \n",
    "print(f'multiplication table of {a} : ')\n",
    "try:\n",
    "    for i in range(1,11):\n",
    "        print(f'{int(a)} X {i} = {int(a)*i}')\n",
    "except Exception as e:\n",
    "    print('loop throws error : ', e)\n",
    "\n",
    "print('loop is over')\n",
    "print('Next loop')\n"
   ]
  },
  {
   "cell_type": "code",
   "execution_count": 5,
   "metadata": {},
   "outputs": [
    {
     "name": "stdout",
     "output_type": "stream",
     "text": [
      "Index Error\n"
     ]
    }
   ],
   "source": [
    "### We can handle different different error and multiple except we use\n",
    "try:\n",
    "    num = int(input('number is : '))\n",
    "    a = [6,3]\n",
    "    print(a[num])\n",
    "except ValueError:\n",
    "    print('number is not integer ')\n",
    "except IndexError:\n",
    "    print('Index Error')\n"
   ]
  },
  {
   "cell_type": "code",
   "execution_count": 6,
   "metadata": {},
   "outputs": [
    {
     "name": "stdout",
     "output_type": "stream",
     "text": [
      "Index Error\n"
     ]
    }
   ],
   "source": [
    "### We can handle different different error and multiple except we use\n",
    "try:\n",
    "    num = int(input('number is : '))\n",
    "    a = [6,3]\n",
    "    print(a[num])\n",
    "except ValueError:\n",
    "    print('number is not integer ')\n",
    "except IndexError:\n",
    "    print('Index Error')"
   ]
  },
  {
   "cell_type": "markdown",
   "metadata": {},
   "source": [
    "#### Finally clause (It always execute it there is error or not.)"
   ]
  },
  {
   "cell_type": "code",
   "execution_count": 7,
   "metadata": {},
   "outputs": [
    {
     "ename": "SyntaxError",
     "evalue": "invalid syntax (698415642.py, line 6)",
     "output_type": "error",
     "traceback": [
      "\u001b[1;36m  Cell \u001b[1;32mIn[7], line 6\u001b[1;36m\u001b[0m\n\u001b[1;33m    finally:\u001b[0m\n\u001b[1;37m    ^\u001b[0m\n\u001b[1;31mSyntaxError\u001b[0m\u001b[1;31m:\u001b[0m invalid syntax\n"
     ]
    }
   ],
   "source": [
    "a = input('number : ')   ### if we give input string it throw error \n",
    "print(f'multiplication table of {a} : ')\n",
    "for i in range(1,11):\n",
    "    print(f'{int(a)} X {i} = {int(a)*i}')\n",
    "\n",
    "finally:\n",
    "### program stops here and not print below lines Hence excpetion handling use\n",
    "    print('loop is over')\n",
    "    print('Next loop')"
   ]
  },
  {
   "cell_type": "code",
   "execution_count": 8,
   "metadata": {},
   "outputs": [
    {
     "name": "stdout",
     "output_type": "stream",
     "text": [
      "multiplication table of 5 : \n",
      "5 X 1 = 5\n",
      "5 X 2 = 10\n",
      "5 X 3 = 15\n",
      "5 X 4 = 20\n",
      "5 X 5 = 25\n",
      "5 X 6 = 30\n",
      "5 X 7 = 35\n",
      "5 X 8 = 40\n",
      "5 X 9 = 45\n",
      "5 X 10 = 50\n",
      "I am always execute\n"
     ]
    }
   ],
   "source": [
    "a = input('number : ')   ### if we give input string it throw error \n",
    "print(f'multiplication table of {a} : ')\n",
    "try:\n",
    "    for i in range(1,11):\n",
    "        print(f'{int(a)} X {i} = {int(a)*i}')\n",
    "except Exception as e:\n",
    "    print('loop throws error : ', e)\n",
    "finally:\n",
    "    print('I am always execute')"
   ]
  },
  {
   "cell_type": "code",
   "execution_count": 9,
   "metadata": {},
   "outputs": [
    {
     "name": "stdout",
     "output_type": "stream",
     "text": [
      "multiplication table of 5 : \n",
      "5 X 1 = 5\n",
      "5 X 2 = 10\n",
      "5 X 3 = 15\n",
      "5 X 4 = 20\n",
      "5 X 5 = 25\n",
      "5 X 6 = 30\n",
      "5 X 7 = 35\n",
      "5 X 8 = 40\n",
      "5 X 9 = 45\n",
      "5 X 10 = 50\n",
      "I am always execute\n"
     ]
    }
   ],
   "source": [
    "a = input('number : ')   ### if we give input string it throw error \n",
    "print(f'multiplication table of {a} : ')\n",
    "try:\n",
    "    for i in range(1,11):\n",
    "        print(f'{int(a)} X {i} = {int(a)*i}')\n",
    "except Exception as e:\n",
    "    print('loop throws error : ', e)\n",
    "finally:\n",
    "    print('I am always execute')"
   ]
  },
  {
   "cell_type": "code",
   "execution_count": 10,
   "metadata": {},
   "outputs": [
    {
     "name": "stdout",
     "output_type": "stream",
     "text": [
      "multiplication table of 4 : \n",
      "4 X 1 = 4\n",
      "4 X 2 = 8\n",
      "4 X 3 = 12\n",
      "4 X 4 = 16\n",
      "4 X 5 = 20\n",
      "4 X 6 = 24\n",
      "4 X 7 = 28\n",
      "4 X 8 = 32\n",
      "4 X 9 = 36\n",
      "4 X 10 = 40\n",
      "I am always execute\n"
     ]
    }
   ],
   "source": [
    "a = input('number : ')   ### if we give input string it throw error \n",
    "print(f'multiplication table of {a} : ')\n",
    "try:\n",
    "    for i in range(1,11):\n",
    "        print(f'{int(a)} X {i} = {int(a)*i}')\n",
    "except Exception as e:\n",
    "    print('loop throws error : ', e)\n",
    "\n",
    "print('I am always execute')"
   ]
  },
  {
   "cell_type": "code",
   "execution_count": 11,
   "metadata": {},
   "outputs": [
    {
     "name": "stdout",
     "output_type": "stream",
     "text": [
      "multiplication table of 4 : \n",
      "4 X 1 = 4\n",
      "4 X 2 = 8\n",
      "4 X 3 = 12\n",
      "4 X 4 = 16\n",
      "4 X 5 = 20\n",
      "4 X 6 = 24\n",
      "4 X 7 = 28\n",
      "4 X 8 = 32\n",
      "4 X 9 = 36\n",
      "4 X 10 = 40\n",
      "I am always execute\n"
     ]
    }
   ],
   "source": [
    "a = input('number : ')   ### if we give input string it throw error \n",
    "print(f'multiplication table of {a} : ')\n",
    "try:\n",
    "    for i in range(1,11):\n",
    "        print(f'{int(a)} X {i} = {int(a)*i}')\n",
    "except Exception as e:\n",
    "    print('loop throws error : ', e)\n",
    "finally:\n",
    "    print('I am always execute')"
   ]
  },
  {
   "cell_type": "code",
   "execution_count": 15,
   "metadata": {},
   "outputs": [],
   "source": [
    "#a = input('number : ')   ### if we give input string it throw error \n",
    "def mult(a):\n",
    "    print(f'multiplication table of {a} : ')\n",
    "    try:\n",
    "        for i in range(1,11):\n",
    "             print(f'{int(a)} X {i} = {int(a)*i}')\n",
    "        return 0\n",
    "    except Exception as e:\n",
    "        print('loop throws error : ', e)\n",
    "        return 1\n",
    "    finally:\n",
    "        print('I am always execute')\n",
    "       "
   ]
  },
  {
   "cell_type": "code",
   "execution_count": 14,
   "metadata": {},
   "outputs": [
    {
     "name": "stdout",
     "output_type": "stream",
     "text": [
      "multiplication table of kmkl : \n",
      "loop throws error :  invalid literal for int() with base 10: 'kmkl'\n",
      "I am always execute\n"
     ]
    },
    {
     "data": {
      "text/plain": [
       "1"
      ]
     },
     "execution_count": 14,
     "metadata": {},
     "output_type": "execute_result"
    }
   ],
   "source": [
    "mult('kmkl')"
   ]
  },
  {
   "cell_type": "code",
   "execution_count": null,
   "metadata": {},
   "outputs": [],
   "source": []
  }
 ],
 "metadata": {
  "kernelspec": {
   "display_name": "base",
   "language": "python",
   "name": "python3"
  },
  "language_info": {
   "codemirror_mode": {
    "name": "ipython",
    "version": 3
   },
   "file_extension": ".py",
   "mimetype": "text/x-python",
   "name": "python",
   "nbconvert_exporter": "python",
   "pygments_lexer": "ipython3",
   "version": "3.11.7"
  }
 },
 "nbformat": 4,
 "nbformat_minor": 2
}
