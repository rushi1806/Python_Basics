{
 "cells": [
  {
   "cell_type": "markdown",
   "metadata": {},
   "source": [
    "# Shutil Module in Python\n",
    "Shutil is a Python module that provides a higher level interface for working with file and directories. The name \"shutil\" is short for shell utility. It provides a convenient and efficient way to automate tasks that are commonly performed on files and directories. In this repl, we'll take a closer look at the shutil module and its various functions and how they can be used in Python.\n",
    "\n",
    "## Importing shutil\n",
    "The syntax for importing the shutil module is as follows:\n",
    "```python\n",
    "import shutil\n",
    "```\n",
    "\n",
    "## Functions\n",
    "The following are some of the most commonly used functions in the shutil module:\n",
    "\n",
    "- `shutil.copy(src, dst)`: This function copies the file located at src to a new location specified by dst. If the destination location already exists, the original file will be overwritten.\n",
    "\n",
    "- `shutil.copy2(src, dst)`: This function is similar to shutil.copy, but it also preserves more metadata about the original file, such as the timestamp.\n",
    "\n",
    "- `shutil.copytree(src, dst)`: This function recursively copies the directory located at src to a new location specified by dst. If the destination location already exists, the original directory will be merged with it.\n",
    "\n",
    "- `shutil.move(src, dst)`: This function moves the file located at src to a new location specified by dst. This function is equivalent to renaming a file in most cases.\n",
    "\n",
    "- `shutil.rmtree(path)`: This function recursively deletes the directory located at path, along with all of its contents. This function is similar to using the rm -rf command in a shell.\n",
    "\n",
    "## Examples\n",
    "Here are some examples of how you can use the shutil module in your Python code:\n",
    "\n",
    "```python\n",
    "import shutil\n",
    "\n",
    "# Copying a file\n",
    "shutil.copy(\"src.txt\", \"dst.txt\")\n",
    "\n",
    "# Copying a directory\n",
    "shutil.copytree(\"src_dir\", \"dst_dir\")\n",
    "\n",
    "# Moving a file\n",
    "shutil.move(\"src.txt\", \"dst.txt\")\n",
    "\n",
    "# Deleting a directory\n",
    "shutil.rmtree(\"dir\")\n",
    "```\n",
    "As you can see, the shutil module provides a simple and efficient way to perform common file and directory-related tasks in Python. Whether you need to copy, move, delete, or preserve metadata about files and directories, the shutil module has you covered.\n",
    "\n",
    "In conclusion, the shutil module is a powerful tool for automating file and directory-related tasks in Python. Whether you are a beginner or an experienced Python developer, the shutil module is an essential tool to have in your toolbox.\n",
    "## [Next Lesson>>](https://replit.com/@codewithharry/88-Day-88-Exercise-9-Solution)"
   ]
  },
  {
   "cell_type": "code",
   "execution_count": 1,
   "metadata": {},
   "outputs": [
    {
     "ename": "FileNotFoundError",
     "evalue": "[WinError 2] The system cannot find the file specified: 'file.file'",
     "output_type": "error",
     "traceback": [
      "\u001b[1;31m---------------------------------------------------------------------------\u001b[0m",
      "\u001b[1;31mFileNotFoundError\u001b[0m                         Traceback (most recent call last)",
      "Cell \u001b[1;32mIn[1], line 8\u001b[0m\n\u001b[0;32m      2\u001b[0m \u001b[38;5;28;01mimport\u001b[39;00m \u001b[38;5;21;01mos\u001b[39;00m\n\u001b[0;32m      4\u001b[0m \u001b[38;5;66;03m# shutil.copy(\"main.py\", \"main2.py\")\u001b[39;00m\n\u001b[0;32m      5\u001b[0m \u001b[38;5;66;03m# shutil.copytree(\".tutorial\", \"mytutorial\")\u001b[39;00m\n\u001b[0;32m      6\u001b[0m \u001b[38;5;66;03m# shutil.move(\".tutorial/file.file\", \"file.file\")\u001b[39;00m\n\u001b[0;32m      7\u001b[0m \u001b[38;5;66;03m# shutil.rmtree(\"mytutorial\")\u001b[39;00m\n\u001b[1;32m----> 8\u001b[0m os\u001b[38;5;241m.\u001b[39mremove(\u001b[38;5;124m\"\u001b[39m\u001b[38;5;124mfile.file\u001b[39m\u001b[38;5;124m\"\u001b[39m)\n",
      "\u001b[1;31mFileNotFoundError\u001b[0m: [WinError 2] The system cannot find the file specified: 'file.file'"
     ]
    }
   ],
   "source": [
    "import shutil\n",
    "import os\n",
    "\n",
    "# shutil.copy(\"main.py\", \"main2.py\")\n",
    "# shutil.copytree(\".tutorial\", \"mytutorial\")\n",
    "# shutil.move(\".tutorial/file.file\", \"file.file\")\n",
    "# shutil.rmtree(\"mytutorial\")\n",
    "os.remove(\"file.file\")"
   ]
  },
  {
   "cell_type": "code",
   "execution_count": null,
   "metadata": {},
   "outputs": [],
   "source": []
  }
 ],
 "metadata": {
  "kernelspec": {
   "display_name": "base",
   "language": "python",
   "name": "python3"
  },
  "language_info": {
   "codemirror_mode": {
    "name": "ipython",
    "version": 3
   },
   "file_extension": ".py",
   "mimetype": "text/x-python",
   "name": "python",
   "nbconvert_exporter": "python",
   "pygments_lexer": "ipython3",
   "version": "3.11.7"
  }
 },
 "nbformat": 4,
 "nbformat_minor": 2
}
