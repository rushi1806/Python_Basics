{
 "cells": [
  {
   "cell_type": "markdown",
   "metadata": {},
   "source": [
    "# Finally Clause\n",
    "The finally code block is also a part of exception handling. When we handle exception using the try and except block, we can include a finally block at the end. The finally block is always executed, so it is generally used for doing the concluding tasks like closing file resources or closing database connection or may be ending the program execution with a delightful message.\n",
    "# Syntax:\n",
    "```\n",
    "try:\n",
    "   #statements which could generate \n",
    "   #exception\n",
    "except:\n",
    "   #solution of generated exception\n",
    "finally:\n",
    "    #block of code which is going to \n",
    "    #execute in any situation\n",
    "    \n",
    "   \n",
    "```\n",
    "The finally block is executed irrespective of the outcome of try……except…..else blocks\\\n",
    "One of the important use cases of finally block is in a function which returns a value.\n",
    "# Example:\n",
    "```python\n",
    "try:\n",
    "    num = int(input(\"Enter an integer: \"))\n",
    "except ValueError:\n",
    "    print(\"Number entered is not an integer.\")\n",
    "else:\n",
    "    print(\"Integer Accepted.\")\n",
    "finally:\n",
    "    print(\"This block is always executed.\")\n",
    " ```\n",
    "\n",
    "## Output 1:\n",
    "```\n",
    "Enter an integer: 19\n",
    "Integer Accepted.\n",
    "This block is always executed.\n",
    "```\n",
    "## Output 2:\n",
    "```\n",
    "Enter an integer: 3.142\n",
    "Number entered is not an integer.\n",
    "This block is always executed.\n",
    "```\n",
    "## [Next Lesson>>](https://replit.com/@codewithharry/38-Day38-Custom-Errors)"
   ]
  },
  {
   "cell_type": "code",
   "execution_count": 1,
   "metadata": {},
   "outputs": [
    {
     "name": "stdout",
     "output_type": "stream",
     "text": [
      "Some error occurred\n",
      "I am always executed\n",
      "0\n"
     ]
    }
   ],
   "source": [
    "def func1():\n",
    "  try:\n",
    "    l = [1, 5, 6, 7]\n",
    "    i = int(input(\"Enter the index: \"))\n",
    "    print(l[i])\n",
    "    return 1\n",
    "  except:\n",
    "    print(\"Some error occurred\")\n",
    "    return 0\n",
    "\n",
    "  finally:\n",
    "    print(\"I am always executed\")\n",
    "  # print(\"I am always executed\")\n",
    "\n",
    "\n",
    "x = func1()\n",
    "print(x)\n"
   ]
  },
  {
   "cell_type": "code",
   "execution_count": null,
   "metadata": {},
   "outputs": [],
   "source": []
  }
 ],
 "metadata": {
  "kernelspec": {
   "display_name": "base",
   "language": "python",
   "name": "python3"
  },
  "language_info": {
   "codemirror_mode": {
    "name": "ipython",
    "version": 3
   },
   "file_extension": ".py",
   "mimetype": "text/x-python",
   "name": "python",
   "nbconvert_exporter": "python",
   "pygments_lexer": "ipython3",
   "version": "3.11.7"
  }
 },
 "nbformat": 4,
 "nbformat_minor": 2
}
