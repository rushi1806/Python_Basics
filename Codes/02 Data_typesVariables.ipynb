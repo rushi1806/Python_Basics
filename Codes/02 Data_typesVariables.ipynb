{
 "cells": [
  {
   "cell_type": "markdown",
   "metadata": {},
   "source": [
    "\n",
    "\n",
    "\n",
    "\n",
    "# Day 6 - Variables and Data Types\n",
    "## What is a variable?\n",
    "Variable is like a container that holds data. Very similar to how our containers in kitchen holds sugar, salt etc\n",
    "Creating a variable is like creating a placeholder in memory and assigning it some value. In Python its as easy as writing:\n",
    "```python\n",
    "a = 1\n",
    "b = True\n",
    "c = \"Harry\"\n",
    "d = None\n",
    "```\n",
    "\n",
    "These are four variables of different data types.\n",
    "\n",
    "## What is a Data Type?\n",
    "Data type specifies the type of value a variable holds. This is required in programming to do various operations without causing an error. \\\n",
    "In python, we can print the type of any operator using type function:\n",
    "```python\n",
    "a = 1\n",
    "print(type(a))\n",
    "b = \"1\"\n",
    "print(type(b))\n",
    "```\n",
    "By default, python provides the following built-in data types:\n",
    "\n",
    "## 1. Numeric data: int, float, complex\n",
    "\n",
    "\n",
    " - int: 3, -8, 0\n",
    " -    float: 7.349, -9.0, 0.0000001\n",
    " -  complex: 6 + 2i \n",
    "\n",
    " ## 2. Text data: str\n",
    "    \n",
    "\n",
    "str: \"Hello World!!!\", \"Python Programming\"\n",
    "\n",
    "## 3. Boolean data:\n",
    "    \n",
    "\n",
    "Boolean data consists of values True or False.\n",
    "\n",
    "## 4. Sequenced data: list, tuple\n",
    "    \n",
    "\n",
    "**list:**  A list is an ordered collection of data with elements separated by a comma and enclosed within square brackets. Lists are mutable and can be modified after creation.\n",
    "\n",
    "**Example:**\n",
    "\n",
    "```python\n",
    "list1 = [8, 2.3, [-4, 5], [\"apple\", \"banana\"]]\n",
    "print(list1)\n",
    "```\n",
    "\n",
    "\n",
    "Output:\n",
    "\n",
    "```markup\n",
    "[8, 2.3, [-4, 5], ['apple', 'banana']]\n",
    "```\n",
    "\n",
    "\n",
    "**Tuple:**  A tuple is an ordered collection of data with elements separated by a comma and enclosed within parentheses. Tuples are immutable and can not be modified after creation. \n",
    "\n",
    "**Example:**\n",
    "\n",
    "```python\n",
    "tuple1 = ((\"parrot\", \"sparrow\"), (\"Lion\", \"Tiger\"))\n",
    "print(tuple1)\n",
    "```\n",
    "\n",
    "\n",
    "Output:\n",
    "\n",
    "```python\n",
    "(('parrot', 'sparrow'), ('Lion', 'Tiger'))\n",
    "```\n",
    "\n",
    "\n",
    "## 5. Mapped data: dict\n",
    "    \n",
    "\n",
    "**dict:** A dictionary is an unordered collection of data containing a key:value pair. The key:value pairs are enclosed within curly brackets.\n",
    "\n",
    "**Example:**\n",
    "\n",
    "```python\n",
    "dict1 = {\"name\":\"Sakshi\", \"age\":20, \"canVote\":True}\n",
    "print(dict1)\n",
    "```\n",
    "\n",
    "\n",
    "Output:\n",
    "\n",
    "```python\n",
    "{'name': 'Sakshi', 'age': 20, 'canVote': True}\n",
    "```\n",
    "\n",
    "## [Next Lesson>>](https://replit.com/@codewithharry/07-Day7-Exercise-1-Create-a-Calculator)"
   ]
  },
  {
   "cell_type": "code",
   "execution_count": 2,
   "metadata": {},
   "outputs": [
    {
     "name": "stdout",
     "output_type": "stream",
     "text": [
      "(8+2j)\n",
      "True\n",
      "(17+2j)\n",
      "The type of a is  <class 'complex'>\n",
      "The type of b is  <class 'bool'>\n",
      "The type of c is  <class 'str'>\n",
      "[8, 2.3, [-4, 5], ['apple', 'banana']]\n",
      "(('parrot', 'sparrow'), ('Lion', 'Tiger'))\n",
      "{'name': 'Sakshi', 'age': 20, 'canVote': True}\n"
     ]
    }
   ],
   "source": [
    "a = complex(8, 2)\n",
    "b = True\n",
    "c = \"Harry\"\n",
    "d = None\n",
    "print(a)\n",
    "print(b)\n",
    "a1 = 9\n",
    "print(a + a1)\n",
    "print(\"The type of a is \", type(a))\n",
    "print(\"The type of b is \", type(b))\n",
    "print(\"The type of c is \", type(c))\n",
    "\n",
    "\n",
    "list1 = [8, 2.3, [-4, 5], [\"apple\", \"banana\"]]\n",
    "print(list1)\n",
    "\n",
    "tuple1 = ((\"parrot\", \"sparrow\"), (\"Lion\", \"Tiger\"))\n",
    "print(tuple1)\n",
    "\n",
    "dict1 = {\"name\":\"Sakshi\", \"age\":20, \"canVote\":True}\n",
    "print(dict1)"
   ]
  },
  {
   "cell_type": "code",
   "execution_count": 16,
   "metadata": {},
   "outputs": [
    {
     "name": "stdout",
     "output_type": "stream",
     "text": [
      "Total cost: 1050\n"
     ]
    }
   ],
   "source": [
    "cart = []\n",
    "cart.append({\"item\": \"Laptop\", \"price\": 1000})\n",
    "cart.append({\"item\": \"Mouse\", \"price\": 50})\n",
    "total = sum(item[\"price\"] for item in cart)\n",
    "print(\"Total cost:\", total)"
   ]
  },
  {
   "cell_type": "code",
   "execution_count": 32,
   "metadata": {},
   "outputs": [
    {
     "name": "stdout",
     "output_type": "stream",
     "text": [
      "50\n"
     ]
    }
   ],
   "source": [
    "print(item[\"price\"])"
   ]
  },
  {
   "cell_type": "code",
   "execution_count": 31,
   "metadata": {},
   "outputs": [
    {
     "name": "stdout",
     "output_type": "stream",
     "text": [
      "1000\n",
      "50\n"
     ]
    }
   ],
   "source": [
    "for item in cart:\n",
    "    print(item[\"price\"])"
   ]
  },
  {
   "cell_type": "code",
   "execution_count": 33,
   "metadata": {},
   "outputs": [
    {
     "name": "stdout",
     "output_type": "stream",
     "text": [
      "Config: debug_mode\n",
      "Config: log_level=info\n",
      "Config: max_connections=10\n"
     ]
    }
   ],
   "source": [
    "config = [\"debug_mode\", \"log_level=info\", \"max_connections=10\"]\n",
    "for setting in config:\n",
    "    print(\"Config:\", setting)"
   ]
  },
  {
   "cell_type": "markdown",
   "metadata": {},
   "source": [
    "## Exercise 1 - Create a Calculator Solution\n",
    "Create a calculator capable of performing addition, subtraction, multiplication and division operations on two numbers. Your program should format the output in a readable manner!\n",
    "\n",
    "## [Next Lesson>>](https://replit.com/@codewithharry/09-Day9-Typecasting-in-Python)"
   ]
  },
  {
   "cell_type": "code",
   "execution_count": 1,
   "metadata": {},
   "outputs": [
    {
     "name": "stdout",
     "output_type": "stream",
     "text": [
      "The value of 50 + 3 is:  53\n",
      "The value of 50 - 3 is:  47\n",
      "The value of 50 * 3 is:  150\n",
      "The value of 50 / 3 is:  16.666666666666668\n"
     ]
    }
   ],
   "source": [
    "a = 50\n",
    "b = 3\n",
    "\n",
    "print(\"The value of\", a, \"+\", 3, \"is: \", a + b)\n",
    "print(\"The value of\", a, \"-\", 3, \"is: \", a - b)\n",
    "print(\"The value of\", a, \"*\", 3, \"is: \", a * b)\n",
    "print(\"The value of\", a, \"/\", 3, \"is: \", a / b)\n"
   ]
  },
  {
   "cell_type": "code",
   "execution_count": null,
   "metadata": {},
   "outputs": [],
   "source": [
    "### 4 datatypes : List, Tupel, Dictionary, Set\n",
    "## 1. Tupel () # tupels are immutable means can not be change\n",
    "a_tupel = (1,2,3,'a','b')\n",
    "print(a_tupel)\n",
    "type(a_tupel)\n",
    "len(a_tupel)\n",
    "x = a_tupel.append('c')\n",
    "print(x)\n",
    "\n",
    "a_tupel = (1,2,3,'a','b')\n",
    "print(a_tupel)\n",
    "type(a_tupel)\n",
    "len(a_tupel)\n",
    "a_tupel[0]\n",
    "a_tupel[-1]\n",
    "a_tupel[0:3]\n",
    "a_tupel[0:4:2]\n",
    "\n",
    "\n",
    "\n",
    "## 2. List [] # List mutable means can change\n",
    "a_list = [1,2,3,'a','b']\n",
    "print(a_list)\n",
    "type(a_list)\n",
    "len(a_list)\n",
    "a_list.append('c')\n",
    "print(a_list)\n",
    "a_tupel.add('g')\n",
    "lt = list(a_tupel)\n",
    "print(lt)\n",
    "\n",
    "a_list = [1,2,3,'a','b']\n",
    "print(a_list)\n",
    "type(a_list)\n",
    "len(a_list)\n",
    "a_list[0]\n",
    "a_list[-1]\n",
    "a_list[0:3]\n",
    "a_list[0:4:2]\n",
    "\n",
    "## 3. Set {} # Every entry is unique means every duplicate value will be removed\n",
    "\n",
    "a_set = {1,2,3,3,'a'}\n",
    "print(a_set)\n",
    "type(a_set)\n",
    "len(a_set)\n",
    "a_set.append('c')\n",
    "print(a_set)\n",
    "a_set.add('b')\n",
    "print(a_set)\n",
    "\n",
    "\n",
    "a_set = {1,2,3,3,'a'}\n",
    "print(a_set)\n",
    "type(a_set)\n",
    "len(a_set)\n",
    "a_set(1)\n",
    "a_set[-1]\n",
    "\n",
    "\n",
    "## 4. Dictionary {key:value} # Key : value pairs instead of single entries \n",
    "\n",
    "a_dict = {'key' : 'value', 2 : 4, 'a' : 6, 'a' : 5, 'c' : 'c', 'd' : a_list, 'e' : a_tupel, 'f' : a_set}\n",
    "print(a_dict)\n",
    "type(a_dict)\n",
    "len(a_dict)\n",
    "a_dict['g'] = 3\n",
    "print(a_dict)\n",
    "dictt = {'h' : 7}\n",
    "a_dict.update(dictt)\n",
    "print(a_dict)\n",
    "a_dict = dict (a_dict,i = 8)\n",
    "print(a_dict)\n",
    "a_dict['j'] = 9\n",
    "print(a_dict)\n",
    "\n",
    "a_dict = {'key' : 'value', 2 : 4, 'a' : 6, 'a' : 5, 'c' : 'c', 'd' : a_list, 'e' : a_tupel, 'f' : a_set}\n",
    "print(a_dict)\n",
    "type(a_dict)\n",
    "len(a_dict)\n",
    "a_dict[2]\n",
    "a_dict['a']\n",
    "a_dict['d'][2]\n",
    "\n",
    "\n",
    "## Exercise ##\n",
    "#1. remove duplicates from list\n",
    "x = [1,1,2,3,4,4,'a','a','b',1]\n",
    "print(x)\n",
    "type(x)\n",
    "y = list(set(x))\n",
    "print(y)\n",
    "\n",
    "\n",
    "\n",
    "#2. \n",
    "lst = (1,2,3,4,5,6,7,8,9,10) \n",
    "print(lst[7:2:-2])\n",
    "print(lst[7::-2])"
   ]
  },
  {
   "cell_type": "code",
   "execution_count": null,
   "metadata": {},
   "outputs": [],
   "source": []
  },
  {
   "cell_type": "code",
   "execution_count": null,
   "metadata": {},
   "outputs": [],
   "source": [
    "User_name = 'ruha'\n",
    "User_age = 9"
   ]
  },
  {
   "cell_type": "code",
   "execution_count": null,
   "metadata": {},
   "outputs": [
    {
     "name": "stdout",
     "output_type": "stream",
     "text": [
      "ruha is 9 year old\n"
     ]
    }
   ],
   "source": [
    "bad_approach = User_name + ' is 9 year old'\n",
    "print(bad_approach)\n",
    "\n",
    "\n"
   ]
  },
  {
   "cell_type": "code",
   "execution_count": null,
   "metadata": {},
   "outputs": [
    {
     "ename": "TypeError",
     "evalue": "can only concatenate str (not \"int\") to str",
     "output_type": "error",
     "traceback": [
      "\u001b[1;31m---------------------------------------------------------------------------\u001b[0m\n",
      "\u001b[1;31mTypeError\u001b[0m                                 Traceback (most recent call last)\n",
      "Cell \u001b[1;32mIn[3], line 1\u001b[0m\n",
      "\u001b[1;32m----> 1\u001b[0m bad_approach \u001b[38;5;241m=\u001b[39m \u001b[43mUser_name\u001b[49m\u001b[43m \u001b[49m\u001b[38;5;241;43m+\u001b[39;49m\u001b[43m \u001b[49m\u001b[38;5;124;43m'\u001b[39;49m\u001b[38;5;124;43m is \u001b[39;49m\u001b[38;5;124;43m'\u001b[39;49m\u001b[43m \u001b[49m\u001b[38;5;241;43m+\u001b[39;49m\u001b[43m \u001b[49m\u001b[43mUser_age\u001b[49m \u001b[38;5;241m+\u001b[39m \u001b[38;5;124m'\u001b[39m\u001b[38;5;124m year old\u001b[39m\u001b[38;5;124m'\u001b[39m\n",
      "\u001b[0;32m      2\u001b[0m \u001b[38;5;28mprint\u001b[39m(bad_approach)\n",
      "\n",
      "\u001b[1;31mTypeError\u001b[0m: can only concatenate str (not \"int\") to str"
     ]
    }
   ],
   "source": [
    "bad_approach = User_name + ' is ' + User_age + ' year old'\n",
    "print(bad_approach)"
   ]
  },
  {
   "cell_type": "code",
   "execution_count": null,
   "metadata": {},
   "outputs": [
    {
     "name": "stdout",
     "output_type": "stream",
     "text": [
      "ruha is 9 year old\n"
     ]
    }
   ],
   "source": [
    "bad_approach = User_name + ' is ' + str(User_age) + ' year old'\n",
    "print(bad_approach)"
   ]
  },
  {
   "cell_type": "code",
   "execution_count": null,
   "metadata": {},
   "outputs": [
    {
     "name": "stdout",
     "output_type": "stream",
     "text": [
      "ruha is 10 year old\n"
     ]
    }
   ],
   "source": [
    "### using f string we can use these type of calculations\n",
    "#good_approach = f'{User_name} is {User_age} year old'\n",
    "good_approach = f'{User_name} is {5+5} year old'\n",
    "print(good_approach)"
   ]
  },
  {
   "cell_type": "code",
   "execution_count": null,
   "metadata": {},
   "outputs": [
    {
     "ename": "SyntaxError",
     "evalue": "f-string: expecting '}' (3619996327.py, line 5)",
     "output_type": "error",
     "traceback": [
      "\u001b[1;36m  Cell \u001b[1;32mIn[21], line 5\u001b[1;36m\u001b[0m\n",
      "\u001b[1;33m    print(f'{User_name} is {User_age} year old the person is {'adult' if User_age >= 18 else 'child'}. ')\u001b[0m\n",
      "\u001b[1;37m                                                               ^\u001b[0m\n",
      "\u001b[1;31mSyntaxError\u001b[0m\u001b[1;31m:\u001b[0m f-string: expecting '}'\n"
     ]
    }
   ],
   "source": [
    "User_name = 'ruha'\n",
    "User_age = 9\n",
    "#good_approach = f'{User_name} is {User_age} year old the person is {'adult' if User_age >= 18 else 'child'}'\n",
    "#print(good_approach)\n",
    "print(f'{User_name} is {User_age} year old the person is {'adult' if User_age >= 18 else 'child'}')"
   ]
  },
  {
   "cell_type": "code",
   "execution_count": null,
   "metadata": {},
   "outputs": [
    {
     "name": "stdout",
     "output_type": "stream",
     "text": [
      "adult\n"
     ]
    }
   ],
   "source": [
    "# single line if statement\n",
    "User_age = 20\n",
    "user_status = 'adult' if User_age >= 18 else 'child'\n",
    "print(user_status)"
   ]
  },
  {
   "cell_type": "markdown",
   "metadata": {},
   "source": [
    "#### Strings\n"
   ]
  },
  {
   "cell_type": "code",
   "execution_count": null,
   "metadata": {},
   "outputs": [
    {
     "name": "stdout",
     "output_type": "stream",
     "text": [
      "Hey,\"Hrishikesh\" I am here\n"
     ]
    }
   ],
   "source": [
    "print('Hey,\"Hrishikesh\" I am here')"
   ]
  },
  {
   "cell_type": "code",
   "execution_count": null,
   "metadata": {},
   "outputs": [
    {
     "name": "stdout",
     "output_type": "stream",
     "text": [
      " Hello I am hrishikesh,\n",
      "I am fine.\n",
      "How are you? \n",
      " \n",
      "H\n",
      "e\n",
      "l\n",
      "l\n",
      "o\n",
      " \n",
      "I\n",
      " \n",
      "a\n",
      "m\n",
      " \n",
      "h\n",
      "r\n",
      "i\n",
      "s\n",
      "h\n",
      "i\n",
      "k\n",
      "e\n",
      "s\n",
      "h\n",
      ",\n",
      "\n",
      "\n",
      "I\n",
      " \n",
      "a\n",
      "m\n",
      " \n",
      "f\n",
      "i\n",
      "n\n",
      "e\n",
      ".\n",
      "\n",
      "\n",
      "H\n",
      "o\n",
      "w\n",
      " \n",
      "a\n",
      "r\n",
      "e\n",
      " \n",
      "y\n",
      "o\n",
      "u\n",
      "?\n",
      " \n"
     ]
    }
   ],
   "source": [
    "##Multiple lins string\n",
    "a = \"\"\" Hello I am hrishikesh,\n",
    "I am fine.\n",
    "How are you? \"\"\"\n",
    "print(a)\n",
    "len(a)\n",
    "a[5]\n",
    "a[-2]\n",
    "for character in a:\n",
    "    print(character)"
   ]
  },
  {
   "cell_type": "markdown",
   "metadata": {},
   "source": [
    "##### Slicing String\n",
    "Slicing we use [ ] brackets"
   ]
  },
  {
   "cell_type": "code",
   "execution_count": null,
   "metadata": {},
   "outputs": [],
   "source": []
  },
  {
   "cell_type": "code",
   "execution_count": null,
   "metadata": {},
   "outputs": [
    {
     "name": "stdout",
     "output_type": "stream",
     "text": [
      "Hello,\n",
      "12\n",
      "hello, 12 rupees\n"
     ]
    }
   ],
   "source": [
    "Name = \"Hello,Hrishi\"\n",
    "print(Name[0:6])\n",
    "len1 = len(Name)\n",
    "print(len1)\n",
    "print(\"hello,\", len1, \"rupees\")"
   ]
  },
  {
   "cell_type": "markdown",
   "metadata": {},
   "source": [
    "#### Methods of strings\n",
    "\n",
    "Strings are immutable"
   ]
  },
  {
   "cell_type": "code",
   "execution_count": null,
   "metadata": {},
   "outputs": [
    {
     "name": "stdout",
     "output_type": "stream",
     "text": [
      "Hrishi\n",
      "HRISHI\n",
      "Hrishi\n"
     ]
    }
   ],
   "source": [
    "b = 'Hrishi'\n",
    "print(b)\n",
    "print(b.upper())\n",
    "print(b)\n"
   ]
  },
  {
   "cell_type": "code",
   "execution_count": null,
   "metadata": {},
   "outputs": [
    {
     "name": "stdout",
     "output_type": "stream",
     "text": [
      "!!!!Hrishi!!!! patil! Hrishi !hellohrishi Hrishi \n",
      "!!!!Rosh!!!! patil! Rosh !hellohrishi Rosh !!!!!!\n",
      "['!!!!Hrishi!!!!', 'patil!', 'Hrishi', '!hellohrishi', 'Hrishi', '!!!!!!']\n",
      "['', '', '', '', 'Hrishi', '', '', '', ' patil', ' Hrishi ', 'hellohrishi Hrishi ', '', '', '', '', '', '']\n",
      "['!!!!', '!!!! patil! ', ' !hellohrishi ', ' !!!!!!']\n",
      "Introduction to js\n",
      "Intro to js on\n",
      "3\n",
      "1\n",
      "16\n",
      "True\n",
      "False\n",
      "False\n",
      "True\n",
      "False\n",
      "4\n",
      "-1\n"
     ]
    },
    {
     "ename": "ValueError",
     "evalue": "substring not found",
     "output_type": "error",
     "traceback": [
      "\u001b[1;31m---------------------------------------------------------------------------\u001b[0m\n",
      "\u001b[1;31mValueError\u001b[0m                                Traceback (most recent call last)\n",
      "Cell \u001b[1;32mIn[50], line 21\u001b[0m\n",
      "\u001b[0;32m     19\u001b[0m \u001b[38;5;28mprint\u001b[39m(b\u001b[38;5;241m.\u001b[39mfind(\u001b[38;5;124m'\u001b[39m\u001b[38;5;124mHrishi\u001b[39m\u001b[38;5;124m'\u001b[39m))   \u001b[38;5;66;03m##print 1st occurence index\u001b[39;00m\n",
      "\u001b[0;32m     20\u001b[0m \u001b[38;5;28mprint\u001b[39m(b\u001b[38;5;241m.\u001b[39mfind(\u001b[38;5;124m'\u001b[39m\u001b[38;5;124mishh\u001b[39m\u001b[38;5;124m'\u001b[39m))   \u001b[38;5;66;03m## does not through error give -1 op\u001b[39;00m\n",
      "\u001b[1;32m---> 21\u001b[0m \u001b[38;5;28mprint\u001b[39m(\u001b[43mb\u001b[49m\u001b[38;5;241;43m.\u001b[39;49m\u001b[43mindex\u001b[49m\u001b[43m(\u001b[49m\u001b[38;5;124;43m'\u001b[39;49m\u001b[38;5;124;43mishh\u001b[39;49m\u001b[38;5;124;43m'\u001b[39;49m\u001b[43m)\u001b[49m)   \u001b[38;5;66;03m## throgh error means it is no find hence we use over find\u001b[39;00m\n",
      "\n",
      "\u001b[1;31mValueError\u001b[0m: substring not found"
     ]
    }
   ],
   "source": [
    "\n",
    "b = '!!!!Hrishi!!!! patil! Hrishi !hellohrishi Hrishi !!!!!!'\n",
    "print(b.rstrip('!'))\n",
    "print(b.replace('Hrishi', 'Rosh'))\n",
    "print(b.split(' '))\n",
    "print(b.split('!'))\n",
    "print(b.split('Hrishi'))\n",
    "Heading = \"introduction to js\"\n",
    "print(Heading.capitalize())\n",
    "wrong = 'intro tO jS oN'\n",
    "print(wrong.capitalize())\n",
    "print(b.count(\"Hrishi\"))\n",
    "print(b.count(\"hrishi\"))\n",
    "print(b.count(\"!\"))\n",
    "print(b.endswith('!'))\n",
    "print(b.endswith('Hrishi'))\n",
    "print(b.endswith('!!!!!!!'))\n",
    "print(b.endswith('!', 2, 11))\n",
    "print(b.endswith('!', 2, 15))\n",
    "print(b.find('Hrishi'))   ##print 1st occurence index\n",
    "print(b.find('ishh'))   ## does not through error give -1 op\n",
    "print(b.index('ishh'))   ## throgh error means it is no find hence we use over find"
   ]
  },
  {
   "cell_type": "code",
   "execution_count": null,
   "metadata": {},
   "outputs": [
    {
     "name": "stdout",
     "output_type": "stream",
     "text": [
      "False\n",
      "True\n",
      "True\n",
      "True\n",
      "False\n",
      "False\n",
      "True\n",
      "False\n",
      "False\n",
      "False\n",
      "False\n",
      "False\n",
      "True\n",
      "False\n"
     ]
    }
   ],
   "source": [
    "x = \"Hello world 9\"\n",
    "w = \"Helloworld9\"\n",
    "y = '155656'\n",
    "z = 'ABCD'\n",
    "print(x.isalnum())\n",
    "print(w.isalnum())\n",
    "print(y.isalnum())\n",
    "print(z.isalnum())\n",
    "print(x.isalpha())\n",
    "print(y.isalpha())\n",
    "print(z.isalpha())\n",
    "print(x.islower())\n",
    "print(y.islower())\n",
    "print(z.islower())\n",
    "print(x.isupper())\n",
    "print(y.isupper())\n",
    "print(z.isupper())\n"
   ]
  },
  {
   "cell_type": "code",
   "execution_count": null,
   "metadata": {},
   "outputs": [
    {
     "name": "stdout",
     "output_type": "stream",
     "text": [
      "hello world\n",
      "11\n",
      "     hello world      \n",
      "22\n"
     ]
    }
   ],
   "source": [
    "## Center\n",
    "b = 'hello world'\n",
    "print(b)\n",
    "print(len(b))\n",
    "c = b.center(22)\n",
    "print(c)\n",
    "print(len(c))"
   ]
  },
  {
   "cell_type": "markdown",
   "metadata": {},
   "source": [
    "##### String Formatting "
   ]
  },
  {
   "cell_type": "markdown",
   "metadata": {},
   "source": [
    "#### list comprehension"
   ]
  },
  {
   "cell_type": "code",
   "execution_count": null,
   "metadata": {},
   "outputs": [
    {
     "name": "stdout",
     "output_type": "stream",
     "text": [
      "[0, 1, 2, 3, 4, 5, 6, 7, 8, 9, 10]\n"
     ]
    }
   ],
   "source": [
    "simple_list = [i for i in range(0,11,1)]\n",
    "#simple_list = []\n",
    "#for i in range (0,11,1):\n",
    "#   simple_list.append(i)\n",
    "\n",
    "print(simple_list)"
   ]
  },
  {
   "cell_type": "code",
   "execution_count": null,
   "metadata": {},
   "outputs": [
    {
     "name": "stdout",
     "output_type": "stream",
     "text": [
      "[0, 0, 1, 1, 2, 2, 3, 3, 4, 4, 5, 5, 6, 6, 7, 7, 8, 8, 9, 9, 10, 10]\n"
     ]
    }
   ],
   "source": [
    "simple_list = [i for i in range(0,11,1) for j in ('a','b')]\n",
    "#simple_list = []\n",
    "#for i in range (0,11,1):\n",
    "#   simple_list.append(i)\n",
    "\n",
    "print(simple_list)"
   ]
  },
  {
   "cell_type": "code",
   "execution_count": null,
   "metadata": {},
   "outputs": [
    {
     "name": "stdout",
     "output_type": "stream",
     "text": [
      "['0a', '1a', '2a', '3a', '4a', '5a', '6a', '7a', '8a', '9a', '10a']\n"
     ]
    }
   ],
   "source": [
    "simple_list = [f'{i}{j}' for i in range(0,11,1) for j in ('a','b') if j == 'a']\n",
    "#simple_list = []\n",
    "#for i in range (0,11,1):\n",
    "#   simple_list.append(i)\n",
    "\n",
    "print(simple_list)"
   ]
  }
 ],
 "metadata": {
  "kernelspec": {
   "display_name": "base",
   "language": "python",
   "name": "python3"
  },
  "language_info": {
   "codemirror_mode": {
    "name": "ipython",
    "version": 3
   },
   "file_extension": ".py",
   "mimetype": "text/x-python",
   "name": "python",
   "nbconvert_exporter": "python",
   "pygments_lexer": "ipython3",
   "version": "3.11.7"
  }
 },
 "nbformat": 4,
 "nbformat_minor": 2
}
