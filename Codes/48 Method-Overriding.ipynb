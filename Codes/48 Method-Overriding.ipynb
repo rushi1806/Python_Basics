{
 "cells": [
  {
   "cell_type": "markdown",
   "metadata": {},
   "source": [
    "# Method Overriding in Python\n",
    "\n",
    "Method overriding is a powerful feature in object-oriented programming that allows you to redefine a method in a derived class. The method in the derived class is said to override the method in the base class. When you create an instance of the derived class and call the overridden method, the version of the method in the derived class is executed, rather than the version in the base class.\n",
    "\n",
    "In Python, method overriding is a way to customize the behavior of a class based on its specific needs. For example, consider the following base class:\n",
    "\n",
    "```python\n",
    "class Shape:\n",
    "    def area(self):\n",
    "        pass\n",
    "```\n",
    "In this base class, the area method is defined, but does not have any implementation. If you want to create a derived class that represents a circle, you can override the area method and provide an implementation that calculates the area of a circle:\n",
    "\n",
    "```python\n",
    "class Circle(Shape):\n",
    "    def __init__(self, radius):\n",
    "        self.radius = radius\n",
    "\n",
    "    def area(self):\n",
    "        return 3.14 * self.radius * self.radius\n",
    "```\n",
    "In this example, the Circle class inherits from the Shape class, and overrides the area method. The new implementation of the area method calculates the area of a circle, based on its radius.\n",
    "\n",
    "It's important to note that when you override a method, the new implementation must have the same method signature as the original method. This means that the number and type of arguments, as well as the return type, must be the same.\n",
    "\n",
    "Another way to customize the behavior of a class is to call the base class method from the derived class method. To do this, you can use the super function. The super function allows you to call the base class method from the derived class method, and can be useful when you want to extend the behavior of the base class method, rather than replace it.\n",
    "\n",
    "For example, consider the following base class:\n",
    "\n",
    "```python\n",
    "class Shape:\n",
    "    def area(self):\n",
    "        print(\"Calculating area...\")\n",
    "```\n",
    "In this base class, the area method prints a message indicating that the area is being calculated. If you want to create a derived class that represents a circle, and you also want to print a message indicating the type of shape, you can use the super function to call the base class method, and add your own message:\n",
    "\n",
    "```python\n",
    "class Circle(Shape):\n",
    "    def __init__(self, radius):\n",
    "        self.radius = radius\n",
    "\n",
    "    def area(self):\n",
    "        print(\"Calculating area of a circle...\")\n",
    "        super().area()\n",
    "        return 3.14 * self.radius * self.radius\n",
    "```\n",
    "In this example, the Circle class overrides the area method, and calls the base class method using the super function. This allows you to extend the behavior of the base class method, while still maintaining its original behavior.\n",
    "\n",
    "In conclusion, method overriding is a powerful feature in Python that allows you to customize the behavior of a class based on its specific needs. By using method overriding, you can create more robust and reliable code, and ensure that your classes behave in the way that you need them to. Additionally, by using the super function, you can extend the behavior of a base class method, rather than replace it, giving you even greater flexibility and control over the behavior of your classes.\n",
    "## [Next Lesson>>](https://replit.com/@codewithharry/75-Day-75-Exercise-7-Solution)"
   ]
  },
  {
   "cell_type": "code",
   "execution_count": 1,
   "metadata": {},
   "outputs": [
    {
     "name": "stdout",
     "output_type": "stream",
     "text": [
      "78.5\n"
     ]
    }
   ],
   "source": [
    "class Shape:\n",
    "  def __init__(self, x, y):\n",
    "    self.x = x\n",
    "    self.y = y\n",
    "    \n",
    "  def area(self):\n",
    "      return self.x * self.y\n",
    "\n",
    "class Circle(Shape):\n",
    "    def __init__(self, radius):\n",
    "      self.radius = radius\n",
    "      super().__init__(radius, radius)\n",
    "\n",
    "    def area(self):\n",
    "        return 3.14 *  super().area()\n",
    "      \n",
    "# rec = Shape(3, 5)\n",
    "# print(rec.area())\n",
    "\n",
    "c = Circle(5)\n",
    "print(c.area())"
   ]
  },
  {
   "cell_type": "code",
   "execution_count": null,
   "metadata": {},
   "outputs": [],
   "source": []
  }
 ],
 "metadata": {
  "kernelspec": {
   "display_name": "base",
   "language": "python",
   "name": "python3"
  },
  "language_info": {
   "codemirror_mode": {
    "name": "ipython",
    "version": 3
   },
   "file_extension": ".py",
   "mimetype": "text/x-python",
   "name": "python",
   "nbconvert_exporter": "python",
   "pygments_lexer": "ipython3",
   "version": "3.11.7"
  }
 },
 "nbformat": 4,
 "nbformat_minor": 2
}
