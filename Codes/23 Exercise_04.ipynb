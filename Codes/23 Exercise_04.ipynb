{
 "cells": [
  {
   "cell_type": "markdown",
   "metadata": {},
   "source": [
    "# Write a python program to translate a message into secret code language. Use the rules below to translate normal English into secret code language\n",
    "\n",
    "# Coding:\n",
    "if the word contains atleast 3 characters, remove the first letter and append it at the end\n",
    "now append three random characters at the starting and the end\n",
    "else:\n",
    "simply reverse the string\n",
    "\n",
    "## Decoding:\n",
    "if the word contains less than 3 characters, reverse it\n",
    "else:\n",
    "remove 3 random characters from start and end. Now remove the last letter and append it to the beginning\n",
    "\n",
    "### Your program should ask whether you want to code or decode\n",
    "## [Next Lesson>>](https://replit.com/@codewithharry/41-Day41-Short-Hand-if-else)"
   ]
  },
  {
   "cell_type": "code",
   "execution_count": 3,
   "metadata": {},
   "outputs": [],
   "source": [
    "# Write a python program to translate a message into secret code language. Use the rules below to translate normal English into secret code language\n",
    "\n",
    "# Coding:\n",
    "# if the word contains atleast 3 characters, remove the first letter and append it at the end\n",
    "#   now append three random characters at the starting and the end\n",
    "# else:\n",
    "#   simply reverse the string\n",
    "\n",
    "# Decoding:\n",
    "# if the word contains less than 3 characters, reverse it\n",
    "# else:\n",
    "#   remove 3 random characters from start and end. Now remove the last letter and append it to the beginning\n",
    "\n",
    "# Your program should ask whether you want to code or decode\n"
   ]
  },
  {
   "cell_type": "markdown",
   "metadata": {},
   "source": [
    "# Write a python program to translate a message into secret code language. Use the rules below to translate normal English into secret code language\n",
    "\n",
    "# Coding:\n",
    "if the word contains atleast 3 characters, remove the first letter and append it at the end\n",
    "now append three random characters at the starting and the end\n",
    "else:\n",
    "simply reverse the string\n",
    "\n",
    "# Decoding:\n",
    "if the word contains less than 3 characters, reverse it\n",
    "else:\n",
    "remove 3 random characters from start and end. Now remove the last letter and append it to the beginning\n",
    "\n",
    "## Your program should ask whether you want to code or decode\n",
    "```\n",
    "st = input(\"Enter message\")\n",
    "words = st.split(\" \")\n",
    "coding = input(\"1 for Coding or 0 for Decoding\")\n",
    "coding = True if (coding==\"1\") else False\n",
    "print(coding)\n",
    "if(coding):\n",
    "  nwords = []\n",
    "  for word in words:\n",
    "    if(len(word)>=3):\n",
    "      r1 = \"dsf\"\n",
    "      r2 = \"jkr\"\n",
    "      stnew = r1+ word[1:] + word[0] + r2\n",
    "      nwords.append(stnew)\n",
    "    else:\n",
    "      nwords.append(word[::-1])\n",
    "  print(\" \".join(nwords))\n",
    "\n",
    "else:\n",
    "  nwords = []\n",
    "  for word in words:\n",
    "    if(len(word)>=3): \n",
    "      stnew = word[3:-3]\n",
    "      stnew = stnew[-1] + stnew[:-1]\n",
    "      nwords.append(stnew)\n",
    "    else:\n",
    "      nwords.append(word[::-1])\n",
    "  print(\" \".join(nwords))\n",
    "```\n",
    "  \n",
    "## [Next Lesson>>](https://replit.com/@codewithharry/48-Day48-local-vs-global-variables)"
   ]
  },
  {
   "cell_type": "code",
   "execution_count": 6,
   "metadata": {},
   "outputs": [
    {
     "name": "stdout",
     "output_type": "stream",
     "text": [
      "False\n",
      "5\n"
     ]
    }
   ],
   "source": [
    "# Write a python program to translate a message into secret code language. Use the rules below to translate normal English into secret code language\n",
    "\n",
    "# Coding:\n",
    "# if the word contains atleast 3 characters, remove the first letter and append it at the end\n",
    "#   now append three random characters at the starting and the end\n",
    "# else:\n",
    "#   simply reverse the string\n",
    "\n",
    "# Decoding:\n",
    "# if the word contains less than 3 characters, reverse it\n",
    "# else:\n",
    "#   remove 3 random characters from start and end. Now remove the last letter and append it to the beginning\n",
    "# Your program should ask whether you want to code or decode\n",
    "\n",
    "st = input(\"Enter message\")\n",
    "words = st.split(\" \")\n",
    "coding = input(\"1 for Coding or 0 for Decoding\")\n",
    "coding = True if (coding==\"1\") else False\n",
    "print(coding)\n",
    "if(coding):\n",
    "  nwords = []\n",
    "  for word in words:\n",
    "    if(len(word)>=3):\n",
    "      r1 = \"dsf\"\n",
    "      r2 = \"jkr\"\n",
    "      stnew = r1+ word[1:] + word[0] + r2\n",
    "      nwords.append(stnew)\n",
    "    else:\n",
    "      nwords.append(word[::-1])\n",
    "  print(\" \".join(nwords))\n",
    "\n",
    "else:\n",
    "  nwords = []\n",
    "  for word in words:\n",
    "    if(len(word)>=3): \n",
    "      stnew = word[3:-3]\n",
    "      stnew = stnew[-1] + stnew[:-1]\n",
    "      nwords.append(stnew)\n",
    "    else:\n",
    "      nwords.append(word[::-1])\n",
    "  print(\" \".join(nwords))\n",
    "  \n",
    "  "
   ]
  },
  {
   "cell_type": "code",
   "execution_count": null,
   "metadata": {},
   "outputs": [],
   "source": []
  }
 ],
 "metadata": {
  "kernelspec": {
   "display_name": "base",
   "language": "python",
   "name": "python3"
  },
  "language_info": {
   "codemirror_mode": {
    "name": "ipython",
    "version": 3
   },
   "file_extension": ".py",
   "mimetype": "text/x-python",
   "name": "python",
   "nbconvert_exporter": "python",
   "pygments_lexer": "ipython3",
   "version": "3.11.7"
  }
 },
 "nbformat": 4,
 "nbformat_minor": 2
}
