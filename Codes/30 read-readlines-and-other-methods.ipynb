{
 "cells": [
  {
   "cell_type": "markdown",
   "metadata": {},
   "source": [
    "# readlines() method\n",
    "The readline() method reads a single line from the file. If we want to read multiple lines, we can use a loop.\n",
    "\n",
    "```python\n",
    "f = open('myfile.txt', 'r')\n",
    "while True:\n",
    "    line = f.readline()\n",
    "    if not line:\n",
    "        break\n",
    "    print(line)\n",
    "\n",
    "```\n",
    "The readlines() method reads all the lines of the file and returns them as a list of strings.\n",
    "\n",
    "# writelines() method\n",
    "The writelines() method in Python writes a sequence of strings to a file. The sequence can be any iterable object, such as a list or a tuple.\n",
    "\n",
    "Here's an example of how to use the writelines() method:\n",
    "```python\n",
    "f = open('myfile.txt', 'w')\n",
    "lines = ['line 1\\n', 'line 2\\n', 'line 3\\n']\n",
    "f.writelines(lines)\n",
    "f.close()\n",
    "```\n",
    "This will write the strings in the lines list to the file myfile.txt. The \\n characters are used to add newline characters to the end of each string.\n",
    "\n",
    "Keep in mind that the writelines() method does not add newline characters between the strings in the sequence. If you want to add newlines between the strings, you can use a loop to write each string separately:\n",
    "```python\n",
    "f = open('myfile.txt', 'w')\n",
    "lines = ['line 1', 'line 2', 'line 3']\n",
    "for line in lines:\n",
    "    f.write(line + '\\n')\n",
    "f.close()\n",
    "```\n",
    "It is also a good practice to close the file after you are done with it.\n",
    "## [Next Lesson>>](https://replit.com/@codewithharry/51-Day51-seek-and-tell-functions)"
   ]
  },
  {
   "cell_type": "code",
   "execution_count": 1,
   "metadata": {},
   "outputs": [],
   "source": [
    "# f = open('myfile.txt', 'r')\n",
    "# i = 0\n",
    "# while True:\n",
    "#   i = i + 1\n",
    "#   line = f.readline()\n",
    "#   if not line:\n",
    "#     break\n",
    "#   m1 = int(line.split(\",\")[0])\n",
    "#   m2 = int(line.split(\",\")[1])\n",
    "#   m3 = int(line.split(\",\")[2])\n",
    "#   print(f\"Marks of student {i} in Maths is: {m1*2}\")\n",
    "#   print(f\"Marks of student {i} in English is: {m2*2}\")\n",
    "#   print(f\"Marks of student {i} in SST is: {m3*2}\")\n",
    "\n",
    "#   print(line)\n",
    "\n",
    "f = open('myfile2.txt', 'w')\n",
    "lines = ['line 1\\n', 'line 2\\n', 'line 3\\n']\n",
    "f.writelines(lines)\n",
    "f.close()"
   ]
  },
  {
   "cell_type": "code",
   "execution_count": null,
   "metadata": {},
   "outputs": [],
   "source": []
  }
 ],
 "metadata": {
  "kernelspec": {
   "display_name": "base",
   "language": "python",
   "name": "python3"
  },
  "language_info": {
   "codemirror_mode": {
    "name": "ipython",
    "version": 3
   },
   "file_extension": ".py",
   "mimetype": "text/x-python",
   "name": "python",
   "nbconvert_exporter": "python",
   "pygments_lexer": "ipython3",
   "version": "3.11.7"
  }
 },
 "nbformat": 4,
 "nbformat_minor": 2
}
