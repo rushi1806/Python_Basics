{
 "cells": [
  {
   "cell_type": "markdown",
   "metadata": {},
   "source": [
    "# Recursion in python\n",
    "Recursion is the process of defining something in terms of itself.\n",
    "\n",
    "## Python Recursive Function\n",
    "In Python, we know that a function can call other functions. It is even possible for the function to call itself. These types of construct are termed as recursive functions.\n",
    "## Example:\n",
    "```python\n",
    "def factorial(num): \n",
    "    if (num == 1 or num == 0):\n",
    "        return 1\n",
    "    else:\n",
    "        return (num * factorial(num - 1)) \n",
    "  \n",
    "# Driver Code \n",
    "num = 7; \n",
    "print(\"Number: \",num)\n",
    "print(\"Factorial: \",factorial(num))\n",
    " ```\n",
    "\n",
    "## Output:\n",
    "```\n",
    "number:  7\n",
    "Factorial:  5040\n",
    "```\n",
    "## [Next Lesson>>](https://replit.com/@codewithharry/31-Day31-Sets)"
   ]
  },
  {
   "cell_type": "code",
   "execution_count": 3,
   "metadata": {},
   "outputs": [
    {
     "name": "stdout",
     "output_type": "stream",
     "text": [
      "120\n"
     ]
    }
   ],
   "source": [
    "# factorial(7) = 7*6*5*4*3*2*1\n",
    "# factorial(6) = 6*5*4*3*2*1\n",
    "# factorial(5) = 5*4*3*2*1\n",
    "# factorial(4) = 4*3*2*1\n",
    "# factorial(0) = 1\n",
    "\n",
    "\n",
    "# factorial(n) = n * factorial(n-1)\n",
    "def factorial(n):\n",
    "  if (n == 0 or n == 1):\n",
    "    return 1\n",
    "  else:\n",
    "    return n * factorial(n - 1)\n",
    "\n",
    "\n",
    "print(factorial(5))\n",
    "# 5 * factorial(4)\n",
    "# 5 * 4 * factorial(3)\n",
    "# 5 * 4 * 3 * factorial(2)\n",
    "# 5 * 4 * 3 * 2 * factorial(1)\n",
    "# 5 * 4 * 3 * 2 * 1\n",
    "\n",
    "# Quick Quiz: Write a program to print the Fibonacci sequence\n",
    "# f(0) = 0\n",
    "# f(1) = 1\n",
    "# f(2) = f(1) + f(0)\n",
    "# f(n) = f(n-1) + f(n-2)\n",
    "\n",
    "# 0 1 1 2 3 5 8...."
   ]
  },
  {
   "cell_type": "code",
   "execution_count": null,
   "metadata": {},
   "outputs": [],
   "source": []
  }
 ],
 "metadata": {
  "kernelspec": {
   "display_name": "base",
   "language": "python",
   "name": "python3"
  },
  "language_info": {
   "codemirror_mode": {
    "name": "ipython",
    "version": 3
   },
   "file_extension": ".py",
   "mimetype": "text/x-python",
   "name": "python",
   "nbconvert_exporter": "python",
   "pygments_lexer": "ipython3",
   "version": "3.11.7"
  }
 },
 "nbformat": 4,
 "nbformat_minor": 2
}
