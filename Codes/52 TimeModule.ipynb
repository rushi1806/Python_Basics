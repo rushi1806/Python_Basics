{
 "cells": [
  {
   "cell_type": "markdown",
   "metadata": {},
   "source": [
    "# The time Module in Python\n",
    "The `time` module in Python provides a set of functions to work with time-related operations, such as timekeeping, formatting, and time conversions. This module is part of the Python Standard Library and is available in all Python installations, making it a convenient and essential tool for a wide range of applications. In this day 84 tutorial, we'll explore the `time` module in Python and see how it can be used in different scenarios.\n",
    "\n",
    "## time.time()\n",
    "The `time.time()` function returns the current time as a floating-point number, representing the number of seconds since the epoch (the point in time when the time module was initialized). The returned value is based on the computer's system clock and is affected by time adjustments made by the operating system, such as daylight saving time. Here's an example:\n",
    "```python\n",
    "import time\n",
    "print(time.time())\n",
    "# Output: 1602299933.233374\n",
    "```\n",
    "As you can see, the function returns the current time as a floating-point number, which can be used for various purposes, such as measuring the duration of an operation or the elapsed time since a certain point in time.\n",
    "\n",
    "## time.sleep()\n",
    "The `time.sleep()` function suspends the execution of the current thread for a specified number of seconds. This function can be used to pause the program for a certain period of time, allowing other parts of the program to run, or to synchronize the execution of multiple threads. Here's an example:\n",
    "```python\n",
    "import time\n",
    "\n",
    "print(\"Start:\", time.time())\n",
    "time.sleep(2)\n",
    "print(\"End:\", time.time())\n",
    "# Output:\n",
    "# Start: 1602299933.233374\n",
    "# End: 1602299935.233376\n",
    "```\n",
    "As you can see, the function `time.sleep()` suspends the execution of the program for 2 seconds, allowing other parts of the program to run during that time.\n",
    "\n",
    "## time.strftime()\n",
    "The `time.strftime()` function formats a time value as a string, based on a specified format. This function is particularly useful for formatting dates and times in a human-readable format, such as for display in a GUI, a log file, or a report. Here's an example:\n",
    "```python\n",
    "import time\n",
    "\n",
    "t = time.localtime()\n",
    "formatted_time = time.strftime(\"%Y-%m-%d %H:%M:%S\", t)\n",
    "\n",
    "print(formatted_time)\n",
    "# Output: 2022-11-08 08:45:33\n",
    "```\n",
    "As you can see, the function `time.strftime()` formats the current time (obtained using `time.localtime()`) as a string, using a specified format. The format string contains codes that represent different parts of the time value, such as the year, the month, the day, the hour, the minute, and the second.\n",
    "\n",
    "## Conclusion\n",
    "The `time` module in Python provides a set of functions to work with time-related operations, such as timekeeping, formatting, and `time` conversions. Whether you are writing a script, a library, or an application, the `time` module is a powerful tool that can help you perform time-related tasks with ease and efficiency. So, if you haven't already, be sure to check out the time module in Python and see how it can help you write better, more efficient code.\n",
    "## [Next Lesson>>](https://replit.com/@codewithharry/85-Day-85-Command-Line-Utility)\n"
   ]
  },
  {
   "cell_type": "code",
   "execution_count": 1,
   "metadata": {},
   "outputs": [
    {
     "name": "stdout",
     "output_type": "stream",
     "text": [
      "2024-07-18 00:57:44\n"
     ]
    }
   ],
   "source": [
    "import time \n",
    "\n",
    "# def usingWhile():\n",
    "#   i = 0\n",
    "#   while i<50000:\n",
    "#     i = i +1\n",
    "#     print(i) \n",
    "\n",
    "# def usingFor():\n",
    "#   for i in range(50000):\n",
    "#     print(i)\n",
    "\n",
    "# init = time.time()\n",
    "# usingFor()\n",
    "# t1 = time.time() - init\n",
    "# init = time.time()\n",
    "# usingWhile()\n",
    "# print(time.time() - init)\n",
    "# print(t1)\n",
    "\n",
    "\n",
    "# print(4)\n",
    "# time.sleep(3)\n",
    "# print(\"This is printed after 3 seconds\")\n",
    " \n",
    "t = time.localtime()\n",
    "formatted_time = time.strftime(\"%Y-%m-%d %H:%M:%S\", t)\n",
    "\n",
    "print(formatted_time) "
   ]
  },
  {
   "cell_type": "code",
   "execution_count": null,
   "metadata": {},
   "outputs": [],
   "source": []
  }
 ],
 "metadata": {
  "kernelspec": {
   "display_name": "base",
   "language": "python",
   "name": "python3"
  },
  "language_info": {
   "codemirror_mode": {
    "name": "ipython",
    "version": 3
   },
   "file_extension": ".py",
   "mimetype": "text/x-python",
   "name": "python",
   "nbconvert_exporter": "python",
   "pygments_lexer": "ipython3",
   "version": "3.11.7"
  }
 },
 "nbformat": 4,
 "nbformat_minor": 2
}
