{
 "cells": [
  {
   "cell_type": "markdown",
   "metadata": {},
   "source": [
    "# Creating Command Line Utilities in Python\n",
    "Command line utilities are programs that can be run from the terminal or command line interface, and they are an essential part of many development workflows. In Python, you can create your own command line utilities using the built-in `argparse` module.\n",
    "\n",
    "## Syntax\n",
    "Here is the basic syntax for creating a command line utility using `argparse` in Python:\n",
    "```python\n",
    "import argparse\n",
    "\n",
    "parser = argparse.ArgumentParser()\n",
    "\n",
    "# Add command line arguments\n",
    "parser.add_argument(\"arg1\", help=\"description of argument 1\")\n",
    "parser.add_argument(\"arg2\", help=\"description of argument 2\")\n",
    "\n",
    "# Parse the arguments\n",
    "args = parser.parse_args()\n",
    "\n",
    "# Use the arguments in your code\n",
    "print(args.arg1)\n",
    "print(args.arg2)\n",
    "```\n",
    "## Examples\n",
    "Here are a few examples to help you get started with creating command line utilities in Python:\n",
    "\n",
    "### Adding optional arguments\n",
    "The following example shows how to add an optional argument to your command line utility:\n",
    "```python\n",
    "import argparse\n",
    "\n",
    "parser = argparse.ArgumentParser()\n",
    "\n",
    "parser.add_argument(\"-o\", \"--optional\", help=\"description of optional argument\", default=\"default_value\")\n",
    "\n",
    "args = parser.parse_args()\n",
    "\n",
    "print(args.optional)\n",
    "```\n",
    "### Adding positional arguments\n",
    "The following example shows how to add a positional argument to your command line utility:\n",
    "```python\n",
    "import argparse\n",
    "\n",
    "parser = argparse.ArgumentParser()\n",
    "\n",
    "parser.add_argument(\"positional\", help=\"description of positional argument\")\n",
    "\n",
    "args = parser.parse_args()\n",
    "\n",
    "print(args.positional)\n",
    "```\n",
    "### Adding arguments with type\n",
    "The following example shows how to add an argument with a specified type:\n",
    "```python\n",
    "import argparse\n",
    "\n",
    "parser = argparse.ArgumentParser()\n",
    "\n",
    "parser.add_argument(\"-n\", type=int, help=\"description of integer argument\")\n",
    "\n",
    "args = parser.parse_args()\n",
    "\n",
    "print(args.n)\n",
    "```\n",
    "## Conclusion\n",
    "Creating command line utilities in Python is a straightforward and flexible process thanks to the `argparse` module. With a few lines of code, you can create powerful and customizable command line tools that can make your development workflow easier and more efficient. Whether you're working on small scripts or large applications, the `argparse` module is a must-have tool for any Python developer.\n",
    "## [Next Lesson>>](https://replit.com/@codewithharry/86-Day-86-Walrus-Operator)"
   ]
  },
  {
   "cell_type": "code",
   "execution_count": 1,
   "metadata": {},
   "outputs": [
    {
     "name": "stderr",
     "output_type": "stream",
     "text": [
      "usage: ipykernel_launcher.py [-h] [-o OUTPUT] url\n",
      "ipykernel_launcher.py: error: the following arguments are required: url\n"
     ]
    },
    {
     "ename": "SystemExit",
     "evalue": "2",
     "output_type": "error",
     "traceback": [
      "An exception has occurred, use %tb to see the full traceback.\n",
      "\u001b[1;31mSystemExit\u001b[0m\u001b[1;31m:\u001b[0m 2\n"
     ]
    },
    {
     "name": "stderr",
     "output_type": "stream",
     "text": [
      "c:\\Users\\Dell\\anaconda3\\Lib\\site-packages\\IPython\\core\\interactiveshell.py:3561: UserWarning: To exit: use 'exit', 'quit', or Ctrl-D.\n",
      "  warn(\"To exit: use 'exit', 'quit', or Ctrl-D.\", stacklevel=1)\n"
     ]
    }
   ],
   "source": [
    "import argparse\n",
    "import requests\n",
    "\n",
    "def download_file(url, local_filename): \n",
    "  if local_filename is None:\n",
    "    local_filename = url.split('/')[-1]\n",
    "    # NOTE the stream=True parameter below\n",
    "  with requests.get(url, stream=True) as r:\n",
    "      r.raise_for_status()\n",
    "      with open(local_filename, 'wb') as f:\n",
    "          for chunk in r.iter_content(chunk_size=8192): \n",
    "              # If you have chunk encoded response uncomment if\n",
    "              # and set chunk_size parameter to None.\n",
    "              #if chunk: \n",
    "              f.write(chunk)\n",
    "  return local_filename\n",
    "  \n",
    "parser = argparse.ArgumentParser()\n",
    "\n",
    "# Add command line arguments\n",
    "parser.add_argument(\"url\", help=\"Url of the file to download\")\n",
    "# parser.add_argument(\"output\", help=\"by which name do you want to save your file\")\n",
    "parser.add_argument(\"-o\", \"--output\", type=str, help=\"Name of the file\", default=None)\n",
    "\n",
    "# Parse the arguments\n",
    "args = parser.parse_args()\n",
    "\n",
    "# Use the arguments in your code\n",
    "print(args.url)\n",
    "print(args.output, type(args.output))\n",
    "download_file(args.url, args.output)"
   ]
  },
  {
   "cell_type": "code",
   "execution_count": null,
   "metadata": {},
   "outputs": [],
   "source": []
  }
 ],
 "metadata": {
  "kernelspec": {
   "display_name": "base",
   "language": "python",
   "name": "python3"
  },
  "language_info": {
   "codemirror_mode": {
    "name": "ipython",
    "version": 3
   },
   "file_extension": ".py",
   "mimetype": "text/x-python",
   "name": "python",
   "nbconvert_exporter": "python",
   "pygments_lexer": "ipython3",
   "version": "3.11.7"
  }
 },
 "nbformat": 4,
 "nbformat_minor": 2
}
