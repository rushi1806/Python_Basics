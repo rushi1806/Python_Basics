{
 "cells": [
  {
   "cell_type": "code",
   "execution_count": null,
   "metadata": {},
   "outputs": [],
   "source": []
  },
  {
   "cell_type": "markdown",
   "metadata": {},
   "source": [
    "# Typecasting in python\n",
    "The conversion of one data type into the other data type is known as type casting in python or type conversion in python.\n",
    "\n",
    "Python supports a wide variety of functions or methods like: int(), float(), str(), ord(), hex(), oct(), tuple(), set(), list(), dict(), etc. for the type casting in python.\n",
    "\n",
    "\n",
    "## Two Types of Typecasting:\n",
    "\n",
    "1. Explicit Conversion (Explicit type casting in python)\n",
    "2. Implicit Conversion (Implicit type casting in python).\n",
    "### Explicit typecasting:\n",
    "The conversion of one data type into another data type, done via developer or programmer's intervention or manually as per the requirement, is known as explicit type conversion. \n",
    "\n",
    "It can be achieved with the help of Python’s built-in type conversion functions such as int(), float(), hex(), oct(), str(), etc .\n",
    "### Example of explicit typecasting:\n",
    "```python\n",
    "string = \"15\"\n",
    "number = 7\n",
    "string_number = int(string) #throws an error if the string is not a valid integer\n",
    "sum= number + string_number\n",
    "print(\"The Sum of both the numbers is: \", sum)\n",
    "```\n",
    "### Output:\n",
    "```\n",
    "The Sum of both the numbers is 22\n",
    "```\n",
    "### Implicit type casting:\n",
    "Data types in Python do not have the same level i.e. ordering of data types is not the same in Python. Some of the data types have higher-order, and some have lower order. While performing any operations on variables with different data types in Python, one of the variable's data types will be changed to the higher data type. According to the level, one data type is converted into other by the Python interpreter itself (automatically). This is called, implicit typecasting in python.\n",
    "\n",
    "Python converts a smaller data type to a higher data type to prevent data loss.\n",
    "### Example of implicit type casting:\n",
    "```python\n",
    "# Python automatically converts\n",
    "# a to int\n",
    "a = 7\n",
    "print(type(a))\n",
    " \n",
    "# Python automatically converts b to float\n",
    "b = 3.0\n",
    "print(type(b))\n",
    " \n",
    "# Python automatically converts c to float as it is a float addition\n",
    "c = a + b\n",
    "print(c)\n",
    "print(type(c))\n",
    "```\n",
    "### Ouput:\n",
    "```\n",
    "<class 'int'>\n",
    "<class 'float'>\n",
    "10.0\n",
    "<class 'float'>\n",
    "```\n",
    "\n",
    "## [Next Lesson>>](https://replit.com/@codewithharry/10-Day10-Taking-User-Input#main.py`)"
   ]
  },
  {
   "cell_type": "code",
   "execution_count": null,
   "metadata": {},
   "outputs": [],
   "source": [
    "a = \"1\"\n",
    "# a = 1\n",
    "b = \"2\"\n",
    "# b = 2\n",
    "print(int(a) + int(b))\n",
    "\n",
    "# Implicit TypeCasting\n",
    "c = 1.9\n",
    "d = 8\n",
    "\n",
    "print(c + d)"
   ]
  },
  {
   "cell_type": "code",
   "execution_count": null,
   "metadata": {},
   "outputs": [],
   "source": []
  }
 ],
 "metadata": {
  "language_info": {
   "name": "python"
  }
 },
 "nbformat": 4,
 "nbformat_minor": 2
}
