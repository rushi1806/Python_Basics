{
 "cells": [
  {
   "cell_type": "markdown",
   "metadata": {},
   "source": [
    "# Enumerate function in python\n",
    "The enumerate function is a built-in function in Python that allows you to loop over a sequence (such as a list, tuple, or string) and get the index and value of each element in the sequence at the same time. Here's a basic example of how it works:\n",
    "```python\n",
    "# Loop over a list and print the index and value of each element\n",
    "fruits = ['apple', 'banana', 'mango']\n",
    "for index, fruit in enumerate(fruits):\n",
    "    print(index, fruit)\n",
    "\n",
    "```\n",
    "\n",
    "The output of this code will be:\n",
    "\n",
    "```python\n",
    "0 apple\n",
    "1 banana\n",
    "2 mango\n",
    "\n",
    "```\n",
    "As you can see, the enumerate function returns a tuple containing the index and value of each element in the sequence. You can use the for loop to unpack these tuples and assign them to variables, as shown in the example above.\n",
    "# Changing the start index\n",
    "By default, the enumerate function starts the index at 0, but you can specify a different starting index by passing it as an argument to the enumerate function:\n",
    "\n",
    "\n",
    "```python\n",
    "# Loop over a list and print the index (starting at 1) and value of each element\n",
    "fruits = ['apple', 'banana', 'mango']\n",
    "for index, fruit in enumerate(fruits, start=1):\n",
    "    print(index, fruit)\n",
    "\n",
    "```\n",
    "\n",
    "This will output:\n",
    "```python\n",
    "1 apple\n",
    "2 banana\n",
    "3 mango\n",
    "\n",
    "```\n",
    "\n",
    "The enumerate function is often used when you need to loop over a sequence and perform some action with both the index and value of each element. For example, you might use it to loop over a list of strings and print the index and value of each string in a formatted way:\n",
    "\n",
    "```python\n",
    "fruits = ['apple', 'banana', 'mango']\n",
    "for index, fruit in enumerate(fruits):\n",
    "    print(f'{index+1}: {fruit}')\n",
    "\n",
    "```\n",
    "This will output:\n",
    "```python\n",
    "1: apple\n",
    "2: banana\n",
    "3: mango\n",
    "\n",
    "```\n",
    "\n",
    "In addition to lists, you can use the enumerate function with any other sequence type in Python, such as tuples and strings. Here's an example with a tuple:\n",
    "\n",
    "```python\n",
    "# Loop over a tuple and print the index and value of each element\n",
    "colors = ('red', 'green', 'blue')\n",
    "for index, color in enumerate(colors):\n",
    "    print(index, color)\n",
    "\n",
    "```\n",
    "And here's an example with a string:\n",
    "```python\n",
    "# Loop over a string and print the index and value of each character\n",
    "s = 'hello'\n",
    "for index, c in enumerate(s):\n",
    "    print(index, c)\n",
    "\n",
    "```\n",
    "## [Next Lesson>>](https://replit.com/@codewithharry/43-Day43-Virtual-Environment)\n"
   ]
  },
  {
   "cell_type": "code",
   "execution_count": 2,
   "metadata": {},
   "outputs": [
    {
     "name": "stdout",
     "output_type": "stream",
     "text": [
      "12\n",
      "56\n",
      "32\n",
      "Harry, awesome!\n",
      "98\n",
      "12\n",
      "45\n",
      "1\n",
      "4\n"
     ]
    }
   ],
   "source": [
    "marks = [12, 56, 32, 98, 12,  45, 1, 4]\n",
    "\n",
    "# index = 0\n",
    "# for mark in marks:\n",
    "#   print(mark)\n",
    "#   if(index == 3):\n",
    "#     print(\"Harry, awesome!\")\n",
    "#   index +=1\n",
    "\n",
    "for index, mark in enumerate(marks, start=1):\n",
    "  print(mark)\n",
    "  if(index == 3):\n",
    "    print(\"Harry, awesome!\")"
   ]
  },
  {
   "cell_type": "code",
   "execution_count": null,
   "metadata": {},
   "outputs": [],
   "source": []
  }
 ],
 "metadata": {
  "kernelspec": {
   "display_name": "base",
   "language": "python",
   "name": "python3"
  },
  "language_info": {
   "codemirror_mode": {
    "name": "ipython",
    "version": 3
   },
   "file_extension": ".py",
   "mimetype": "text/x-python",
   "name": "python",
   "nbconvert_exporter": "python",
   "pygments_lexer": "ipython3",
   "version": "3.11.7"
  }
 },
 "nbformat": 4,
 "nbformat_minor": 2
}
