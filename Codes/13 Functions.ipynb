{
 "cells": [
  {
   "cell_type": "markdown",
   "metadata": {},
   "source": [
    "# Python Functions\n",
    "A function is a block of code that performs a specific task whenever it is called. In bigger programs, where we have large amounts of code, it is advisable to create or use existing functions that make the program flow organized and neat.\n",
    "\n",
    " \n",
    "\n",
    "There are two types of functions:\n",
    "\n",
    "1. Built-in functions\n",
    "2. User-defined functions\n",
    " \n",
    "\n",
    " ## Built-in functions:\n",
    "These functions are defined and pre-coded in python. Some examples of built-in functions are as follows:\n",
    "\n",
    "min(), max(), len(), sum(), type(), range(), dict(), list(), tuple(), set(), print(), etc.\n",
    "\n",
    " \n",
    "\n",
    "## User-defined functions:\n",
    "We can create functions to perform specific tasks as per our needs. Such functions are called user-defined functions.\n",
    "\n",
    "### Syntax:\n",
    "```python\n",
    "def function_name(parameters):\n",
    "  pass\n",
    "  # Code and Statements\n",
    "```\n",
    " \n",
    "- Create a function using the def keyword, followed by a function name, followed by a paranthesis (()) and a colon(:).\n",
    " - Any parameters and arguments should be placed within the parentheses.\n",
    " - Rules to naming function are similar to that of naming variables.\n",
    " - Any statements and other code within the function should be indented.\n",
    "### Calling a function:\n",
    "We call a function by giving the function name, followed by parameters (if any) in the parenthesis.\n",
    "```\n",
    "## [Next Lesson>>](https://replit.com/@codewithharry/21-Day-21-Function-Arguments)"
   ]
  },
  {
   "cell_type": "code",
   "execution_count": 1,
   "metadata": {},
   "outputs": [
    {
     "name": "stdout",
     "output_type": "stream",
     "text": [
      "Hello, Sam Wilson\n"
     ]
    }
   ],
   "source": [
    "# Example\n",
    "def name(fname,lname):\n",
    "    print(\"Hello,\", fname, lname)\n",
    "\n",
    "name('Sam','Wilson')"
   ]
  },
  {
   "cell_type": "markdown",
   "metadata": {},
   "source": [
    "### In-built functions"
   ]
  },
  {
   "cell_type": "code",
   "execution_count": 2,
   "metadata": {},
   "outputs": [
    {
     "name": "stdout",
     "output_type": "stream",
     "text": [
      "Value\n"
     ]
    }
   ],
   "source": [
    "print('Value')"
   ]
  },
  {
   "cell_type": "code",
   "execution_count": 4,
   "metadata": {},
   "outputs": [
    {
     "data": {
      "text/plain": [
       "'2'"
      ]
     },
     "execution_count": 4,
     "metadata": {},
     "output_type": "execute_result"
    }
   ],
   "source": [
    "input('a value')"
   ]
  },
  {
   "cell_type": "code",
   "execution_count": 5,
   "metadata": {},
   "outputs": [
    {
     "name": "stdout",
     "output_type": "stream",
     "text": [
      "3\n",
      "None\n"
     ]
    }
   ],
   "source": [
    "print(print(3))"
   ]
  },
  {
   "cell_type": "markdown",
   "metadata": {},
   "source": [
    "### Function Method"
   ]
  },
  {
   "cell_type": "code",
   "execution_count": 6,
   "metadata": {},
   "outputs": [
    {
     "name": "stdout",
     "output_type": "stream",
     "text": [
      "HELLO\n"
     ]
    }
   ],
   "source": [
    "print('Hello'.upper())"
   ]
  },
  {
   "cell_type": "code",
   "execution_count": 7,
   "metadata": {},
   "outputs": [
    {
     "name": "stdout",
     "output_type": "stream",
     "text": [
      "hello\n"
     ]
    }
   ],
   "source": [
    "print('Hello'.lower())"
   ]
  },
  {
   "cell_type": "code",
   "execution_count": 11,
   "metadata": {},
   "outputs": [
    {
     "ename": "TypeError",
     "evalue": "replace() argument 2 must be str, not int",
     "output_type": "error",
     "traceback": [
      "\u001b[1;31m---------------------------------------------------------------------------\u001b[0m",
      "\u001b[1;31mTypeError\u001b[0m                                 Traceback (most recent call last)",
      "Cell \u001b[1;32mIn[11], line 1\u001b[0m\n\u001b[1;32m----> 1\u001b[0m \u001b[38;5;28mprint\u001b[39m(\u001b[38;5;124;43m'\u001b[39;49m\u001b[38;5;124;43mHello\u001b[39;49m\u001b[38;5;124;43m'\u001b[39;49m\u001b[38;5;241;43m.\u001b[39;49m\u001b[43mreplace\u001b[49m\u001b[43m(\u001b[49m\u001b[38;5;124;43m'\u001b[39;49m\u001b[38;5;124;43mo\u001b[39;49m\u001b[38;5;124;43m'\u001b[39;49m\u001b[43m,\u001b[49m\u001b[38;5;241;43m3\u001b[39;49m\u001b[43m)\u001b[49m)\n",
      "\u001b[1;31mTypeError\u001b[0m: replace() argument 2 must be str, not int"
     ]
    }
   ],
   "source": [
    "print('Hello'.replace('o',3))"
   ]
  },
  {
   "cell_type": "code",
   "execution_count": 12,
   "metadata": {},
   "outputs": [
    {
     "name": "stdout",
     "output_type": "stream",
     "text": [
      "Hell2\n"
     ]
    }
   ],
   "source": [
    "print('Hello'.replace('o','2'))"
   ]
  },
  {
   "cell_type": "code",
   "execution_count": 13,
   "metadata": {},
   "outputs": [
    {
     "ename": "SyntaxError",
     "evalue": "invalid decimal literal (3366682748.py, line 1)",
     "output_type": "error",
     "traceback": [
      "\u001b[1;36m  Cell \u001b[1;32mIn[13], line 1\u001b[1;36m\u001b[0m\n\u001b[1;33m    print(123.upper())\u001b[0m\n\u001b[1;37m             ^\u001b[0m\n\u001b[1;31mSyntaxError\u001b[0m\u001b[1;31m:\u001b[0m invalid decimal literal\n"
     ]
    }
   ],
   "source": [
    "print(123.upper())"
   ]
  },
  {
   "cell_type": "code",
   "execution_count": 14,
   "metadata": {},
   "outputs": [
    {
     "name": "stdout",
     "output_type": "stream",
     "text": [
      "1.5\n"
     ]
    }
   ],
   "source": [
    "print(abs(-1.5))"
   ]
  },
  {
   "cell_type": "code",
   "execution_count": 15,
   "metadata": {},
   "outputs": [
    {
     "name": "stdout",
     "output_type": "stream",
     "text": [
      "10\n"
     ]
    }
   ],
   "source": [
    "print(max(10,5))"
   ]
  },
  {
   "cell_type": "code",
   "execution_count": 16,
   "metadata": {},
   "outputs": [
    {
     "name": "stdout",
     "output_type": "stream",
     "text": [
      "5\n"
     ]
    }
   ],
   "source": [
    "print(min(10,5))"
   ]
  },
  {
   "cell_type": "code",
   "execution_count": 17,
   "metadata": {},
   "outputs": [
    {
     "name": "stdout",
     "output_type": "stream",
     "text": [
      "5\n"
     ]
    }
   ],
   "source": [
    "print(len('Hello'))"
   ]
  },
  {
   "cell_type": "code",
   "execution_count": 19,
   "metadata": {},
   "outputs": [
    {
     "ename": "TypeError",
     "evalue": "object of type 'int' has no len()",
     "output_type": "error",
     "traceback": [
      "\u001b[1;31m---------------------------------------------------------------------------\u001b[0m",
      "\u001b[1;31mTypeError\u001b[0m                                 Traceback (most recent call last)",
      "Cell \u001b[1;32mIn[19], line 1\u001b[0m\n\u001b[1;32m----> 1\u001b[0m \u001b[38;5;28mprint\u001b[39m(\u001b[38;5;28;43mlen\u001b[39;49m\u001b[43m(\u001b[49m\u001b[38;5;241;43m123\u001b[39;49m\u001b[43m)\u001b[49m)\n",
      "\u001b[1;31mTypeError\u001b[0m: object of type 'int' has no len()"
     ]
    }
   ],
   "source": [
    "print(len(123))"
   ]
  },
  {
   "cell_type": "markdown",
   "metadata": {},
   "source": [
    "#### Create Function"
   ]
  },
  {
   "cell_type": "code",
   "execution_count": 23,
   "metadata": {},
   "outputs": [
    {
     "name": "stdout",
     "output_type": "stream",
     "text": [
      "6\n",
      "25\n",
      "7.810249675906654\n",
      "7.810249675906654\n"
     ]
    }
   ],
   "source": [
    "# Fun for Pythagoras theorem\n",
    "side_a = int(input('Height of Triangle: '))\n",
    "side_b = int(input('Width of triangle: '))\n",
    "print(side_b)\n",
    "type(side_b)\n",
    "print(side_a**2 )\n",
    "\n",
    "Hypotenouse1 = (side_a**2 + pow(side_b,2))**(1/2)\n",
    "print(Hypotenouse1)\n",
    "\n",
    "Hypotenouse1 = (side_a**2 + pow(side_b,2))**0.5\n",
    "print(Hypotenouse1) "
   ]
  },
  {
   "cell_type": "code",
   "execution_count": 25,
   "metadata": {},
   "outputs": [
    {
     "name": "stdout",
     "output_type": "stream",
     "text": [
      "8.48528137423857\n",
      "Hypotenouse is :  8.48528137423857\n",
      "Hypotenouse is :  8\n",
      "Hypotenouse is :  8.5\n"
     ]
    }
   ],
   "source": [
    "import math\n",
    "Hypotenouse1 = math.sqrt(side_b**2 + pow(side_b,2))\n",
    "print(Hypotenouse1)\n",
    "\n",
    "print(\"Hypotenouse is : \", Hypotenouse1)\n",
    "print(\"Hypotenouse is : \", round(Hypotenouse1))\n",
    "print(\"Hypotenouse is : \", round(Hypotenouse1,1))\n"
   ]
  },
  {
   "cell_type": "code",
   "execution_count": 26,
   "metadata": {},
   "outputs": [],
   "source": [
    "def calculateGmen(a,b):\n",
    "    mean= (a*b)/(a+b)\n",
    "    print(mean)"
   ]
  },
  {
   "cell_type": "code",
   "execution_count": 27,
   "metadata": {},
   "outputs": [],
   "source": [
    "def isGreater(a,b):\n",
    "    if(a>b):\n",
    "        print(\"First number is greater\")\n",
    "    else:\n",
    "        print(\"Second number is greater or equal\")\n",
    "            "
   ]
  },
  {
   "cell_type": "code",
   "execution_count": 28,
   "metadata": {},
   "outputs": [],
   "source": [
    "def isLesser(a,b):\n",
    "    pass"
   ]
  },
  {
   "cell_type": "code",
   "execution_count": 30,
   "metadata": {},
   "outputs": [
    {
     "name": "stdout",
     "output_type": "stream",
     "text": [
      "First number is greater\n",
      "4.235294117647059\n"
     ]
    }
   ],
   "source": [
    "a = 9\n",
    "b = 8\n",
    "isGreater(a,b)\n",
    "calculateGmen(a,b)"
   ]
  },
  {
   "cell_type": "code",
   "execution_count": 31,
   "metadata": {},
   "outputs": [
    {
     "name": "stdout",
     "output_type": "stream",
     "text": [
      "Second number is greater or equal\n",
      "7.219512195121951\n"
     ]
    }
   ],
   "source": [
    "c = 8\n",
    "d = 74\n",
    "isGreater(c,d)\n",
    "calculateGmen(c,d)"
   ]
  },
  {
   "cell_type": "markdown",
   "metadata": {},
   "source": [
    "## Function Arguments and Return Statements\n",
    "\n",
    "There are four types of arguments that we can provide in a function:\n",
    " - Default Arguments\n",
    " - Keyword Arguments\n",
    " - Variable length Arguments\n",
    " - Required Arguments\n",
    "\n",
    "\n",
    "\n"
   ]
  },
  {
   "cell_type": "markdown",
   "metadata": {},
   "source": [
    "#### Default Arguments:\n",
    "We can provide a default value while creating function. This way the function assumes a default even if a value is not provided in the function call for that argument.\n"
   ]
  },
  {
   "cell_type": "code",
   "execution_count": 33,
   "metadata": {},
   "outputs": [
    {
     "name": "stdout",
     "output_type": "stream",
     "text": [
      "Hello, Amy Jhon Whatson\n"
     ]
    }
   ],
   "source": [
    "# Example:\n",
    "def name(fname, mname= \"Jhon\", lname=\"Whatson\"):\n",
    "    print(\"Hello,\", fname, mname, lname)\n",
    "\n",
    "name(\"Amy\")"
   ]
  },
  {
   "cell_type": "markdown",
   "metadata": {},
   "source": [
    "#### Keyword Arguments:\n",
    "We can provide arguments with key = value, this way the interpreter recognizes the arguments by the parameter name. Hence, the order in which argument are passed does not matter."
   ]
  },
  {
   "cell_type": "code",
   "execution_count": 34,
   "metadata": {},
   "outputs": [
    {
     "name": "stdout",
     "output_type": "stream",
     "text": [
      "Hello Jade Peter Wesker\n"
     ]
    }
   ],
   "source": [
    "# Example:\n",
    "def name(fname,mname,lname):\n",
    "    print(\"Hello\",fname,mname,lname)\n",
    "\n",
    "name(mname='Peter', lname='Wesker', fname='Jade')    "
   ]
  },
  {
   "cell_type": "markdown",
   "metadata": {},
   "source": [
    "#### Required Arguments:\n",
    "In case we don't pass the arguments with a key = value syntax, then it is necessary to pass the argument in the correct positional order and the number of arguments passed should match with actual function defination."
   ]
  },
  {
   "cell_type": "code",
   "execution_count": 37,
   "metadata": {},
   "outputs": [
    {
     "ename": "TypeError",
     "evalue": "name() missing 1 required positional argument: 'lname'",
     "output_type": "error",
     "traceback": [
      "\u001b[1;31m---------------------------------------------------------------------------\u001b[0m",
      "\u001b[1;31mTypeError\u001b[0m                                 Traceback (most recent call last)",
      "Cell \u001b[1;32mIn[37], line 5\u001b[0m\n\u001b[0;32m      2\u001b[0m \u001b[38;5;28;01mdef\u001b[39;00m \u001b[38;5;21mname\u001b[39m(fname,mname,lname):\n\u001b[0;32m      3\u001b[0m     \u001b[38;5;28mprint\u001b[39m(\u001b[38;5;124m\"\u001b[39m\u001b[38;5;124mHello,\u001b[39m\u001b[38;5;124m\"\u001b[39m, fname, mname, lname)\n\u001b[1;32m----> 5\u001b[0m \u001b[43mname\u001b[49m\u001b[43m(\u001b[49m\u001b[38;5;124;43m'\u001b[39;49m\u001b[38;5;124;43mPeter\u001b[39;49m\u001b[38;5;124;43m'\u001b[39;49m\u001b[43m,\u001b[49m\u001b[43m \u001b[49m\u001b[38;5;124;43m'\u001b[39;49m\u001b[38;5;124;43mQuill\u001b[39;49m\u001b[38;5;124;43m'\u001b[39;49m\u001b[43m)\u001b[49m\n",
      "\u001b[1;31mTypeError\u001b[0m: name() missing 1 required positional argument: 'lname'"
     ]
    }
   ],
   "source": [
    "# Example 1: When number of argument passed does not match to the actual function defination.\n",
    "def name(fname,mname,lname):\n",
    "    print(\"Hello,\", fname, mname, lname)\n",
    "\n",
    "name('Peter', 'Quill')"
   ]
  },
  {
   "cell_type": "code",
   "execution_count": 38,
   "metadata": {},
   "outputs": [
    {
     "name": "stdout",
     "output_type": "stream",
     "text": [
      "Hello, Peter Ego Quill\n"
     ]
    }
   ],
   "source": [
    "# Example 2: When number of arguments passsed matches to the actual function defination.\n",
    "def name(fname, mname,lname):\n",
    "    print(\"Hello,\", fname, mname, lname)\n",
    "\n",
    "name(\"Peter\", \"Ego\", \"Quill\")    "
   ]
  },
  {
   "cell_type": "markdown",
   "metadata": {},
   "source": [
    "#### Variable-length arguments:\n",
    "Sometimes we may neede to pass more arguments than those defined in the actual functin. This can be done using variable - length arguments.\n",
    "\n",
    "There are ways to achieve this:\n",
    "\n",
    "#### Arbitrary Arguments:\n",
    "While creating a function, pass a * before the parameter name while defining the function. The function accesses the arguments by preprocessing them in the form of tuple.\n",
    "\n",
    "\n",
    "\n"
   ]
  },
  {
   "cell_type": "code",
   "execution_count": 39,
   "metadata": {},
   "outputs": [
    {
     "name": "stdout",
     "output_type": "stream",
     "text": [
      "Hello, James Buchana Barnes\n"
     ]
    }
   ],
   "source": [
    "# Example\n",
    "def name(*name):\n",
    "    print(\"Hello,\", name[0], name[1], name[2])\n",
    "name(\"James\",\"Buchana\",\"Barnes\")"
   ]
  },
  {
   "cell_type": "markdown",
   "metadata": {},
   "source": [
    "#### Keyword Arbitary Arguments:\n",
    "While creating a function, pass a * before the parameter name while defining trhe function. This function accesses the arguments by processing them in the form of dictionary."
   ]
  },
  {
   "cell_type": "code",
   "execution_count": 40,
   "metadata": {},
   "outputs": [
    {
     "name": "stdout",
     "output_type": "stream",
     "text": [
      "Hello, James Buchanan Barnes\n"
     ]
    }
   ],
   "source": [
    "## Example:\n",
    "def name(**name):\n",
    "    print(\"Hello,\", name[\"fname\"], name[\"mname\"], name[\"lname\"])\n",
    "name(mname = \"Buchanan\", lname = 'Barnes', fname= \"James\")\n",
    "    "
   ]
  },
  {
   "cell_type": "markdown",
   "metadata": {},
   "source": [
    "#### Return Statements:\n",
    "The return statements is used to return the value of the expression back to the calling function."
   ]
  },
  {
   "cell_type": "code",
   "execution_count": 42,
   "metadata": {},
   "outputs": [
    {
     "name": "stdout",
     "output_type": "stream",
     "text": [
      "Hello, James Buchanan Barnes\n"
     ]
    }
   ],
   "source": [
    "# Example:\n",
    "def name(fname, mname, lname):\n",
    "    return \"Hello, \" + fname + \" \" + mname + \" \" + lname\n",
    "\n",
    "print(name(\"James\", \"Buchanan\", \"Barnes\"))"
   ]
  },
  {
   "cell_type": "code",
   "execution_count": 43,
   "metadata": {},
   "outputs": [],
   "source": [
    "def average(a,b,c=1):\n",
    "    print(\"The average is\", (a+b+c)/2)"
   ]
  },
  {
   "cell_type": "code",
   "execution_count": 45,
   "metadata": {},
   "outputs": [
    {
     "name": "stdout",
     "output_type": "stream",
     "text": [
      "4.75\n"
     ]
    }
   ],
   "source": [
    "def average(*numbers):\n",
    "    sum = 0\n",
    "    for i in numbers:\n",
    "        sum = sum+i\n",
    "    return sum/ len(numbers)    \n",
    "\n",
    "c = average(5,6,7,1)\n",
    "print(c)"
   ]
  },
  {
   "cell_type": "code",
   "execution_count": null,
   "metadata": {},
   "outputs": [],
   "source": [
    "def name(**name):\n",
    "    print(\"Hello,\", name[\"fname\"], name[\"mname\"], lanmae[])"
   ]
  },
  {
   "cell_type": "code",
   "execution_count": 19,
   "metadata": {},
   "outputs": [
    {
     "name": "stdout",
     "output_type": "stream",
     "text": [
      "4.75\n"
     ]
    }
   ],
   "source": [
    "\n",
    "\n",
    "\n",
    "# def name(**name):\n",
    "#   # print(type(name))\n",
    "#   print(\"Hello,\", name[\"fname\"], name[\"mname\"], name[\"lname\"])\n",
    "\n",
    "\n",
    "# name(mname=\"Buchanan\", lname=\"Barnes\", fname=\"James\")\n"
   ]
  },
  {
   "cell_type": "markdown",
   "metadata": {},
   "source": [
    "## seek() and tell() functions\n",
    "\n",
    "In Python, the seek() and tell() functions are used to work with file objects and their positions within their positions within file. These functions are part of the built-in io module, which provides a consistent interface for reading and writing to various file-like objects, such as files, pipes and in-memory buffers.\n",
    "\n",
    "## seek() function\n",
    "The seek() function allows you to move the currenct position within a file to specific point. The position is specified in bytes, and you can move either forword or backwork from the current position. For Example:\n",
    "\n"
   ]
  },
  {
   "cell_type": "code",
   "execution_count": null,
   "metadata": {},
   "outputs": [],
   "source": [
    "with open('file_txt', 'r') as f:\n",
    "    # Move to the 10th byte in the file\n",
    "    f.seek(10)\n",
    "\n",
    "    # Read the next 5 bytes\n",
    "    data = f.read(5)\n"
   ]
  },
  {
   "cell_type": "markdown",
   "metadata": {},
   "source": [
    "### tell() function\n",
    "The tell function return the current position within the file, in bytes. This can be useful for keeping track of your location within the file or for seeking  to a specific position relativbe to the current position. For example:"
   ]
  },
  {
   "cell_type": "code",
   "execution_count": null,
   "metadata": {},
   "outputs": [],
   "source": [
    "with open('file.txt', 'r') as f:\n",
    "    data= f.read(10)\n",
    "# Save the current position\n",
    "current_position = f.tell()\n",
    "f.seek(current_position)\n"
   ]
  },
  {
   "cell_type": "markdown",
   "metadata": {},
   "source": [
    "### truncated() function\n",
    "\n",
    "When you open a file in Python using the open function, you can specify the mode in which you want to open the file. If you specify the mode as 'w' or 'a',\n",
    "the file is opened in write mode and you write the file. Howerver, if you want to truncate the file to specific size, you can use the truncate function."
   ]
  },
  {
   "cell_type": "markdown",
   "metadata": {},
   "source": [
    "Here is an example of how to use the truncate function:"
   ]
  },
  {
   "cell_type": "code",
   "execution_count": null,
   "metadata": {},
   "outputs": [],
   "source": [
    "with open('sample.txt','w') as f:\n",
    "    f.write('Hello World') as f:\n",
    "    f.truncate(5)\n",
    "\n",
    "with open('sample.txt','r') as f:\n",
    "    print(f.read())    "
   ]
  },
  {
   "cell_type": "markdown",
   "metadata": {},
   "source": [
    "\n",
    "```\n",
    "## [Next Lesson>>](https://replit.com/@codewithharry/52-Day52-Lambda-Functions)\n"
   ]
  },
  {
   "cell_type": "code",
   "execution_count": 20,
   "metadata": {},
   "outputs": [
    {
     "name": "stdout",
     "output_type": "stream",
     "text": [
      "Hel\n"
     ]
    }
   ],
   "source": [
    "\n",
    "\n",
    "with open('sample.txt', 'w') as f:\n",
    "  f.write('Hello World3!')\n",
    "  f.truncate(3)\n",
    "\n",
    "with open('sample.txt', 'r') as f:\n",
    "  print(f.read())"
   ]
  },
  {
   "cell_type": "markdown",
   "metadata": {},
   "source": [
    "# Function Caching in Python \n",
    "Function caching is a technique for improving the performance of a program by storing the results of a function call so that you can reuse the results instead of recomputing them every time the function is called. This can be particularly useful when a function is computationally expensive, or when the inputs to the function are unlikely to change frequently.\n",
    "\n",
    "In Python, function caching can be achieved using the functools.lru_cache decorator. The functools.lru_cache decorator is used to cache the results of a function so that you can reuse the results instead of recomputing them every time the function is called. Here's an example:\n",
    "\n",
    "```python\n",
    "import functools\n",
    "\n",
    "@functools.lru_cache(maxsize=None)\n",
    "def fib(n):\n",
    "    if n < 2:\n",
    "        return n\n",
    "    return fib(n-1) + fib(n-2)\n",
    "\n",
    "print(fib(20))\n",
    "# Output: 6765\n",
    "```\n",
    "As you can see, the `functools.lru_cache` decorator is used to cache the results of the `fib` function. The `maxsize` parameter is used to specify the maximum number of results to cache. If `maxsize` is set to `None`, the cache will have an unlimited size.\n",
    "\n",
    "## Benefits of Function Caching\n",
    "Function caching can have a significant impact on the performance of a program, particularly for computationally expensive functions. By caching the results of a function, you can avoid having to recompute the results every time the function is called, which can save a significant amount of time and computational resources.\n",
    "\n",
    "Another benefit of function caching is that it can simplify the code of a program by removing the need to manually cache the results of a function. With the `functools.lru_cache` decorator, the caching is handled automatically, so you can focus on writing the core logic of your program.\n",
    "\n",
    "## Conclusion\n",
    "Function caching is a technique for improving the performance of a program by storing the results of a function so that you can reuse the results instead of recomputing them every time the function is called. In Python 3, function caching can be achieved using the `functools.lru_cache` decorator, which provides an easy and efficient way to cache the results of a function. Whether you're writing a computationally expensive program, or just want to simplify your code, function caching is a great technique to have in your toolbox.\n",
    "## [Next Lesson>>](https://replit.com/@codewithharry/93-Day-93-Exercise-10-Solution)"
   ]
  },
  {
   "cell_type": "code",
   "execution_count": 21,
   "metadata": {},
   "outputs": [
    {
     "name": "stdout",
     "output_type": "stream",
     "text": [
      "100\n",
      "done for 20\n",
      "10\n",
      "done for 2\n",
      "30\n",
      "done for 6\n",
      "100\n",
      "done for 20\n",
      "10\n",
      "done for 2\n",
      "30\n",
      "done for 6\n",
      "305\n",
      "done for 61\n"
     ]
    }
   ],
   "source": [
    "from functools import lru_cache\n",
    "import time\n",
    "\n",
    "@lru_cache(maxsize=None)\n",
    "def fx(n):\n",
    "  time.sleep(5)\n",
    "  return n*5\n",
    "    \n",
    "\n",
    "print(fx(20))\n",
    "print(\"done for 20\")\n",
    "print(fx(2))\n",
    "print(\"done for 2\")\n",
    "print(fx(6))\n",
    "print(\"done for 6\")\n",
    "\n",
    "print(fx(20))\n",
    "print(\"done for 20\")\n",
    "print(fx(2))\n",
    "print(\"done for 2\")\n",
    "print(fx(6))\n",
    "print(\"done for 6\")\n",
    "print(fx(61))\n",
    "print(\"done for 61\")\n",
    "# Output: 6765"
   ]
  },
  {
   "cell_type": "code",
   "execution_count": null,
   "metadata": {},
   "outputs": [],
   "source": []
  },
  {
   "cell_type": "markdown",
   "metadata": {},
   "source": [
    "Functions : \n",
    "Syntax :\n",
    "def fun_name(parameter):\n",
    "        code\n",
    "    return()"
   ]
  },
  {
   "cell_type": "code",
   "execution_count": 22,
   "metadata": {},
   "outputs": [],
   "source": [
    "def test():\n",
    "    print('sample')\n"
   ]
  },
  {
   "cell_type": "code",
   "execution_count": 23,
   "metadata": {},
   "outputs": [
    {
     "name": "stdout",
     "output_type": "stream",
     "text": [
      "sample\n"
     ]
    }
   ],
   "source": [
    "test()"
   ]
  },
  {
   "cell_type": "code",
   "execution_count": 24,
   "metadata": {},
   "outputs": [],
   "source": [
    "def test():\n",
    "    counter = 0\n",
    "    while counter <=5:\n",
    "        print('sample')\n",
    "        counter += 1"
   ]
  },
  {
   "cell_type": "code",
   "execution_count": 25,
   "metadata": {},
   "outputs": [
    {
     "name": "stdout",
     "output_type": "stream",
     "text": [
      "sample\n",
      "sample\n",
      "sample\n",
      "sample\n",
      "sample\n",
      "sample\n"
     ]
    }
   ],
   "source": [
    "#print(test)\n",
    "test()"
   ]
  },
  {
   "cell_type": "code",
   "execution_count": 26,
   "metadata": {},
   "outputs": [],
   "source": [
    "def test():\n",
    "    counter = 0\n",
    "    while counter <=5:\n",
    "        print(counter)\n",
    "        counter += 1\n",
    "    return 56"
   ]
  },
  {
   "cell_type": "code",
   "execution_count": 27,
   "metadata": {},
   "outputs": [
    {
     "name": "stdout",
     "output_type": "stream",
     "text": [
      "0\n",
      "1\n",
      "2\n",
      "3\n",
      "4\n",
      "5\n"
     ]
    },
    {
     "data": {
      "text/plain": [
       "56"
      ]
     },
     "execution_count": 27,
     "metadata": {},
     "output_type": "execute_result"
    }
   ],
   "source": [
    "test()"
   ]
  },
  {
   "cell_type": "code",
   "execution_count": 28,
   "metadata": {},
   "outputs": [
    {
     "ename": "TypeError",
     "evalue": "test() takes 0 positional arguments but 1 was given",
     "output_type": "error",
     "traceback": [
      "\u001b[1;31m---------------------------------------------------------------------------\u001b[0m",
      "\u001b[1;31mTypeError\u001b[0m                                 Traceback (most recent call last)",
      "Cell \u001b[1;32mIn[28], line 1\u001b[0m\n\u001b[1;32m----> 1\u001b[0m test(\u001b[38;5;124m'\u001b[39m\u001b[38;5;124msample\u001b[39m\u001b[38;5;124m'\u001b[39m)\n",
      "\u001b[1;31mTypeError\u001b[0m: test() takes 0 positional arguments but 1 was given"
     ]
    }
   ],
   "source": [
    "test('sample')"
   ]
  },
  {
   "cell_type": "code",
   "execution_count": null,
   "metadata": {},
   "outputs": [],
   "source": [
    "def test(parameter):\n",
    "    counter = 0\n",
    "    while counter <=5:\n",
    "       print(counter)\n",
    "       #print(counter,parameter)\n",
    "       counter += 1"
   ]
  },
  {
   "cell_type": "code",
   "execution_count": null,
   "metadata": {},
   "outputs": [
    {
     "name": "stdout",
     "output_type": "stream",
     "text": [
      "0\n",
      "1\n",
      "2\n",
      "3\n",
      "4\n",
      "5\n"
     ]
    }
   ],
   "source": [
    "test('sample')"
   ]
  },
  {
   "cell_type": "code",
   "execution_count": null,
   "metadata": {},
   "outputs": [],
   "source": [
    "def test(parameter):\n",
    "    counter = 0\n",
    "    while counter <=5:\n",
    "       #print(counter)\n",
    "       print(counter,parameter)\n",
    "       counter += 1"
   ]
  },
  {
   "cell_type": "code",
   "execution_count": null,
   "metadata": {},
   "outputs": [
    {
     "name": "stdout",
     "output_type": "stream",
     "text": [
      "0 sample\n",
      "1 sample\n",
      "2 sample\n",
      "3 sample\n",
      "4 sample\n",
      "5 sample\n"
     ]
    }
   ],
   "source": [
    "test('sample')\n",
    "#test('sample',3)"
   ]
  },
  {
   "cell_type": "code",
   "execution_count": null,
   "metadata": {},
   "outputs": [],
   "source": [
    "def test(parameter,value):\n",
    "    counter = 0\n",
    "    while counter < value:\n",
    "       #print(counter)\n",
    "       print(counter,parameter)\n",
    "       counter += 1"
   ]
  },
  {
   "cell_type": "code",
   "execution_count": null,
   "metadata": {},
   "outputs": [
    {
     "name": "stdout",
     "output_type": "stream",
     "text": [
      "0 sample\n",
      "1 sample\n"
     ]
    }
   ],
   "source": [
    "test('sample',2)"
   ]
  },
  {
   "cell_type": "code",
   "execution_count": null,
   "metadata": {},
   "outputs": [],
   "source": [
    "def test(parameter = 'test',value = 5):\n",
    "    counter = 0\n",
    "    while counter < value:\n",
    "       #print(counter)\n",
    "       print(counter,parameter)\n",
    "       counter += 1"
   ]
  },
  {
   "cell_type": "code",
   "execution_count": null,
   "metadata": {},
   "outputs": [
    {
     "name": "stdout",
     "output_type": "stream",
     "text": [
      "0 test\n",
      "1 test\n",
      "2 test\n",
      "3 test\n",
      "4 test\n"
     ]
    }
   ],
   "source": [
    "#test('sample',2)\n",
    "test()"
   ]
  },
  {
   "cell_type": "code",
   "execution_count": null,
   "metadata": {},
   "outputs": [],
   "source": [
    "def hypotenuse_theorem(side_a,side_b):\n",
    "    Hypotenuse1 = (side_a**2 + pow(side_b, 2))**(1/2)\n",
    "    print('Hypotenuse is : ',round(Hypotenuse1))\n",
    "    return 0"
   ]
  },
  {
   "cell_type": "code",
   "execution_count": null,
   "metadata": {},
   "outputs": [
    {
     "name": "stdout",
     "output_type": "stream",
     "text": [
      "Hypotenuse is :  8\n"
     ]
    },
    {
     "data": {
      "text/plain": [
       "0"
      ]
     },
     "metadata": {},
     "output_type": "display_data"
    }
   ],
   "source": [
    "hypotenuse_theorem(6,6)"
   ]
  },
  {
   "cell_type": "code",
   "execution_count": null,
   "metadata": {},
   "outputs": [],
   "source": [
    "def hypotenuse_theorem(side_a,side_b):\n",
    "    Hypotenuse1 = (side_a**2 + pow(side_b, 2))**(1/2)\n",
    "    #print('Hypotenuse is : ',round(Hypotenuse1))\n",
    "    return Hypotenuse1"
   ]
  },
  {
   "cell_type": "code",
   "execution_count": null,
   "metadata": {},
   "outputs": [
    {
     "data": {
      "text/plain": [
       "8.48528137423857"
      ]
     },
     "metadata": {},
     "output_type": "display_data"
    }
   ],
   "source": [
    "hypotenuse_theorem(6,6)"
   ]
  },
  {
   "cell_type": "code",
   "execution_count": null,
   "metadata": {},
   "outputs": [],
   "source": [
    "def hypotenuse_theorem(side_a,side_b):\n",
    "    Hypotenuse1 = (side_a**2 + pow(side_b, 2))**(1/2)\n",
    "    #print('Hypotenuse is : ',round(Hypotenuse1))\n",
    "    return round(Hypotenuse1,2)"
   ]
  },
  {
   "cell_type": "code",
   "execution_count": null,
   "metadata": {},
   "outputs": [
    {
     "name": "stdout",
     "output_type": "stream",
     "text": [
      "8.49\n"
     ]
    }
   ],
   "source": [
    "print(hypotenuse_theorem(6,6))"
   ]
  },
  {
   "cell_type": "code",
   "execution_count": null,
   "metadata": {},
   "outputs": [],
   "source": [
    "def hypotenuse_theorem(side_a = 6,side_b = 6):\n",
    "    Hypotenuse1 = (side_a**2 + pow(side_b, 2))**(1/2)\n",
    "    #print('Hypotenuse is : ',round(Hypotenuse1))\n",
    "    return round(Hypotenuse1,2)"
   ]
  },
  {
   "cell_type": "code",
   "execution_count": null,
   "metadata": {},
   "outputs": [
    {
     "name": "stdout",
     "output_type": "stream",
     "text": [
      "11.31\n"
     ]
    }
   ],
   "source": [
    "#print(hypotenuse_theorem(7,7))\n",
    "#print(hypotenuse_theorem())\n",
    "print(hypotenuse_theorem(side_a = 8,side_b = 8))   # very appropriate way to print"
   ]
  },
  {
   "cell_type": "code",
   "execution_count": null,
   "metadata": {},
   "outputs": [],
   "source": [
    "def shouter(op_string,repetition_value):\n",
    "    #for i in range(repetition_value):\n",
    "    print(op_string.upper())"
   ]
  },
  {
   "cell_type": "code",
   "execution_count": null,
   "metadata": {},
   "outputs": [
    {
     "name": "stdout",
     "output_type": "stream",
     "text": [
      "TEST\n"
     ]
    }
   ],
   "source": [
    "shouter(\"test\",3)"
   ]
  },
  {
   "cell_type": "code",
   "execution_count": null,
   "metadata": {},
   "outputs": [],
   "source": [
    "def shouter(op_string = 'hello',repetition_value = 2):\n",
    "    if repetition_value <= 10:\n",
    "\n",
    "        for i in range(repetition_value):\n",
    "            print(op_string.upper())\n",
    "    else:\n",
    "        print('your to wrong')\n",
    "    return 'done'"
   ]
  },
  {
   "cell_type": "code",
   "execution_count": null,
   "metadata": {},
   "outputs": [
    {
     "name": "stdout",
     "output_type": "stream",
     "text": [
      "your to wrong\n",
      "TEST\n",
      "TEST\n",
      "TEST\n",
      "TEST\n",
      "TEST\n"
     ]
    },
    {
     "data": {
      "text/plain": [
       "'done'"
      ]
     },
     "metadata": {},
     "output_type": "display_data"
    }
   ],
   "source": [
    "shouter(\"test\",11)\n",
    "shouter(\"test\",5)\n"
   ]
  },
  {
   "cell_type": "code",
   "execution_count": null,
   "metadata": {},
   "outputs": [
    {
     "name": "stdout",
     "output_type": "stream",
     "text": [
      "HELLO\n",
      "HELLO\n"
     ]
    },
    {
     "data": {
      "text/plain": [
       "'done'"
      ]
     },
     "metadata": {},
     "output_type": "display_data"
    }
   ],
   "source": [
    "shouter()\n"
   ]
  },
  {
   "cell_type": "markdown",
   "metadata": {},
   "source": [
    "#### Function new"
   ]
  },
  {
   "cell_type": "code",
   "execution_count": null,
   "metadata": {},
   "outputs": [
    {
     "name": "stdout",
     "output_type": "stream",
     "text": [
      "4.235294117647059\n",
      "2.727272727272727\n"
     ]
    }
   ],
   "source": [
    "# geometric mean\n",
    "a = 8\n",
    "b = 9\n",
    "gmean = (a * b)/(a + b)\n",
    "print(gmean)\n",
    "c = 5\n",
    "d = 6\n",
    "gmean1 = (c * d)/(c + d)\n",
    "print(gmean1)"
   ]
  },
  {
   "cell_type": "code",
   "execution_count": null,
   "metadata": {},
   "outputs": [],
   "source": [
    "def Gmean(x, y):\n",
    "    gmean = (x * y)/(x + y)\n",
    "\n",
    "\n",
    "Gmean(a, b)\n",
    "Gmean(c, d)"
   ]
  },
  {
   "cell_type": "code",
   "execution_count": null,
   "metadata": {},
   "outputs": [
    {
     "name": "stdout",
     "output_type": "stream",
     "text": [
      "4.235294117647059\n",
      "2.727272727272727\n"
     ]
    }
   ],
   "source": [
    "def Gmean(x, y):\n",
    "    gmean = (x * y)/(x + y)\n",
    "    print(gmean)\n",
    "\n",
    "Gmean(a, b)\n",
    "Gmean(c, d)"
   ]
  },
  {
   "cell_type": "code",
   "execution_count": null,
   "metadata": {},
   "outputs": [
    {
     "name": "stdout",
     "output_type": "stream",
     "text": [
      "4.235294117647059\n",
      "2.727272727272727\n"
     ]
    }
   ],
   "source": [
    "def Gmean(x, y):\n",
    "    gmean = (x * y)/(x + y)\n",
    "    return gmean\n",
    "\n",
    "#Gmean(a, b)\n",
    "#Gmean(c, d)\n",
    "print(Gmean(a, b))\n",
    "print(Gmean(c, d))"
   ]
  },
  {
   "cell_type": "code",
   "execution_count": null,
   "metadata": {},
   "outputs": [
    {
     "name": "stdout",
     "output_type": "stream",
     "text": [
      "4.235294117647059\n",
      "3.0\n",
      "1.7142857142857142\n",
      "9\n",
      "4.235294117647059\n",
      "1.7142857142857142\n",
      "6\n"
     ]
    }
   ],
   "source": [
    "def Gmean(x, y):\n",
    "    gmean = (x * y)/(x + y)\n",
    "    print(gmean)\n",
    "\n",
    "def maxnum(x, y):\n",
    "    if x > y:\n",
    "        print(x)\n",
    "    else :\n",
    "        print(y)\n",
    "### pass this functio will write after some time\n",
    "def minnum(x, y):\n",
    "    pass                                    \n",
    "### DefaultArgument\n",
    "def Gmean(x = 3, y = 4):\n",
    "    gmean = (x * y)/(x + y)\n",
    "    print(gmean)\n",
    "Gmean(a, b)\n",
    "Gmean(y = 6, x = 6)    ### Change order\n",
    "Gmean()\n",
    "maxnum(a, b)\n",
    "Gmean(a, b)\n",
    "Gmean()\n",
    "maxnum(c, d)\n",
    "minnum(a, b)\n",
    "minnum(c, d)\n"
   ]
  },
  {
   "cell_type": "code",
   "execution_count": 10,
   "metadata": {},
   "outputs": [
    {
     "name": "stdout",
     "output_type": "stream",
     "text": [
      "Average: 5.5\n"
     ]
    }
   ],
   "source": [
    "def Average(*number):\n",
    "    sum = 0\n",
    "    for i in number:\n",
    "        sum = sum + i\n",
    "    print('Average:', sum/len(number))    \n",
    "\n",
    "Average(1,2,3,4,5,6,7,8,9,10)"
   ]
  },
  {
   "cell_type": "code",
   "execution_count": null,
   "metadata": {},
   "outputs": [],
   "source": [
    "def Average(*number):     ### '*' means treat as tuple , '**' means dict\n",
    "    print(type(number))\n",
    "    print(number)\n",
    "    sum = 0\n",
    "    for i in number:\n",
    "        sum = sum + i\n",
    "    print(len(number))\n",
    "    print('Average : ', sum / len(number))"
   ]
  },
  {
   "cell_type": "code",
   "execution_count": null,
   "metadata": {},
   "outputs": [
    {
     "name": "stdout",
     "output_type": "stream",
     "text": [
      "<class 'tuple'>\n",
      "(1, 2, 3, 4, 5, 6, 7, 8, 9, 10)\n",
      "10\n",
      "Average :  5.5\n"
     ]
    }
   ],
   "source": [
    "Average(1,2,3,4,5,6,7,8,9,10)"
   ]
  },
  {
   "cell_type": "markdown",
   "metadata": {},
   "source": [
    "#### Enumerate function"
   ]
  },
  {
   "cell_type": "code",
   "execution_count": null,
   "metadata": {},
   "outputs": [
    {
     "name": "stdout",
     "output_type": "stream",
     "text": [
      "4\n"
     ]
    },
    {
     "ename": "NameError",
     "evalue": "name 'index' is not defined",
     "output_type": "error",
     "traceback": [
      "\u001b[1;31m---------------------------------------------------------------------------\u001b[0m\n",
      "\u001b[1;31mNameError\u001b[0m                                 Traceback (most recent call last)\n",
      "Cell \u001b[1;32mIn[2], line 4\u001b[0m\n",
      "\u001b[0;32m      2\u001b[0m \u001b[38;5;28;01mfor\u001b[39;00m mark \u001b[38;5;129;01min\u001b[39;00m marks:\n",
      "\u001b[0;32m      3\u001b[0m     \u001b[38;5;28mprint\u001b[39m(mark)\n",
      "\u001b[1;32m----> 4\u001b[0m     \u001b[38;5;28;01mif\u001b[39;00m \u001b[43mindex\u001b[49m \u001b[38;5;241m==\u001b[39m \u001b[38;5;241m3\u001b[39m:\n",
      "\u001b[0;32m      5\u001b[0m         \u001b[38;5;28mprint\u001b[39m(\u001b[38;5;124m'\u001b[39m\u001b[38;5;124mgood job\u001b[39m\u001b[38;5;124m'\u001b[39m)\n",
      "\n",
      "\u001b[1;31mNameError\u001b[0m: name 'index' is not defined"
     ]
    }
   ],
   "source": [
    "marks = [4, 15, 78, 90, 50, 35]\n",
    "for mark in marks:\n",
    "    print(mark)\n",
    "    if index == 3:\n",
    "        print('good job')"
   ]
  },
  {
   "cell_type": "code",
   "execution_count": 14,
   "metadata": {},
   "outputs": [
    {
     "name": "stdout",
     "output_type": "stream",
     "text": [
      "good job\n"
     ]
    }
   ],
   "source": [
    "marks = [4,15,78,90,50,35]\n",
    "index = 0\n",
    "for mark in marks:\n",
    "    if index == 3:\n",
    "        print('good job')\n",
    "    index += 1    "
   ]
  },
  {
   "cell_type": "code",
   "execution_count": null,
   "metadata": {},
   "outputs": [
    {
     "name": "stdout",
     "output_type": "stream",
     "text": [
      "4\n",
      "15\n",
      "78\n",
      "90\n",
      "good job\n",
      "50\n",
      "35\n"
     ]
    }
   ],
   "source": [
    "marks = [4, 15, 78, 90, 50, 35]\n",
    "index = 0\n",
    "for mark in marks:\n",
    "    print(mark)\n",
    "    if index == 3:\n",
    "        print('good job')\n",
    "    index += 1"
   ]
  },
  {
   "cell_type": "code",
   "execution_count": 20,
   "metadata": {},
   "outputs": [
    {
     "name": "stdout",
     "output_type": "stream",
     "text": [
      "[4, 15, 78, 90, 50, 35]\n",
      "[4, 15, 78, 90, 50, 35]\n",
      "[4, 15, 78, 90, 50, 35]\n",
      "[4, 15, 78, 90, 50, 35]\n",
      "[4, 15, 78, 90, 50, 35]\n",
      "[4, 15, 78, 90, 50, 35]\n"
     ]
    }
   ],
   "source": [
    "marks = [4,15,78,90,50,35]\n",
    "for mark, index in enumerate(marks):\n",
    "    print(marks) \n",
    "    if index == 3:\n",
    "        print('good job')\n",
    "\n",
    "       "
   ]
  },
  {
   "cell_type": "code",
   "execution_count": 22,
   "metadata": {},
   "outputs": [
    {
     "name": "stdout",
     "output_type": "stream",
     "text": [
      "4\n",
      "15\n",
      "78\n",
      "90\n",
      "good job\n",
      "50\n",
      "35\n"
     ]
    }
   ],
   "source": [
    "marks = [4,15,78,90,50,35]\n",
    "for index, mark in enumerate(marks):\n",
    "    print(mark) \n",
    "    if index == 3:\n",
    "        print('good job')"
   ]
  },
  {
   "cell_type": "code",
   "execution_count": 16,
   "metadata": {},
   "outputs": [
    {
     "name": "stdout",
     "output_type": "stream",
     "text": [
      "4\n",
      "15\n",
      "78\n",
      "90\n",
      "good job\n",
      "50\n",
      "35\n"
     ]
    }
   ],
   "source": [
    "# marks = [4, 15, 78, 90, 50, 35]\n",
    "# for mark, index in enumerate(marks):\n",
    "#     print(mark)\n",
    "#     if index == 3:\n",
    "#         print('good job')\n",
    "marks = [4, 15, 78, 90, 50, 35]\n",
    "for index, mark in enumerate(marks):\n",
    "    print(mark)\n",
    "    if index == 3:\n",
    "        print('good job')"
   ]
  },
  {
   "cell_type": "code",
   "execution_count": 24,
   "metadata": {},
   "outputs": [
    {
     "name": "stdout",
     "output_type": "stream",
     "text": [
      "0 4\n",
      "1 15\n",
      "2 78\n",
      "3 90\n",
      "4 50\n",
      "5 35\n"
     ]
    }
   ],
   "source": [
    "marks = [4,15,78,90,50,35]\n",
    "for index,mark in enumerate(marks):\n",
    "    print(index,mark)"
   ]
  },
  {
   "cell_type": "code",
   "execution_count": 23,
   "metadata": {},
   "outputs": [
    {
     "name": "stdout",
     "output_type": "stream",
     "text": [
      "1 4\n",
      "2 15\n",
      "3 78\n",
      "4 90\n",
      "5 50\n",
      "6 35\n"
     ]
    }
   ],
   "source": [
    "marks = [4,15,78,90,50,35]\n",
    "for index,mark in enumerate(marks,start=1):\n",
    "    print(index,mark)\n",
    "    \n"
   ]
  },
  {
   "cell_type": "code",
   "execution_count": null,
   "metadata": {},
   "outputs": [
    {
     "name": "stdout",
     "output_type": "stream",
     "text": [
      "4\n",
      "15\n",
      "78\n",
      "good job\n",
      "90\n",
      "50\n",
      "35\n"
     ]
    }
   ],
   "source": [
    "marks = [4, 15, 78, 90, 50, 35]\n",
    "for index, mark in enumerate(marks, start = 1):\n",
    "    print(mark)\n",
    "    if index == 3:\n",
    "        print('good job')"
   ]
  },
  {
   "cell_type": "markdown",
   "metadata": {},
   "source": [
    "#### Lambda Function"
   ]
  },
  {
   "cell_type": "code",
   "execution_count": null,
   "metadata": {},
   "outputs": [
    {
     "name": "stdout",
     "output_type": "stream",
     "text": [
      "10\n"
     ]
    }
   ],
   "source": [
    "def double(x):\n",
    "    return x*2\n",
    "print(double(5))"
   ]
  },
  {
   "cell_type": "code",
   "execution_count": 26,
   "metadata": {},
   "outputs": [
    {
     "name": "stdout",
     "output_type": "stream",
     "text": [
      "10\n"
     ]
    }
   ],
   "source": [
    "double = lambda x : x*2\n",
    "print(double(5))"
   ]
  },
  {
   "cell_type": "code",
   "execution_count": 27,
   "metadata": {},
   "outputs": [
    {
     "name": "stdout",
     "output_type": "stream",
     "text": [
      "125\n"
     ]
    }
   ],
   "source": [
    "cube = lambda a : a*a*a\n",
    "print(cube(5))"
   ]
  },
  {
   "cell_type": "code",
   "execution_count": 28,
   "metadata": {},
   "outputs": [
    {
     "name": "stdout",
     "output_type": "stream",
     "text": [
      "5.5\n"
     ]
    }
   ],
   "source": [
    "Average = lambda x,y : (x+y)/2\n",
    "print(Average(5,6))"
   ]
  },
  {
   "cell_type": "code",
   "execution_count": 29,
   "metadata": {},
   "outputs": [
    {
     "name": "stdout",
     "output_type": "stream",
     "text": [
      "6\n"
     ]
    }
   ],
   "source": [
    "three = lambda a,b,c : a*b*c\n",
    "print(three(1,2,3))"
   ]
  },
  {
   "cell_type": "code",
   "execution_count": null,
   "metadata": {},
   "outputs": [
    {
     "name": "stdout",
     "output_type": "stream",
     "text": [
      "10\n",
      "125\n",
      "5.5\n",
      "6\n"
     ]
    }
   ],
   "source": [
    "double = lambda x : x*2\n",
    "print(double(5))\n",
    "cube = lambda a : a*a*a\n",
    "print(cube(5))\n",
    "Average = lambda x, y : (x+y)/2\n",
    "print(Average(5,6))\n",
    "three = lambda a, b, c : a*b*c\n",
    "print(three(1,2,3))"
   ]
  },
  {
   "cell_type": "code",
   "execution_count": null,
   "metadata": {},
   "outputs": [
    {
     "name": "stdout",
     "output_type": "stream",
     "text": [
      "14\n",
      "10\n"
     ]
    }
   ],
   "source": [
    "#### Pass Function to Function\n",
    "cube = lambda a : a*a*a\n",
    "def appl(fx, Value):\n",
    "    return 6 + fx(Value)\n",
    "print(appl(cube, 2))\n",
    "print(appl(lambda x : x*x, 2))\n"
   ]
  },
  {
   "cell_type": "markdown",
   "metadata": {},
   "source": [
    "#### MAP()"
   ]
  },
  {
   "cell_type": "code",
   "execution_count": null,
   "metadata": {},
   "outputs": [
    {
     "name": "stdout",
     "output_type": "stream",
     "text": [
      "[2, 4, 6, 2, 4, 3, 5]\n"
     ]
    }
   ],
   "source": [
    "l = [2,4,6,2,4,3,5]\n",
    "print(l)"
   ]
  },
  {
   "cell_type": "code",
   "execution_count": 29,
   "metadata": {},
   "outputs": [],
   "source": [
    "def cube(x):\n",
    "    return x**3"
   ]
  },
  {
   "cell_type": "code",
   "execution_count": 34,
   "metadata": {},
   "outputs": [
    {
     "name": "stdout",
     "output_type": "stream",
     "text": [
      "[8, 64, 216, 8, 64, 27, 125]\n"
     ]
    }
   ],
   "source": [
    "\n",
    "newl = []\n",
    "for i in l:\n",
    "    newl.append(cube(i))\n",
    "print(newl)"
   ]
  },
  {
   "cell_type": "code",
   "execution_count": 36,
   "metadata": {},
   "outputs": [
    {
     "name": "stdout",
     "output_type": "stream",
     "text": [
      "[8, 64, 216, 8, 64, 27, 125]\n"
     ]
    }
   ],
   "source": [
    "newl = list(map(cube,l))\n",
    "print(newl)"
   ]
  },
  {
   "cell_type": "code",
   "execution_count": 32,
   "metadata": {},
   "outputs": [
    {
     "ename": "NameError",
     "evalue": "name 'l' is not defined",
     "output_type": "error",
     "traceback": [
      "\u001b[1;31m---------------------------------------------------------------------------\u001b[0m",
      "\u001b[1;31mNameError\u001b[0m                                 Traceback (most recent call last)",
      "Cell \u001b[1;32mIn[32], line 1\u001b[0m\n\u001b[1;32m----> 1\u001b[0m newl \u001b[38;5;241m=\u001b[39m \u001b[38;5;28mlist\u001b[39m(\u001b[38;5;28mmap\u001b[39m(\u001b[38;5;28;01mlambda\u001b[39;00m x : x\u001b[38;5;241m*\u001b[39mx,l))\n\u001b[0;32m      2\u001b[0m \u001b[38;5;28mprint\u001b[39m(newl)\n",
      "\u001b[1;31mNameError\u001b[0m: name 'l' is not defined"
     ]
    }
   ],
   "source": [
    "newl = list(map(lambda x : x*x,l))\n",
    "print(newl)"
   ]
  },
  {
   "cell_type": "markdown",
   "metadata": {},
   "source": [
    "#### Filter"
   ]
  },
  {
   "cell_type": "code",
   "execution_count": 39,
   "metadata": {},
   "outputs": [
    {
     "name": "stdout",
     "output_type": "stream",
     "text": [
      "[4, 6, 4, 3, 5]\n"
     ]
    }
   ],
   "source": [
    "def filter_fun(a):\n",
    "    return a > 2\n",
    "newl1 = list(filter(filter_fun,l))\n",
    "print(newl1)"
   ]
  },
  {
   "cell_type": "code",
   "execution_count": 40,
   "metadata": {},
   "outputs": [
    {
     "name": "stdout",
     "output_type": "stream",
     "text": [
      "[4, 6, 4, 3, 5]\n"
     ]
    }
   ],
   "source": [
    "def filter_fun(a):\n",
    "    return a > 2\n",
    "newl1 = list(filter(filter_fun, l))\n",
    "print(newl1)"
   ]
  },
  {
   "cell_type": "code",
   "execution_count": 42,
   "metadata": {},
   "outputs": [
    {
     "name": "stdout",
     "output_type": "stream",
     "text": [
      "[2, 4, 6, 2, 4]\n"
     ]
    }
   ],
   "source": [
    "newl1 = list(filter(lambda x : x%2 == 0, l))\n",
    "print(newl1)"
   ]
  },
  {
   "cell_type": "markdown",
   "metadata": {},
   "source": [
    "#### Reduce"
   ]
  },
  {
   "cell_type": "code",
   "execution_count": 43,
   "metadata": {},
   "outputs": [],
   "source": [
    "from functools import reduce"
   ]
  },
  {
   "cell_type": "code",
   "execution_count": 44,
   "metadata": {},
   "outputs": [
    {
     "name": "stdout",
     "output_type": "stream",
     "text": [
      "[2, 4, 6, 2, 4, 3, 5]\n"
     ]
    }
   ],
   "source": [
    "print(l)"
   ]
  },
  {
   "cell_type": "code",
   "execution_count": null,
   "metadata": {},
   "outputs": [],
   "source": [
    "def mysum(x,y):\n",
    "    return x+y\n",
    "SUM "
   ]
  },
  {
   "cell_type": "code",
   "execution_count": 37,
   "metadata": {},
   "outputs": [
    {
     "ename": "NameError",
     "evalue": "name 'l' is not defined",
     "output_type": "error",
     "traceback": [
      "\u001b[1;31m---------------------------------------------------------------------------\u001b[0m",
      "\u001b[1;31mNameError\u001b[0m                                 Traceback (most recent call last)",
      "Cell \u001b[1;32mIn[37], line 3\u001b[0m\n\u001b[0;32m      1\u001b[0m \u001b[38;5;28;01mdef\u001b[39;00m \u001b[38;5;21mmysum\u001b[39m(x, y):\n\u001b[0;32m      2\u001b[0m     \u001b[38;5;28;01mreturn\u001b[39;00m x\u001b[38;5;241m+\u001b[39my\n\u001b[1;32m----> 3\u001b[0m \u001b[38;5;28msum\u001b[39m \u001b[38;5;241m=\u001b[39m reduce(mysum, l)\n\u001b[0;32m      4\u001b[0m \u001b[38;5;28mprint\u001b[39m(\u001b[38;5;28msum\u001b[39m)\n",
      "\u001b[1;31mNameError\u001b[0m: name 'l' is not defined"
     ]
    }
   ],
   "source": [
    "def mysum(x, y):\n",
    "    return x+y\n",
    "sum = reduce(mysum, l)\n",
    "print(sum)"
   ]
  },
  {
   "cell_type": "code",
   "execution_count": 38,
   "metadata": {},
   "outputs": [
    {
     "ename": "NameError",
     "evalue": "name 'l' is not defined",
     "output_type": "error",
     "traceback": [
      "\u001b[1;31m---------------------------------------------------------------------------\u001b[0m",
      "\u001b[1;31mNameError\u001b[0m                                 Traceback (most recent call last)",
      "Cell \u001b[1;32mIn[38], line 1\u001b[0m\n\u001b[1;32m----> 1\u001b[0m \u001b[38;5;28msum\u001b[39m \u001b[38;5;241m=\u001b[39m reduce(\u001b[38;5;28;01mlambda\u001b[39;00m x, y : x \u001b[38;5;241m-\u001b[39m y, l)\n\u001b[0;32m      2\u001b[0m \u001b[38;5;28mprint\u001b[39m(\u001b[38;5;28msum\u001b[39m)\n",
      "\u001b[1;31mNameError\u001b[0m: name 'l' is not defined"
     ]
    }
   ],
   "source": [
    "sum = reduce(lambda x, y : x - y, l)\n",
    "print(sum)"
   ]
  },
  {
   "cell_type": "markdown",
   "metadata": {},
   "source": [
    "#### Decorator"
   ]
  },
  {
   "cell_type": "code",
   "execution_count": 39,
   "metadata": {},
   "outputs": [],
   "source": [
    "### Decorator\n",
    "\n",
    "def greet(fx):\n",
    "    def mfx():\n",
    "        print(\"Welcome\")\n",
    "        fx()\n",
    "        print(\"Thank you\")\n",
    "    return mfx"
   ]
  },
  {
   "cell_type": "code",
   "execution_count": 40,
   "metadata": {},
   "outputs": [
    {
     "name": "stdout",
     "output_type": "stream",
     "text": [
      "Welcome\n",
      "Hello world..!!\n",
      "Thank you\n"
     ]
    }
   ],
   "source": [
    "@greet\n",
    "def hello():\n",
    "    print(\"Hello world..!!\")\n",
    "\n",
    "hello()"
   ]
  },
  {
   "cell_type": "code",
   "execution_count": 41,
   "metadata": {},
   "outputs": [
    {
     "name": "stdout",
     "output_type": "stream",
     "text": [
      "Welcome\n",
      "Welcome\n",
      "Hello world..!!\n",
      "Thank you\n",
      "Thank you\n"
     ]
    }
   ],
   "source": [
    "greet(hello)()"
   ]
  },
  {
   "cell_type": "code",
   "execution_count": 42,
   "metadata": {},
   "outputs": [
    {
     "ename": "TypeError",
     "evalue": "greet.<locals>.mfx() takes 0 positional arguments but 2 were given",
     "output_type": "error",
     "traceback": [
      "\u001b[1;31m---------------------------------------------------------------------------\u001b[0m",
      "\u001b[1;31mTypeError\u001b[0m                                 Traceback (most recent call last)",
      "Cell \u001b[1;32mIn[42], line 8\u001b[0m\n\u001b[0;32m      5\u001b[0m \u001b[38;5;129m@greet\u001b[39m\n\u001b[0;32m      6\u001b[0m \u001b[38;5;28;01mdef\u001b[39;00m \u001b[38;5;21madd\u001b[39m(a,b):\n\u001b[0;32m      7\u001b[0m     \u001b[38;5;28;01mreturn\u001b[39;00m a \u001b[38;5;241m+\u001b[39m b\n\u001b[1;32m----> 8\u001b[0m add(\u001b[38;5;241m3\u001b[39m,\u001b[38;5;241m4\u001b[39m)\n",
      "\u001b[1;31mTypeError\u001b[0m: greet.<locals>.mfx() takes 0 positional arguments but 2 were given"
     ]
    }
   ],
   "source": [
    "# @greet\n",
    "# def add(a,b):\n",
    "#     return a + b\n",
    "#add(3,4)\n",
    "@greet\n",
    "def add(a,b):\n",
    "    return a + b\n",
    "add(3,4)\n"
   ]
  },
  {
   "cell_type": "code",
   "execution_count": 43,
   "metadata": {},
   "outputs": [
    {
     "name": "stdout",
     "output_type": "stream",
     "text": [
      "Welcome\n",
      "Welcome\n"
     ]
    },
    {
     "ename": "TypeError",
     "evalue": "add() missing 2 required positional arguments: 'a' and 'b'",
     "output_type": "error",
     "traceback": [
      "\u001b[1;31m---------------------------------------------------------------------------\u001b[0m",
      "\u001b[1;31mTypeError\u001b[0m                                 Traceback (most recent call last)",
      "Cell \u001b[1;32mIn[43], line 1\u001b[0m\n\u001b[1;32m----> 1\u001b[0m greet(add)()\n",
      "Cell \u001b[1;32mIn[39], line 6\u001b[0m, in \u001b[0;36mgreet.<locals>.mfx\u001b[1;34m()\u001b[0m\n\u001b[0;32m      4\u001b[0m \u001b[38;5;28;01mdef\u001b[39;00m \u001b[38;5;21mmfx\u001b[39m():\n\u001b[0;32m      5\u001b[0m     \u001b[38;5;28mprint\u001b[39m(\u001b[38;5;124m\"\u001b[39m\u001b[38;5;124mWelcome\u001b[39m\u001b[38;5;124m\"\u001b[39m)\n\u001b[1;32m----> 6\u001b[0m     fx()\n\u001b[0;32m      7\u001b[0m     \u001b[38;5;28mprint\u001b[39m(\u001b[38;5;124m\"\u001b[39m\u001b[38;5;124mThank you\u001b[39m\u001b[38;5;124m\"\u001b[39m)\n",
      "Cell \u001b[1;32mIn[39], line 6\u001b[0m, in \u001b[0;36mgreet.<locals>.mfx\u001b[1;34m()\u001b[0m\n\u001b[0;32m      4\u001b[0m \u001b[38;5;28;01mdef\u001b[39;00m \u001b[38;5;21mmfx\u001b[39m():\n\u001b[0;32m      5\u001b[0m     \u001b[38;5;28mprint\u001b[39m(\u001b[38;5;124m\"\u001b[39m\u001b[38;5;124mWelcome\u001b[39m\u001b[38;5;124m\"\u001b[39m)\n\u001b[1;32m----> 6\u001b[0m     fx()\n\u001b[0;32m      7\u001b[0m     \u001b[38;5;28mprint\u001b[39m(\u001b[38;5;124m\"\u001b[39m\u001b[38;5;124mThank you\u001b[39m\u001b[38;5;124m\"\u001b[39m)\n",
      "\u001b[1;31mTypeError\u001b[0m: add() missing 2 required positional arguments: 'a' and 'b'"
     ]
    }
   ],
   "source": [
    "greet(add)()"
   ]
  },
  {
   "cell_type": "code",
   "execution_count": 44,
   "metadata": {},
   "outputs": [],
   "source": [
    "\n",
    "def greet(fx):\n",
    "    def mfx(*args, **kwargs):\n",
    "        print(\"Welcome\")\n",
    "        fx(*args, **kwargs)\n",
    "        print(\"Thank you\")\n",
    "    return mfx"
   ]
  },
  {
   "cell_type": "code",
   "execution_count": 45,
   "metadata": {},
   "outputs": [
    {
     "name": "stdout",
     "output_type": "stream",
     "text": [
      "Welcome\n",
      "7\n",
      "Thank you\n"
     ]
    }
   ],
   "source": [
    "@greet\n",
    "def add(a,b):\n",
    "    print(a + b)\n",
    "\n",
    "add(3, 4)"
   ]
  },
  {
   "cell_type": "code",
   "execution_count": 46,
   "metadata": {},
   "outputs": [
    {
     "name": "stdout",
     "output_type": "stream",
     "text": [
      "Welcome\n",
      "Welcome\n",
      "7\n",
      "Thank you\n",
      "Thank you\n"
     ]
    }
   ],
   "source": [
    "greet(add)(4,3)"
   ]
  },
  {
   "cell_type": "markdown",
   "metadata": {},
   "source": [
    "#### Getters and Setters"
   ]
  },
  {
   "cell_type": "code",
   "execution_count": 47,
   "metadata": {},
   "outputs": [
    {
     "name": "stdout",
     "output_type": "stream",
     "text": [
      "value is : 10\n"
     ]
    },
    {
     "data": {
      "text/plain": [
       "100"
      ]
     },
     "execution_count": 47,
     "metadata": {},
     "output_type": "execute_result"
    }
   ],
   "source": [
    "### Getter\n",
    "\n",
    "class myclass:\n",
    "    def __init__(self, value):\n",
    "        self._value = value\n",
    "    def show(self):\n",
    "        print(f\"value is : {self._value}\")\n",
    "    @property\n",
    "    def ten_value(self):\n",
    "        return 10*self._value\n",
    "\n",
    "obj = myclass(10)\n",
    "obj.show()\n",
    "obj.ten_value"
   ]
  },
  {
   "cell_type": "code",
   "execution_count": 48,
   "metadata": {},
   "outputs": [],
   "source": [
    "\n",
    "#obj.ten_value = 20"
   ]
  },
  {
   "cell_type": "code",
   "execution_count": 49,
   "metadata": {},
   "outputs": [],
   "source": [
    "##### Setter\n",
    "\n",
    "class myclass:\n",
    "    def __init__(self, value):\n",
    "        self._value = value\n",
    "    def show(self):\n",
    "        print(f\"value is : {self._value}\")\n",
    "    \n",
    "    @property\n",
    "    def ten_value(self):\n",
    "        return 10*self._value\n",
    "    \n",
    "    @ten_value.setter\n",
    "    def ten_value(self, new_value):\n",
    "        self._value = new_value/10\n"
   ]
  },
  {
   "cell_type": "code",
   "execution_count": 50,
   "metadata": {},
   "outputs": [
    {
     "name": "stdout",
     "output_type": "stream",
     "text": [
      "20.0\n",
      "value is : 2.0\n"
     ]
    }
   ],
   "source": [
    "obj = myclass(10)\n",
    "obj.ten_value = 20\n",
    "print(obj.ten_value)\n",
    "obj.show()\n"
   ]
  }
 ],
 "metadata": {
  "kernelspec": {
   "display_name": "base",
   "language": "python",
   "name": "python3"
  },
  "language_info": {
   "codemirror_mode": {
    "name": "ipython",
    "version": 3
   },
   "file_extension": ".py",
   "mimetype": "text/x-python",
   "name": "python",
   "nbconvert_exporter": "python",
   "pygments_lexer": "ipython3",
   "version": "3.11.9"
  }
 },
 "nbformat": 4,
 "nbformat_minor": 2
}
