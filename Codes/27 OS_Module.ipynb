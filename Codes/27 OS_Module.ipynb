{
 "cells": [
  {
   "cell_type": "markdown",
   "metadata": {},
   "source": [
    "# os Module in Python\n",
    "The os module in Python is a built-in library that provides functions for interacting with the operating system. It allows you to perform a wide variety of tasks, such as reading and writing files, interacting with the file system, and running system commands.\n",
    "\n",
    "Here are some common tasks you can perform with the os module:\n",
    "\n",
    "Reading and writing files\n",
    "The os module provides functions for opening, reading, and writing files. For example, to open a file for reading, you can use the open function:\n",
    "\n",
    "```python\n",
    "import os\n",
    "\n",
    "# Open the file in read-only mode\n",
    "f = os.open(\"myfile.txt\", os.O_RDONLY)\n",
    "\n",
    "# Read the contents of the file\n",
    "contents = os.read(f, 1024)\n",
    "\n",
    "# Close the file\n",
    "os.close(f)\n",
    "```\n",
    "To open a file for writing, you can use the os.O_WRONLY flag:\n",
    "\n",
    "```python\n",
    "import os\n",
    "\n",
    "# Open the file in write-only mode\n",
    "f = os.open(\"myfile.txt\", os.O_WRONLY)\n",
    "\n",
    "# Write to the file\n",
    "os.write(f, b\"Hello, world!\")\n",
    "\n",
    "# Close the file\n",
    "os.close(f)\n",
    "```\n",
    "## Interacting with the file system\n",
    "The os module also provides functions for interacting with the file system. For example, you can use the os.listdir function to get a list of the files in a directory:\n",
    "\n",
    "```python\n",
    "import os\n",
    "\n",
    "# Get a list of the files in the current directory\n",
    "files = os.listdir(\".\")\n",
    "print(files)  # Output: ['myfile.txt', 'otherfile.txt']\n",
    "```\n",
    "You can also use the os.mkdir function to create a new directory:\n",
    "\n",
    "```python\n",
    "import os\n",
    "\n",
    "# Create a new directory\n",
    "os.mkdir(\"newdir\")\n",
    "```\n",
    "## Running system commands\n",
    "Finally, the os module provides functions for running system commands. For example, you can use the os.system function to run a command and get the output:\n",
    "\n",
    "```python\n",
    "import os\n",
    "\n",
    "# Run the \"ls\" command and print the output\n",
    "output = os.system(\"ls\")\n",
    "print(output)  # Output: ['myfile.txt', 'otherfile.txt']\n",
    "```\n",
    "You can also use the os.popen function to run a command and get the output as a file-like object:\n",
    "\n",
    "```python\n",
    "import os\n",
    "\n",
    "# Run the \"ls\" command and get the output as a file-like object\n",
    "f = os.popen(\"ls\")\n",
    "\n",
    "# Read the contents of the output\n",
    "output = f.read()\n",
    "print(output)  # Output: ['myfile.txt', 'otherfile.txt']\n",
    "\n",
    "# Close the file-like object\n",
    "f.close()\n",
    "```\n",
    "In summary, the os module in Python is a built-in library that provides a wide variety of functions for interacting with the operating system. It allows you to perform tasks such as reading and writing files, interacting with the file system, and running system commands.\n",
    "## [Next Lesson>>](https://replit.com/@codewithharry/47-Day47-Exercise-4-Solution)"
   ]
  },
  {
   "cell_type": "code",
   "execution_count": 1,
   "metadata": {},
   "outputs": [],
   "source": [
    "import os\n",
    "\n",
    "if(not os.path.exists(\"data\")):\n",
    "    os.mkdir(\"data\")\n",
    "\n",
    "for i in range(0, 100):\n",
    "    os.mkdir(f\"data/Day{i+1}\")\n",
    "    \n"
   ]
  },
  {
   "cell_type": "code",
   "execution_count": 2,
   "metadata": {},
   "outputs": [
    {
     "name": "stdout",
     "output_type": "stream",
     "text": [
      "g:\\Python\\100-days-of-code-youtube-main\\Codes\n"
     ]
    },
    {
     "ename": "FileNotFoundError",
     "evalue": "[WinError 2] The system cannot find the file specified: '/Users'",
     "output_type": "error",
     "traceback": [
      "\u001b[1;31m---------------------------------------------------------------------------\u001b[0m",
      "\u001b[1;31mFileNotFoundError\u001b[0m                         Traceback (most recent call last)",
      "Cell \u001b[1;32mIn[2], line 5\u001b[0m\n\u001b[0;32m      2\u001b[0m folders \u001b[38;5;241m=\u001b[39m os\u001b[38;5;241m.\u001b[39mlistdir(\u001b[38;5;124m\"\u001b[39m\u001b[38;5;124mdata\u001b[39m\u001b[38;5;124m\"\u001b[39m)\n\u001b[0;32m      4\u001b[0m \u001b[38;5;28mprint\u001b[39m(os\u001b[38;5;241m.\u001b[39mgetcwd())\n\u001b[1;32m----> 5\u001b[0m os\u001b[38;5;241m.\u001b[39mchdir(\u001b[38;5;124m\"\u001b[39m\u001b[38;5;124m/Users\u001b[39m\u001b[38;5;124m\"\u001b[39m)\n\u001b[0;32m      6\u001b[0m \u001b[38;5;28mprint\u001b[39m(os\u001b[38;5;241m.\u001b[39mgetcwd())\n\u001b[0;32m      8\u001b[0m \u001b[38;5;28;01mfor\u001b[39;00m folder \u001b[38;5;129;01min\u001b[39;00m folders:\n",
      "\u001b[1;31mFileNotFoundError\u001b[0m: [WinError 2] The system cannot find the file specified: '/Users'"
     ]
    }
   ],
   "source": [
    "import os \n",
    "folders = os.listdir(\"data\")\n",
    "\n",
    "print(os.getcwd())\n",
    "os.chdir(\"/Users\")\n",
    "print(os.getcwd())\n",
    "\n",
    "for folder in folders:\n",
    "    print(folder)\n",
    "    print(os.listdir(f\"data/{folder}\"))\n",
    "    "
   ]
  },
  {
   "cell_type": "code",
   "execution_count": 3,
   "metadata": {},
   "outputs": [
    {
     "ename": "FileNotFoundError",
     "evalue": "[WinError 2] The system cannot find the file specified: 'data/Tutorial1' -> 'data/Tutorial 1'",
     "output_type": "error",
     "traceback": [
      "\u001b[1;31m---------------------------------------------------------------------------\u001b[0m",
      "\u001b[1;31mFileNotFoundError\u001b[0m                         Traceback (most recent call last)",
      "Cell \u001b[1;32mIn[3], line 5\u001b[0m\n\u001b[0;32m      1\u001b[0m \u001b[38;5;28;01mimport\u001b[39;00m \u001b[38;5;21;01mos\u001b[39;00m\n\u001b[0;32m      4\u001b[0m \u001b[38;5;28;01mfor\u001b[39;00m i \u001b[38;5;129;01min\u001b[39;00m \u001b[38;5;28mrange\u001b[39m(\u001b[38;5;241m0\u001b[39m, \u001b[38;5;241m100\u001b[39m):\n\u001b[1;32m----> 5\u001b[0m     os\u001b[38;5;241m.\u001b[39mrename(\u001b[38;5;124mf\u001b[39m\u001b[38;5;124m\"\u001b[39m\u001b[38;5;124mdata/Tutorial\u001b[39m\u001b[38;5;132;01m{\u001b[39;00mi\u001b[38;5;241m+\u001b[39m\u001b[38;5;241m1\u001b[39m\u001b[38;5;132;01m}\u001b[39;00m\u001b[38;5;124m\"\u001b[39m, \u001b[38;5;124mf\u001b[39m\u001b[38;5;124m\"\u001b[39m\u001b[38;5;124mdata/Tutorial \u001b[39m\u001b[38;5;132;01m{\u001b[39;00mi\u001b[38;5;241m+\u001b[39m\u001b[38;5;241m1\u001b[39m\u001b[38;5;132;01m}\u001b[39;00m\u001b[38;5;124m\"\u001b[39m)\n",
      "\u001b[1;31mFileNotFoundError\u001b[0m: [WinError 2] The system cannot find the file specified: 'data/Tutorial1' -> 'data/Tutorial 1'"
     ]
    }
   ],
   "source": [
    "import os\n",
    " \n",
    "\n",
    "for i in range(0, 100):\n",
    "    os.rename(f\"data/Tutorial{i+1}\", f\"data/Tutorial {i+1}\")\n",
    "    \n"
   ]
  },
  {
   "cell_type": "code",
   "execution_count": null,
   "metadata": {},
   "outputs": [],
   "source": []
  },
  {
   "cell_type": "code",
   "execution_count": 4,
   "metadata": {},
   "outputs": [],
   "source": [
    "import os"
   ]
  },
  {
   "cell_type": "code",
   "execution_count": 5,
   "metadata": {},
   "outputs": [],
   "source": [
    "os.mkdir(f\"os_sample\")\n"
   ]
  },
  {
   "cell_type": "code",
   "execution_count": 6,
   "metadata": {},
   "outputs": [],
   "source": [
    "os.mkdir(f\"os_sample/test2.py\")"
   ]
  },
  {
   "cell_type": "code",
   "execution_count": 7,
   "metadata": {},
   "outputs": [
    {
     "ename": "FileNotFoundError",
     "evalue": "[WinError 3] The system cannot find the path specified: 'os_file/test.txt' -> 'os_file/test1.txt'",
     "output_type": "error",
     "traceback": [
      "\u001b[1;31m---------------------------------------------------------------------------\u001b[0m",
      "\u001b[1;31mFileNotFoundError\u001b[0m                         Traceback (most recent call last)",
      "Cell \u001b[1;32mIn[7], line 1\u001b[0m\n\u001b[1;32m----> 1\u001b[0m os\u001b[38;5;241m.\u001b[39mrename(\u001b[38;5;124mf\u001b[39m\u001b[38;5;124m\"\u001b[39m\u001b[38;5;124mos_file/test.txt\u001b[39m\u001b[38;5;124m\"\u001b[39m, \u001b[38;5;124mf\u001b[39m\u001b[38;5;124m\"\u001b[39m\u001b[38;5;124mos_file/test1.txt\u001b[39m\u001b[38;5;124m\"\u001b[39m)\n",
      "\u001b[1;31mFileNotFoundError\u001b[0m: [WinError 3] The system cannot find the path specified: 'os_file/test.txt' -> 'os_file/test1.txt'"
     ]
    }
   ],
   "source": [
    "os.rename(f\"os_file/test.txt\", f\"os_file/test1.txt\")"
   ]
  },
  {
   "cell_type": "code",
   "execution_count": null,
   "metadata": {},
   "outputs": [],
   "source": []
  }
 ],
 "metadata": {
  "kernelspec": {
   "display_name": "base",
   "language": "python",
   "name": "python3"
  },
  "language_info": {
   "codemirror_mode": {
    "name": "ipython",
    "version": 3
   },
   "file_extension": ".py",
   "mimetype": "text/x-python",
   "name": "python",
   "nbconvert_exporter": "python",
   "pygments_lexer": "ipython3",
   "version": "3.11.7"
  }
 },
 "nbformat": 4,
 "nbformat_minor": 2
}
