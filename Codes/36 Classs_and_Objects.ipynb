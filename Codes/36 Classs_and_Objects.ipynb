{
 "cells": [
  {
   "cell_type": "markdown",
   "metadata": {},
   "source": [
    "# Python Class and Objects\n",
    "A class is a blueprint or a template for creating objects, providing initial values for state (member variables or attributes), and implementations of behavior (member functions or methods). The user-defined objects are created using the class keyword.\n",
    " \n",
    "\n",
    "## Creating a Class:\n",
    "Let us now create a class using the class keyword.\n",
    " \n",
    "```python\n",
    "class Details:\n",
    "    name = \"Rohan\"\n",
    "    age = 20\n",
    " ```\n",
    "\n",
    "## Creating an Object:\n",
    "Object is the instance of the class used to access the properties of the class\n",
    "Now lets create an object of the class.\n",
    "\n",
    "### Example:\n",
    "```python\n",
    "obj1 = Details() \n",
    "```\n",
    "\n",
    "Now we can print values:\n",
    "\n",
    "### Example:\n",
    "```python\n",
    "class Details:\n",
    "    name = \"Rohan\"\n",
    "    age = 20\n",
    "\n",
    "obj1 = Details()\n",
    "print(obj1.name)\n",
    "print(obj1.age)\n",
    "```\n",
    "### Output:\n",
    "```\n",
    "Rohan\n",
    "20\n",
    "```"
   ]
  },
  {
   "cell_type": "markdown",
   "metadata": {},
   "source": [
    "# self parameter\n",
    "The self parameter is a reference to the current instance of the class, and is used to access variables that belongs to the class.\n",
    "\n",
    "It must be provided as the extra parameter inside the method definition. \n",
    "\n",
    " \n",
    "\n",
    "## Example:\n",
    "```python\n",
    "class Details:\n",
    "    name = \"Rohan\"\n",
    "    age = 20\n",
    "\n",
    "    def desc(self):\n",
    "        print(\"My name is\", self.name, \"and I'm\", self.age, \"years old.\")\n",
    "\n",
    "obj1 = Details()\n",
    "obj1.desc()\n",
    " \n",
    "```\n",
    "## Output:\n",
    "```\n",
    "My name is Rohan and I'm 20 years old.\n",
    "```\n",
    "## [Next Lesson>>](https://replit.com/@codewithharry/58-Day58-Constructors)"
   ]
  },
  {
   "cell_type": "code",
   "execution_count": 2,
   "metadata": {},
   "outputs": [
    {
     "name": "stdout",
     "output_type": "stream",
     "text": [
      "Shubham is a Accountant\n",
      "Nitika is a HR\n",
      "Harry is a Software Developer\n"
     ]
    }
   ],
   "source": [
    "class Person:\n",
    "  name = \"Harry\"\n",
    "  occupation = \"Software Developer\"\n",
    "  networth = 10\n",
    "  def info(self):\n",
    "    print(f\"{self.name} is a {self.occupation}\")\n",
    "\n",
    "\n",
    "a = Person()\n",
    "b = Person()\n",
    "c = Person()\n",
    "\n",
    "a.name = \"Shubham\"\n",
    "a.occupation = \"Accountant\"\n",
    "\n",
    "b.name = \"Nitika\"\n",
    "b.occupation = \"HR\"\n",
    "\n",
    "# print(a.name, a.occupation)\n",
    "a.info()\n",
    "b.info()\n",
    "c.info()\n"
   ]
  },
  {
   "cell_type": "markdown",
   "metadata": {},
   "source": [
    "# Python Class Methods\n",
    "## Python Class Methods: An Introduction\n",
    "\n",
    "In Python, classes are a way to define custom data types that can store data and define functions that can manipulate that data. One type of function that can be defined within a class is called a \"method.\" In this blog post, we will explore what Python class methods are, why they are useful, and how to use them.\n",
    "\n",
    "## What are Python Class Methods?\n",
    "\n",
    "A class method is a type of method that is bound to the class and not the instance of the class. In other words, it operates on the class as a whole, rather than on a specific instance of the class. Class methods are defined using the \"@classmethod\" decorator, followed by a function definition. The first argument of the function is always \"cls,\" which represents the class itself.\n",
    "\n",
    "## Why Use Python Class Methods?\n",
    "\n",
    "Class methods are useful in several situations. For example, you might want to create a factory method that creates instances of your class in a specific way. You could define a class method that creates the instance and returns it to the caller. Another common use case is to provide alternative constructors for your class. This can be useful if you want to create instances of your class in multiple ways, but still have a consistent interface for doing so.\n",
    "\n",
    "## How to Use Python Class Methods\n",
    "\n",
    "To define a class method, you simply use the \"@classmethod\" decorator before the method definition. The first argument of the method should always be \"cls,\" which represents the class itself. Here is an example of how to define a class method:\n",
    "```python\n",
    "class ExampleClass:\n",
    "    @classmethod\n",
    "    def factory_method(cls, argument1, argument2):\n",
    "        return cls(argument1, argument2)\n",
    "```\n",
    "\n",
    "In this example, the \"factory_method\" is a class method that takes two arguments, \"argument1\" and \"argument2.\" It creates a new instance of the class \"ExampleClass\" using the \"cls\" keyword, and returns the new instance to the caller.\n",
    "\n",
    "It's important to note that class methods cannot modify the class in any way. If you need to modify the class, you should use a class level variable instead.\n",
    "\n",
    "## Conclusion\n",
    "\n",
    "Python class methods are a powerful tool for defining functions that operate on the class as a whole, rather than on a specific instance of the class. They are useful for creating factory methods, alternative constructors, and other types of methods that operate at the class level. With the knowledge of how to define and use class methods, you can start writing more complex and organized code in Python.\n",
    "## [Next Lesson>>](https://replit.com/@codewithharry/70-Day-70-Class-methods-as-alternative-constructors)"
   ]
  },
  {
   "cell_type": "code",
   "execution_count": 3,
   "metadata": {},
   "outputs": [
    {
     "name": "stdout",
     "output_type": "stream",
     "text": [
      "The name is Harry and company is Apple\n",
      "The name is Harry and company is Tesla\n",
      "Tesla\n"
     ]
    }
   ],
   "source": [
    "class Employee:\n",
    "  company = \"Apple\"\n",
    "  def show(self):\n",
    "    print(f\"The name is {self.name} and company is {self.company}\")\n",
    "\n",
    "  @classmethod\n",
    "  def changeCompany(cls, newCompany):\n",
    "    cls.company = newCompany\n",
    "\n",
    "\n",
    "e1 = Employee()\n",
    "e1.name = \"Harry\"\n",
    "e1.show()\n",
    "e1.changeCompany(\"Tesla\")\n",
    "e1.show()\n",
    "print(Employee.company)"
   ]
  },
  {
   "cell_type": "markdown",
   "metadata": {},
   "source": [
    "# Class Methods as Alternative Constructors\n",
    "\n",
    "In object-oriented programming, the term \"constructor\" refers to a special type of method that is automatically executed when an object is created from a class. The purpose of a constructor is to initialize the object's attributes, allowing the object to be fully functional and ready to use.\n",
    "\n",
    "However, there are times when you may want to create an object in a different way, or with different initial values, than what is provided by the default constructor. This is where class methods can be used as alternative constructors.\n",
    "\n",
    "A class method belongs to the class rather than to an instance of the class. One common use case for class methods as alternative constructors is when you want to create an object from data that is stored in a different format, such as a string or a dictionary. For example, consider a class named \"Person\" that has two attributes: \"name\" and \"age\". The default constructor for the class might look like this:\n",
    "\n",
    "```python\n",
    "class Person:\n",
    "    def __init__(self, name, age):\n",
    "        self.name = name\n",
    "        self.age = age\n",
    "```\n",
    "\n",
    "But what if you want to create a Person object from a string that contains the person's name and age, separated by a comma? You can define a class method named \"from_string\" to do this:\n",
    "```python\n",
    "class Person:\n",
    "    def __init__(self, name, age):\n",
    "        self.name = name\n",
    "        self.age = age\n",
    "\n",
    "    @classmethod\n",
    "    def from_string(cls, string):\n",
    "        name, age = string.split(',')\n",
    "        return cls(name, int(age))\n",
    "```\n",
    "Now you can create a Person object from a string like this:\n",
    "```python \n",
    "person = Person.from_string(\"John Doe, 30\")\n",
    "```\n",
    "\n",
    "Another common use case for class methods as alternative constructors is when you want to create an object with a different set of default values than what is provided by the default constructor. For example, consider a class named \"Rectangle\" that has two attributes: \"width\" and \"height\". The default constructor for the class might look like this:\n",
    "```python\n",
    "class Rectangle:\n",
    "    def __init__(self, width, height):\n",
    "        self.width = width\n",
    "        self.height = height\n",
    "\n",
    "```\n",
    "But what if you want to create a Rectangle object with a default width of 10 and a default height of 5? You can define a class method named \"square\" to do this:\n",
    "```python\n",
    "class Rectangle:\n",
    "  def __init__(self, width, height):\n",
    "    self.width = width\n",
    "    self.height = height\n",
    "\n",
    "  @classmethod\n",
    "  def square(cls, size):\n",
    "    return cls(size, size)\n",
    "```\n",
    "Now you can create a square rectangle like this:\n",
    "\n",
    "```python\n",
    "rectangle = Rectangle.square(10)\n",
    "```\n",
    "## [Next Lesson>>](https://replit.com/@codewithharry/71-Day-71-dir-dict-and-help-methods)"
   ]
  },
  {
   "cell_type": "code",
   "execution_count": 4,
   "metadata": {},
   "outputs": [
    {
     "name": "stdout",
     "output_type": "stream",
     "text": [
      "Harry\n",
      "12000\n",
      "John\n",
      "12000\n",
      "John Doe 30\n"
     ]
    }
   ],
   "source": [
    "class Employee:\n",
    "  def __init__(self, name, salary):\n",
    "    self.name = name \n",
    "    self.salary = salary\n",
    "    \n",
    "  @classmethod\n",
    "  def fromStr(cls, string):\n",
    "    return cls(string.split(\"-\")[0], int(string.split(\"-\")[1]))\n",
    "    \n",
    "e1 = Employee(\"Harry\", 12000)\n",
    "print(e1.name)\n",
    "print(e1.salary)\n",
    "\n",
    "string = \"John-12000\"\n",
    "e2 = Employee.fromStr(string)\n",
    "print(e2.name)\n",
    "print(e2.salary)\n",
    "\n",
    "class Person:\n",
    "    def __init__(self, name, age):\n",
    "        self.name = name\n",
    "        self.age = age\n",
    "\n",
    "    @classmethod\n",
    "    def from_string(cls, string):\n",
    "        name, age = string.split(',')\n",
    "        return cls(name, int(age))\n",
    "\n",
    "person = Person.from_string(\"John Doe, 30\")\n",
    "print(person.name, person.age)"
   ]
  },
  {
   "cell_type": "markdown",
   "metadata": {},
   "source": [
    "# Super keyword in Python \n",
    "The super() keyword in Python is used to refer to the parent class. It is especially useful when a class inherits from multiple parent classes and you want to call a method from one of the parent classes.\n",
    "\n",
    "When a class inherits from a parent class, it can override or extend the methods defined in the parent class. However, sometimes you might want to use the parent class method in the child class. This is where the super() keyword comes in handy.\n",
    "\n",
    "\n",
    "Here's an example of how to use the super() keyword in a simple inheritance scenario:\n",
    "\n",
    "```python\n",
    "class ParentClass:\n",
    "    def parent_method(self):\n",
    "        print(\"This is the parent method.\")\n",
    "\n",
    "class ChildClass(ParentClass):\n",
    "    def child_method(self):\n",
    "        print(\"This is the child method.\")\n",
    "        super().parent_method()\n",
    "\n",
    "child_object = ChildClass()\n",
    "child_object.child_method()\n",
    "```\n",
    "## Output:\n",
    "\n",
    "```python \n",
    "This is the child method.\n",
    "This is the parent method.\n",
    "  ```\n",
    "In this example, we have a ParentClass with a parent_method and a ChildClass that inherits from ParentClass and overrides the child_method. When the child_method is called, it first prints \"This is the child method.\" and then calls the parent_method using the super() keyword.\n",
    "\n",
    "The super() keyword is also useful when a class inherits from multiple parent classes. In this case, you can specify the parent class from which you want to call the method.\n",
    "\n",
    "Here's an example:\n",
    "\n",
    "```python\n",
    "class ParentClass1:\n",
    "    def parent_method(self):\n",
    "        print(\"This is the parent method of ParentClass1.\")\n",
    "\n",
    "class ParentClass2:\n",
    "    def parent_method(self):\n",
    "        print(\"This is the parent method of ParentClass2.\")\n",
    "\n",
    "class ChildClass(ParentClass1, ParentClass2):\n",
    "    def child_method(self):\n",
    "        print(\"This is the child method.\")\n",
    "        super().parent_method()\n",
    "\n",
    "child_object = ChildClass()\n",
    "child_object.child_method()\n",
    "```\n",
    "### Output:\n",
    "```python \n",
    "This is the child method.\n",
    "This is the parent method of ParentClass1.\n",
    "```\n",
    "In this example, the ChildClass inherits from both ParentClass1 and ParentClass2. The child_method calls the parent_method of the first parent class using the super() keyword.\n",
    "\n",
    "In conclusion, the super() keyword is a useful tool in Python when you want to call a parent class method in a child class. It can be used in inheritance scenarios with a single parent class or multiple parent classes.\n",
    "## [Next Lesson>>](https://replit.com/@codewithharry/73-Day-73-MagicDunder-Methods)"
   ]
  },
  {
   "cell_type": "code",
   "execution_count": 5,
   "metadata": {},
   "outputs": [
    {
     "name": "stdout",
     "output_type": "stream",
     "text": [
      "Harry\n",
      "2345\n",
      "Python\n"
     ]
    }
   ],
   "source": [
    "class Employee:\n",
    "  def __init__(self, name, id):\n",
    "    self.name = name\n",
    "    self.id = id\n",
    "\n",
    "class Programmer(Employee):\n",
    "  def __init__(self, name, id, lang):\n",
    "    super().__init__( name, id)\n",
    "    self.lang = lang\n",
    "\n",
    "rohan = Employee(\"Rohan Das\", \"420\")\n",
    "harry = Programmer(\"Harry\", \"2345\", \"Python\")\n",
    "print(harry.name)\n",
    "print(harry.id)\n",
    "print(harry.lang)"
   ]
  },
  {
   "cell_type": "code",
   "execution_count": 6,
   "metadata": {},
   "outputs": [],
   "source": [
    "## Base Class\n",
    "class ClassName:\n",
    "    test_var = (1,2,3)\n",
    "    another_var = 'none'"
   ]
  },
  {
   "cell_type": "code",
   "execution_count": 7,
   "metadata": {},
   "outputs": [
    {
     "name": "stdout",
     "output_type": "stream",
     "text": [
      "(1, 2, 3)\n"
     ]
    }
   ],
   "source": [
    "## create instance\n",
    "test = ClassName()\n",
    "print(test.test_var)"
   ]
  },
  {
   "cell_type": "code",
   "execution_count": 8,
   "metadata": {},
   "outputs": [
    {
     "name": "stdout",
     "output_type": "stream",
     "text": [
      "none\n",
      "not value\n"
     ]
    }
   ],
   "source": [
    "print(test.another_var)\n",
    "test.another_var = 'not value'\n",
    "print(test.another_var)"
   ]
  },
  {
   "cell_type": "code",
   "execution_count": 9,
   "metadata": {},
   "outputs": [
    {
     "name": "stdout",
     "output_type": "stream",
     "text": [
      "none\n"
     ]
    }
   ],
   "source": [
    "test2 = ClassName()\n",
    "print(test2.another_var)"
   ]
  },
  {
   "cell_type": "markdown",
   "metadata": {},
   "source": [
    "Self reffers to any instance of the class and must be first parameter for all methods\n",
    "it allow you to target attributes everywhere within the class"
   ]
  },
  {
   "cell_type": "code",
   "execution_count": 10,
   "metadata": {},
   "outputs": [],
   "source": [
    "class TestClass:\n",
    "    test_var = (1,2,3)\n",
    "    another_var = 'something'\n",
    "    def test_func(self):\n",
    "        print('function in class')\n",
    "        print(self.test_var)\n",
    "        self.another_func('123')\n",
    "    def another_func(self, test_param):\n",
    "        print(test_param)\n"
   ]
  },
  {
   "cell_type": "code",
   "execution_count": 11,
   "metadata": {},
   "outputs": [
    {
     "name": "stdout",
     "output_type": "stream",
     "text": [
      "something\n"
     ]
    }
   ],
   "source": [
    "test = TestClass()\n",
    "print(test.another_var)"
   ]
  },
  {
   "cell_type": "code",
   "execution_count": 12,
   "metadata": {},
   "outputs": [
    {
     "data": {
      "text/plain": [
       "<bound method TestClass.test_func of <__main__.TestClass object at 0x000001ABEFC3D590>>"
      ]
     },
     "execution_count": 12,
     "metadata": {},
     "output_type": "execute_result"
    }
   ],
   "source": [
    "test.test_func\n",
    "#print(test.test_func)"
   ]
  },
  {
   "cell_type": "code",
   "execution_count": 13,
   "metadata": {},
   "outputs": [
    {
     "name": "stdout",
     "output_type": "stream",
     "text": [
      "test\n",
      "None\n"
     ]
    }
   ],
   "source": [
    "print(test.another_func('test'))"
   ]
  },
  {
   "cell_type": "markdown",
   "metadata": {},
   "source": [
    "Variable in class are attributes\n",
    "\n",
    "Functions in class are methods"
   ]
  },
  {
   "cell_type": "markdown",
   "metadata": {},
   "source": [
    "### Dunder Methods (__init__,__len__,etc)\n",
    "__init__ is run when an instance of class is created\n",
    "__len__ gets called when the instance is passed into the len function\n"
   ]
  },
  {
   "cell_type": "code",
   "execution_count": 14,
   "metadata": {},
   "outputs": [],
   "source": [
    "# mage class\n",
    "class Mage:\n",
    "    def __init__(self,health,mana) :\n",
    "        self.health = health\n",
    "        self.mana = mana\n",
    "        print('mage class created')\n",
    "        "
   ]
  },
  {
   "cell_type": "code",
   "execution_count": 15,
   "metadata": {},
   "outputs": [
    {
     "ename": "TypeError",
     "evalue": "Mage.__init__() missing 2 required positional arguments: 'health' and 'mana'",
     "output_type": "error",
     "traceback": [
      "\u001b[1;31m---------------------------------------------------------------------------\u001b[0m",
      "\u001b[1;31mTypeError\u001b[0m                                 Traceback (most recent call last)",
      "Cell \u001b[1;32mIn[15], line 1\u001b[0m\n\u001b[1;32m----> 1\u001b[0m mage \u001b[38;5;241m=\u001b[39m Mage()\n",
      "\u001b[1;31mTypeError\u001b[0m: Mage.__init__() missing 2 required positional arguments: 'health' and 'mana'"
     ]
    }
   ],
   "source": [
    "mage = Mage()"
   ]
  },
  {
   "cell_type": "code",
   "execution_count": 16,
   "metadata": {},
   "outputs": [],
   "source": [
    "class Mage:\n",
    "    def __init__(self,health,mana) :\n",
    "        self.health = health\n",
    "        self.mana = mana\n",
    "        print('mage class created')\n",
    "        #print(self.health)"
   ]
  },
  {
   "cell_type": "code",
   "execution_count": 17,
   "metadata": {},
   "outputs": [
    {
     "name": "stdout",
     "output_type": "stream",
     "text": [
      "mage class created\n",
      "<__main__.Mage object at 0x000001ABEFC7B850>\n"
     ]
    }
   ],
   "source": [
    "mage = Mage(100,200)\n",
    "print(mage)"
   ]
  },
  {
   "cell_type": "code",
   "execution_count": 18,
   "metadata": {},
   "outputs": [],
   "source": [
    "class Mage:\n",
    "    def __init__(self,health,mana) :\n",
    "        self.health = health\n",
    "        self.mana = mana\n",
    "        print('mage class created')\n",
    "        print(self.health)\n",
    "    def __len__(self):\n",
    "        return self.mana"
   ]
  },
  {
   "cell_type": "code",
   "execution_count": 19,
   "metadata": {},
   "outputs": [
    {
     "name": "stdout",
     "output_type": "stream",
     "text": [
      "mage class created\n",
      "100\n",
      "200\n"
     ]
    }
   ],
   "source": [
    "mage = Mage(100,200)\n",
    "print(len(mage))"
   ]
  },
  {
   "cell_type": "code",
   "execution_count": 20,
   "metadata": {},
   "outputs": [],
   "source": [
    "class Mage:\n",
    "    def __init__(self,health,mana) :\n",
    "        self.health = health\n",
    "        self.mana = mana\n",
    "        print('mage class created')\n",
    "        print(self.health)\n",
    "    def attack(self, target):\n",
    "        target.health -= 10\n",
    "\n",
    "class Monster:\n",
    "    health = 40"
   ]
  },
  {
   "cell_type": "code",
   "execution_count": 21,
   "metadata": {},
   "outputs": [
    {
     "name": "stdout",
     "output_type": "stream",
     "text": [
      "mage class created\n",
      "200\n",
      "40\n",
      "30\n"
     ]
    }
   ],
   "source": [
    "mage = Mage(200,100)\n",
    "monster = Monster()\n",
    "print(monster.health)\n",
    "mage.attack(monster)\n",
    "print(monster.health)"
   ]
  },
  {
   "cell_type": "markdown",
   "metadata": {},
   "source": [
    "##### Inheritance\n",
    "With in heritance class can get the methonds and attributes of another class"
   ]
  },
  {
   "cell_type": "code",
   "execution_count": 22,
   "metadata": {},
   "outputs": [],
   "source": [
    "class Warrior:\n",
    "    def __init__(self,health):\n",
    "        self.health = health\n",
    "    \n",
    "    def attack(self):\n",
    "        print('attack')\n",
    "class Barbarion:\n",
    "    def __init__(self,health):\n",
    "        self.health = health\n",
    "    \n",
    "    def attack(self):\n",
    "        print('attack')"
   ]
  },
  {
   "cell_type": "code",
   "execution_count": 23,
   "metadata": {},
   "outputs": [
    {
     "name": "stdout",
     "output_type": "stream",
     "text": [
      "attack\n",
      "attack\n"
     ]
    }
   ],
   "source": [
    "warrior = Warrior(50)\n",
    "barbarion = Barbarion(100)\n",
    "warrior.attack()\n",
    "barbarion.attack()"
   ]
  },
  {
   "cell_type": "code",
   "execution_count": 24,
   "metadata": {},
   "outputs": [],
   "source": [
    "class human:\n",
    "    def attack(self):\n",
    "        print('attack')\n",
    "class Warrior(human):\n",
    "    def __init__(self,health):\n",
    "        self.health = health\n",
    "\n",
    "class Barbarion(human):\n",
    "    def __init__(self,health):\n",
    "        self.health = health"
   ]
  },
  {
   "cell_type": "code",
   "execution_count": 25,
   "metadata": {},
   "outputs": [
    {
     "name": "stdout",
     "output_type": "stream",
     "text": [
      "attack\n",
      "attack\n"
     ]
    }
   ],
   "source": [
    "warrior = Warrior(50)\n",
    "barbarion = Barbarion(100)\n",
    "warrior.attack()\n",
    "barbarion.attack()"
   ]
  },
  {
   "cell_type": "code",
   "execution_count": 26,
   "metadata": {},
   "outputs": [],
   "source": [
    "class Human:\n",
    "    def __init__(self, health):\n",
    "        self.health = health\n",
    "   \n",
    "    def attack(self):\n",
    "        print('attack')\n",
    "\n",
    "class Warrior(Human):\n",
    "    def __init__(self,health, defence):\n",
    "        #super().__init__(health)\n",
    "        self.defense = defence\n",
    "\n",
    "class Barbarion(Human):\n",
    "    def __init__(self,health, damage):\n",
    "        #super().__init__(health)\n",
    "        self.damage = damage"
   ]
  },
  {
   "cell_type": "code",
   "execution_count": 27,
   "metadata": {},
   "outputs": [
    {
     "name": "stdout",
     "output_type": "stream",
     "text": [
      "attack\n",
      "attack\n"
     ]
    },
    {
     "ename": "AttributeError",
     "evalue": "'Warrior' object has no attribute 'health'",
     "output_type": "error",
     "traceback": [
      "\u001b[1;31m---------------------------------------------------------------------------\u001b[0m",
      "\u001b[1;31mAttributeError\u001b[0m                            Traceback (most recent call last)",
      "Cell \u001b[1;32mIn[27], line 5\u001b[0m\n\u001b[0;32m      3\u001b[0m warrior\u001b[38;5;241m.\u001b[39mattack()\n\u001b[0;32m      4\u001b[0m barbarion\u001b[38;5;241m.\u001b[39mattack()\n\u001b[1;32m----> 5\u001b[0m \u001b[38;5;28mprint\u001b[39m(warrior\u001b[38;5;241m.\u001b[39mhealth)\n",
      "\u001b[1;31mAttributeError\u001b[0m: 'Warrior' object has no attribute 'health'"
     ]
    }
   ],
   "source": [
    "warrior = Warrior(50,5.5)\n",
    "barbarion = Barbarion(100,8.1)\n",
    "warrior.attack()\n",
    "barbarion.attack()\n",
    "print(warrior.health)"
   ]
  },
  {
   "cell_type": "markdown",
   "metadata": {},
   "source": [
    "###### Exercise\n",
    "Create a Monster Class where you can set a health and damage attribute on creation.\n",
    "\n",
    "It should also inherit from a entity class to get an attack method (that prints 'attack' & the damage ammount)\n",
    "\n",
    "Do some research so that when an instance of the class is printed it returns 'a monster with (health)hp'"
   ]
  },
  {
   "cell_type": "code",
   "execution_count": 28,
   "metadata": {},
   "outputs": [],
   "source": [
    "class entity:\n",
    "    def attack(self):\n",
    "        print(f'attack with {self.damage} damage')\n",
    "class Monster(entity):\n",
    "    def __init__(self, health, damage):\n",
    "        self.health = health\n",
    "        self.damage = damage\n",
    "    def __repr__(self):\n",
    "        return f'a monster with {self.health} hp'"
   ]
  },
  {
   "cell_type": "code",
   "execution_count": 29,
   "metadata": {},
   "outputs": [
    {
     "name": "stdout",
     "output_type": "stream",
     "text": [
      "100\n",
      "attack with 10 damage\n",
      "a monster with 100 hp\n"
     ]
    }
   ],
   "source": [
    "monster = Monster(100,10)\n",
    "print(monster.health)\n",
    "monster.attack()\n",
    "print(monster)"
   ]
  },
  {
   "cell_type": "markdown",
   "metadata": {},
   "source": [
    "#### More "
   ]
  },
  {
   "cell_type": "code",
   "execution_count": 30,
   "metadata": {},
   "outputs": [],
   "source": [
    "class Person:\n",
    "    name = \"Hrishi\"\n",
    "    Occupation = \"Software Engineer\"\n",
    "    networth = 4\n",
    "    def info(self):\n",
    "        print(f\"{self.name} is a {self.Occupation}\")\n",
    "    "
   ]
  },
  {
   "cell_type": "code",
   "execution_count": 31,
   "metadata": {},
   "outputs": [],
   "source": [
    "a = Person()\n",
    "b = Person()\n",
    "c = Person()\n"
   ]
  },
  {
   "cell_type": "code",
   "execution_count": 32,
   "metadata": {},
   "outputs": [
    {
     "name": "stdout",
     "output_type": "stream",
     "text": [
      "Harshal is a Analyst\n"
     ]
    }
   ],
   "source": [
    "a.name = \"Harshal\"\n",
    "a.Occupation = \"Analyst\"\n",
    "a.networth = 6 \n",
    "a.info()"
   ]
  },
  {
   "cell_type": "code",
   "execution_count": 33,
   "metadata": {},
   "outputs": [
    {
     "name": "stdout",
     "output_type": "stream",
     "text": [
      "Shreya is a student\n"
     ]
    }
   ],
   "source": [
    "b.name = \"Shreya\"\n",
    "b.Occupation = \"student\"\n",
    "b.networth = 0 \n",
    "b.info()"
   ]
  },
  {
   "cell_type": "code",
   "execution_count": 34,
   "metadata": {},
   "outputs": [
    {
     "name": "stdout",
     "output_type": "stream",
     "text": [
      "Hrishi is a Software Engineer\n"
     ]
    }
   ],
   "source": [
    "c.info()"
   ]
  },
  {
   "cell_type": "code",
   "execution_count": null,
   "metadata": {},
   "outputs": [],
   "source": []
  }
 ],
 "metadata": {
  "kernelspec": {
   "display_name": "base",
   "language": "python",
   "name": "python3"
  },
  "language_info": {
   "codemirror_mode": {
    "name": "ipython",
    "version": 3
   },
   "file_extension": ".py",
   "mimetype": "text/x-python",
   "name": "python",
   "nbconvert_exporter": "python",
   "pygments_lexer": "ipython3",
   "version": "3.11.7"
  }
 },
 "nbformat": 4,
 "nbformat_minor": 2
}
