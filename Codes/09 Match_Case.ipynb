{
 "cells": [
  {
   "cell_type": "markdown",
   "metadata": {},
   "source": [
    "# Match Case Statements\n",
    "To implement switch-case like characteristics very similar to if-else functionality, we use a match case in python. If you are coming from a C, C++ or Java like language, you must have heard of switch-case statements. If this is your first language, dont worry as I will tell you everything you need to know about match case statements in this video!\n",
    "\n",
    "A match statement will compare a given variable’s value to different shapes, also referred to as the pattern. The main idea is to keep on comparing the variable with all the present patterns until it fits into one.\n",
    "\n",
    "The match case consists of three main entities :\n",
    "\n",
    "1. The match keyword\n",
    "2. One or more case clauses\n",
    "3. Expression for each case\n",
    "\n",
    "The case clause consists of a pattern to be matched to the variable, a condition to be evaluated if the pattern matches, and a set of statements to be executed if the pattern matches.\n",
    "## Syntax:\n",
    "```python\n",
    "match variable_name:\n",
    "            case ‘pattern1’ : //statement1\n",
    "            case ‘pattern2’ : //statement2\n",
    "            …            \n",
    "            case ‘pattern n’ : //statement n\n",
    "```\n",
    "### Example:\n",
    "```python\n",
    "x = 4\n",
    "# x is the variable to match\n",
    "match x:\n",
    "    # if x is 0\n",
    "    case 0:\n",
    "        print(\"x is zero\")\n",
    "    # case with if-condition\n",
    "    case 4 if x % 2 == 0:\n",
    "        print(\"x % 2 == 0 and case is 4\")\n",
    "    # Empty case with if-condition\n",
    "    case _ if x < 10:\n",
    "        print(\"x is < 10\")\n",
    "    # default case(will only be matched if the above cases were not matched)\n",
    "    # so it is basically just an else:\n",
    "    case _:\n",
    "        print(x)\n",
    "```\n",
    "### Output:\n",
    "```\n",
    "x % 2 == 0 and case is 4\n",
    "```\n",
    "## [Next Lesson>>](https://replit.com/@codewithharry/17-Day17-For-Loops)"
   ]
  },
  {
   "cell_type": "code",
   "execution_count": 1,
   "metadata": {},
   "outputs": [
    {
     "name": "stdout",
     "output_type": "stream",
     "text": [
      "5 is not 90\n"
     ]
    }
   ],
   "source": [
    "\n",
    "x = int(input(\"Enter the value of x: \"))\n",
    "# x is the variable to match\n",
    "match x:\n",
    "    # if x is 0\n",
    "    case 0:\n",
    "        print(\"x is zero\")\n",
    "    # case with if-condition\n",
    "    case 4:\n",
    "        print(\"case is 4\")\n",
    "\n",
    "    case _ if x!=90:\n",
    "        print(x, \"is not 90\")\n",
    "    case _ if x!=80:\n",
    "        print(x, \"is not 80\")\n",
    "    case _:\n",
    "        print(x)"
   ]
  },
  {
   "cell_type": "code",
   "execution_count": null,
   "metadata": {},
   "outputs": [],
   "source": []
  }
 ],
 "metadata": {
  "kernelspec": {
   "display_name": "base",
   "language": "python",
   "name": "python3"
  },
  "language_info": {
   "codemirror_mode": {
    "name": "ipython",
    "version": 3
   },
   "file_extension": ".py",
   "mimetype": "text/x-python",
   "name": "python",
   "nbconvert_exporter": "python",
   "pygments_lexer": "ipython3",
   "version": "3.11.7"
  }
 },
 "nbformat": 4,
 "nbformat_minor": 2
}
