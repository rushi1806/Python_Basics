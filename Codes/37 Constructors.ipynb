{
 "cells": [
  {
   "cell_type": "markdown",
   "metadata": {},
   "source": [
    "# Constructors\n",
    "A constructor is a special method in a class used to create and initialize an object of a class. There are different types of constructors. Constructor is invoked automatically when an object of a class is created.\n",
    "\n",
    "A constructor is a unique function that gets called automatically when an object is created of a class. \n",
    "The main purpose of a constructor is to initialize or assign values to the data members of that class. It cannot return any value other than None.\n",
    "## Syntax of Python Constructor\n",
    "```python\n",
    "def __init__(self):\n",
    "\t# initializations\n",
    " ```\n",
    "init is one of the reserved functions in Python. In Object Oriented Programming, it is known as a constructor.\n",
    "\n",
    " ## Types of Constructors in Python\n",
    "1. Parameterized Constructor\n",
    "2. Default Constructor\n",
    "  \n",
    "### Parameterized Constructor in Python\n",
    "When the constructor accepts arguments along with self, it is known as parameterized constructor.\n",
    "\n",
    "These arguments can be used inside the class to assign the values to the data members. \n",
    "#### Example:\n",
    "``` python\n",
    "class Details:\n",
    "    def __init__(self, animal, group):\n",
    "        self.animal = animal\n",
    "        self.group = group\n",
    "\n",
    "obj1 = Details(\"Crab\", \"Crustaceans\")\n",
    "print(obj1.animal, \"belongs to the\", obj1.group, \"group.\")\n",
    "```\n",
    "#### Output:\n",
    "```\n",
    "Crab belongs to the Crustaceans group.\n",
    "```\n",
    "### Default Constructor in Python\n",
    "When the constructor doesn't accept any arguments from the object and has only one argument, self, in the constructor, it is known as a Default constructor.\n",
    "#### Example:\n",
    "```python\n",
    "class Details:\n",
    "  def __init__(self):\n",
    "    print(\"animal Crab belongs to Crustaceans group\")\n",
    "obj1=Details()\n",
    "```\n",
    "#### Output:\n",
    "```\n",
    "animal Crab belongs to Crustaceans group\n",
    "```\n",
    "## [Next Lesson>>](https://replit.com/@codewithharry/59-Day-59-Decorators-in-Python)"
   ]
  },
  {
   "cell_type": "code",
   "execution_count": 1,
   "metadata": {},
   "outputs": [
    {
     "name": "stdout",
     "output_type": "stream",
     "text": [
      "Hey I am a person\n",
      "Hey I am a person\n",
      "Harry is a Developer\n",
      "Divya is a HR\n"
     ]
    }
   ],
   "source": [
    "class Person:\n",
    "\n",
    "  def __init__(self, name, occ):\n",
    "    print(\"Hey I am a person\")\n",
    "    self.name = name\n",
    "    self.occ = occ\n",
    "\n",
    "  def info(self):\n",
    "    print(f\"{self.name} is a {self.occ}\")\n",
    "\n",
    "\n",
    "a = Person(\"Harry\", \"Developer\")\n",
    "b = Person(\"Divya\", \"HR\") \n",
    "a.info()\n",
    "b.info()\n",
    "# print(a.name)\n",
    "# a.name = \"Divya\"\n",
    "# a.occ = \"HR\"\n",
    "# a.info()\n"
   ]
  },
  {
   "cell_type": "code",
   "execution_count": null,
   "metadata": {},
   "outputs": [],
   "source": []
  },
  {
   "cell_type": "code",
   "execution_count": 2,
   "metadata": {},
   "outputs": [],
   "source": [
    "class Person:\n",
    "    name = \"Hrishi\"\n",
    "    Occupation = \"Software Engineer\"\n",
    "    networth = 4\n",
    "    def info(self):\n",
    "        print(f\"{self.name} is a {self.Occupation}\")"
   ]
  },
  {
   "cell_type": "code",
   "execution_count": 3,
   "metadata": {},
   "outputs": [],
   "source": [
    "a = Person()"
   ]
  },
  {
   "cell_type": "code",
   "execution_count": 4,
   "metadata": {},
   "outputs": [
    {
     "name": "stdout",
     "output_type": "stream",
     "text": [
      "Harshal is a Analyst\n"
     ]
    }
   ],
   "source": [
    "a.name = \"Harshal\"\n",
    "a.Occupation = \"Analyst\"\n",
    "a.networth = 6 \n",
    "a.info()"
   ]
  },
  {
   "cell_type": "code",
   "execution_count": 5,
   "metadata": {},
   "outputs": [],
   "source": [
    "class Person:\n",
    "    def __init__(self):\n",
    "        print(\"hey Hello\")\n",
    "    def info(self):\n",
    "        print(f\"{self.name} is a {self.Occupation}\")"
   ]
  },
  {
   "cell_type": "code",
   "execution_count": 6,
   "metadata": {},
   "outputs": [
    {
     "name": "stdout",
     "output_type": "stream",
     "text": [
      "hey Hello\n"
     ]
    }
   ],
   "source": [
    "a = Person()"
   ]
  },
  {
   "cell_type": "code",
   "execution_count": 7,
   "metadata": {},
   "outputs": [],
   "source": [
    "class Person:\n",
    "    def __init__(self, name, o):\n",
    "        print(\"Your argument pass\")\n",
    "        self.name = name\n",
    "        self.occ = o\n",
    "    def info(self):\n",
    "        print(f\"{self.name} is a {self.occ}\")"
   ]
  },
  {
   "cell_type": "code",
   "execution_count": 8,
   "metadata": {},
   "outputs": [
    {
     "name": "stdout",
     "output_type": "stream",
     "text": [
      "Your argument pass\n",
      "Your argument pass\n"
     ]
    }
   ],
   "source": [
    "a = Person(\"Hrishi\", \"Software engineer\")\n",
    "b = Person(\"Shreya\", \"Student\")"
   ]
  },
  {
   "cell_type": "code",
   "execution_count": 9,
   "metadata": {},
   "outputs": [
    {
     "name": "stdout",
     "output_type": "stream",
     "text": [
      "Hrishi is a Software engineer\n",
      "Shreya is a Student\n"
     ]
    }
   ],
   "source": [
    "a.info()\n",
    "b.info()"
   ]
  },
  {
   "cell_type": "code",
   "execution_count": 10,
   "metadata": {},
   "outputs": [],
   "source": [
    "#c = Person()"
   ]
  },
  {
   "cell_type": "code",
   "execution_count": 11,
   "metadata": {},
   "outputs": [],
   "source": [
    "class Person:\n",
    "    def __init__(self, n, o):\n",
    "        print(\"Your argument pass\")\n",
    "        self.name = n\n",
    "        self.occ = o\n",
    "    def info(self):\n",
    "        print(f\"{self.name} is a {self.occ}\")"
   ]
  },
  {
   "cell_type": "code",
   "execution_count": 12,
   "metadata": {},
   "outputs": [
    {
     "name": "stdout",
     "output_type": "stream",
     "text": [
      "Harshal is a Software engineer\n"
     ]
    }
   ],
   "source": [
    "a.name = \"Harshal\"\n",
    "a.Occupation = \"Analyst\"\n",
    "a.networth = 6 \n",
    "a.info()"
   ]
  },
  {
   "cell_type": "code",
   "execution_count": null,
   "metadata": {},
   "outputs": [],
   "source": []
  },
  {
   "cell_type": "code",
   "execution_count": null,
   "metadata": {},
   "outputs": [],
   "source": []
  }
 ],
 "metadata": {
  "kernelspec": {
   "display_name": "base",
   "language": "python",
   "name": "python3"
  },
  "language_info": {
   "codemirror_mode": {
    "name": "ipython",
    "version": 3
   },
   "file_extension": ".py",
   "mimetype": "text/x-python",
   "name": "python",
   "nbconvert_exporter": "python",
   "pygments_lexer": "ipython3",
   "version": "3.11.7"
  }
 },
 "nbformat": 4,
 "nbformat_minor": 2
}
